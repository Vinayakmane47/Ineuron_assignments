{
 "cells": [
  {
   "cell_type": "markdown",
   "id": "64b93fbb",
   "metadata": {},
   "source": [
    "## Assignment No 4 "
   ]
  },
  {
   "cell_type": "markdown",
   "id": "1201b236",
   "metadata": {},
   "source": [
    "#### Q1 : Which two operator overloading methods can you use in your classes to support iteration?"
   ]
  },
  {
   "cell_type": "markdown",
   "id": "1b3586b6",
   "metadata": {},
   "source": [
    "`iter()` and `next()` are the two methods which are used to support iteration"
   ]
  },
  {
   "cell_type": "markdown",
   "id": "5c59c8ce",
   "metadata": {},
   "source": [
    "`__iter__(self)` and `__next__(self)` "
   ]
  },
  {
   "cell_type": "markdown",
   "id": "78d939e8",
   "metadata": {},
   "source": [
    "#### Q2: In what contexts do the two operator overloading methods manage printing?"
   ]
  },
  {
   "cell_type": "markdown",
   "id": "4797ded9",
   "metadata": {},
   "source": [
    "`return` statement use for making this method iterable and we can use for loop and then `print` command  for printing any value stored in these two methods "
   ]
  },
  {
   "cell_type": "code",
   "execution_count": 2,
   "id": "068b95d7",
   "metadata": {},
   "outputs": [
    {
     "name": "stdout",
     "output_type": "stream",
     "text": [
      "5\n",
      "6\n",
      "7\n",
      "8\n",
      "9\n",
      "10\n",
      "11\n",
      "12\n",
      "13\n",
      "14\n",
      "15\n"
     ]
    }
   ],
   "source": [
    "class Counter:\n",
    "    def __init__(self, low, high):\n",
    "        self.current = low\n",
    "        self.high = high\n",
    " \n",
    "    def __iter__(self):\n",
    "        return self\n",
    " \n",
    "    def __next__(self):\n",
    "        if self.current > self.high:\n",
    "            raise StopIteration\n",
    "        else:\n",
    "            self.current += 1\n",
    "            return self.current - 1\n",
    " \n",
    " \n",
    "for num in Counter(5, 15):\n",
    "    print(num)"
   ]
  },
  {
   "cell_type": "markdown",
   "id": "b33b2a88",
   "metadata": {},
   "source": [
    "#### Q3: In a class, how do you intercept slice operations?"
   ]
  },
  {
   "cell_type": "markdown",
   "id": "62796066",
   "metadata": {},
   "source": [
    "by `__getitem__(self)` method"
   ]
  },
  {
   "cell_type": "code",
   "execution_count": null,
   "id": "9eda8017",
   "metadata": {},
   "outputs": [],
   "source": [
    "class InterceptedList(list):\n",
    "    def addSave(func):\n",
    "        def newfunc(self, *args):\n",
    "            func(self, *args)\n",
    "            print( 'saving')\n",
    "        return newfunc\n",
    "\n",
    "    __setslice__ = addSave(list.__setslice__)\n",
    "    __delslice__ = addSave(list.__delslice__)\n",
    "\n",
    "l = InterceptedList()\n",
    "l.extend([1,2,3,4])\n",
    "l\n",
    "\n",
    "l[3:] = [5] \n",
    "l"
   ]
  },
  {
   "cell_type": "markdown",
   "id": "b475f87c",
   "metadata": {},
   "source": [
    "#### Q4.In a class, how do you capture in-place addition?"
   ]
  },
  {
   "cell_type": "markdown",
   "id": "471fc1df",
   "metadata": {},
   "source": [
    "Python in its definition provides methods to perform inplace operations, i.e doing assignment and computation in a single statement using “operator” module. For example"
   ]
  },
  {
   "cell_type": "markdown",
   "id": "40d66630",
   "metadata": {},
   "source": [
    "`x += y is equivalent to x = operator.iadd(x, y) `"
   ]
  },
  {
   "cell_type": "code",
   "execution_count": 3,
   "id": "72f45ffc",
   "metadata": {},
   "outputs": [
    {
     "name": "stdout",
     "output_type": "stream",
     "text": [
      "The value after adding and assigning : 5\n",
      "The string after concatenation is : geeksforgeeks\n"
     ]
    }
   ],
   "source": [
    "# Python code to demonstrate the working of\n",
    "# iadd() and iconcat()\n",
    "\n",
    "# importing operator to handle operator operations\n",
    "import operator\n",
    "\n",
    "# using iadd() to add and assign value\n",
    "x = operator.iadd(2, 3);\n",
    "\n",
    "# printing the modified value\n",
    "print (\"The value after adding and assigning : \", end=\"\")\n",
    "print (x)\n",
    "\n",
    "# initializing values\n",
    "y = \"geeks\"\n",
    "\n",
    "z = \"forgeeks\"\n",
    "\n",
    "# using iconcat() to concat the sequences\n",
    "y = operator.iconcat(y, z)\n",
    "\n",
    "# using iconcat() to concat sequences\n",
    "print (\"The string after concatenation is : \", end=\"\")\n",
    "print (y)\n"
   ]
  },
  {
   "cell_type": "markdown",
   "id": "acfa07a3",
   "metadata": {},
   "source": [
    "#### Q5.When is it appropriate to use operator overloading?"
   ]
  },
  {
   "cell_type": "markdown",
   "id": "a850fca0",
   "metadata": {},
   "source": [
    "Operator overloading is mostly useful when you're making a new class that falls into an existing \"Abstract Base Class\" (ABC) "
   ]
  },
  {
   "cell_type": "code",
   "execution_count": null,
   "id": "5d5f3525",
   "metadata": {},
   "outputs": [],
   "source": []
  }
 ],
 "metadata": {
  "kernelspec": {
   "display_name": "Python 3 (ipykernel)",
   "language": "python",
   "name": "python3"
  },
  "language_info": {
   "codemirror_mode": {
    "name": "ipython",
    "version": 3
   },
   "file_extension": ".py",
   "mimetype": "text/x-python",
   "name": "python",
   "nbconvert_exporter": "python",
   "pygments_lexer": "ipython3",
   "version": "3.9.12"
  }
 },
 "nbformat": 4,
 "nbformat_minor": 5
}
