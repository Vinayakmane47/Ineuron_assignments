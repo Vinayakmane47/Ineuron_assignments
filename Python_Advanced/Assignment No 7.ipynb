{
 "cells": [
  {
   "cell_type": "markdown",
   "id": "e71bd8eb",
   "metadata": {},
   "source": [
    "## Assignment No 7 "
   ]
  },
  {
   "cell_type": "markdown",
   "id": "8f72d2e0",
   "metadata": {},
   "source": [
    "#### Q1. What is the purpose of the try statement?"
   ]
  },
  {
   "cell_type": "markdown",
   "id": "9fd4a7fc",
   "metadata": {},
   "source": [
    "`try` - This statement specifies a suspectable block of code , if any kind of error happend then code should not stopp working for that reason we use `try` keyword "
   ]
  },
  {
   "cell_type": "code",
   "execution_count": 1,
   "id": "c45567b8",
   "metadata": {},
   "outputs": [
    {
     "name": "stdout",
     "output_type": "stream",
     "text": [
      "division by zero\n"
     ]
    }
   ],
   "source": [
    "try : \n",
    "    a = 10 \n",
    "    b = 0 \n",
    "    print(a/b)\n",
    "    \n",
    "except Exception as e: \n",
    "    print(e)"
   ]
  },
  {
   "cell_type": "markdown",
   "id": "ec61a762",
   "metadata": {},
   "source": [
    "#### Q2.What are the two most popular try statement variations?"
   ]
  },
  {
   "cell_type": "markdown",
   "id": "1be94189",
   "metadata": {},
   "source": [
    "Variation No 1 "
   ]
  },
  {
   "cell_type": "code",
   "execution_count": 6,
   "id": "418fc4fd",
   "metadata": {},
   "outputs": [
    {
     "name": "stdout",
     "output_type": "stream",
     "text": [
      "1.0\n",
      "Hello world ! \n"
     ]
    }
   ],
   "source": [
    "try : \n",
    "    a = 10 \n",
    "    b = 10 \n",
    "    print(a/b)\n",
    "    \n",
    "except Exception as e: \n",
    "    print(e)\n",
    "    \n",
    "else : \n",
    "    print(\"Hello world ! \")"
   ]
  },
  {
   "cell_type": "markdown",
   "id": "f2ff40ae",
   "metadata": {},
   "source": [
    "Variation No 2 "
   ]
  },
  {
   "cell_type": "code",
   "execution_count": 8,
   "id": "25640e80",
   "metadata": {},
   "outputs": [
    {
     "name": "stdout",
     "output_type": "stream",
     "text": [
      "division by zero\n",
      "I am Iron man \n"
     ]
    }
   ],
   "source": [
    "try : \n",
    "    a = 10 \n",
    "    b = 0 \n",
    "    print(a/b)\n",
    "    \n",
    "except Exception as e: \n",
    "    print(e)\n",
    "    \n",
    "else : \n",
    "    print(\"Hello world ! \")\n",
    "    \n",
    "finally : \n",
    "    print(\"I am Iron man \")"
   ]
  },
  {
   "cell_type": "markdown",
   "id": "3d4c5e81",
   "metadata": {},
   "source": [
    "#### Q3.What is the purpose of the raise statement?"
   ]
  },
  {
   "cell_type": "markdown",
   "id": "43ece3d8",
   "metadata": {},
   "source": [
    "`raise` -is used to raise exceptions or errors. The raise keyword raises an error and stops the control flow of the program. It is used to bring up the current exception in an exception handler so that it can be handled further up the call stack."
   ]
  },
  {
   "cell_type": "code",
   "execution_count": 20,
   "id": "5d6661b0",
   "metadata": {},
   "outputs": [
    {
     "ename": "Exception",
     "evalue": "The error occured due to division by zero",
     "output_type": "error",
     "traceback": [
      "\u001b[1;31m---------------------------------------------------------------------------\u001b[0m",
      "\u001b[1;31mZeroDivisionError\u001b[0m                         Traceback (most recent call last)",
      "Input \u001b[1;32mIn [20]\u001b[0m, in \u001b[0;36m<cell line: 1>\u001b[1;34m()\u001b[0m\n\u001b[0;32m      3\u001b[0m     b \u001b[38;5;241m=\u001b[39m \u001b[38;5;241m0\u001b[39m \n\u001b[1;32m----> 4\u001b[0m     \u001b[38;5;28mprint\u001b[39m(\u001b[43ma\u001b[49m\u001b[38;5;241;43m/\u001b[39;49m\u001b[43mb\u001b[49m)\n\u001b[0;32m      6\u001b[0m \u001b[38;5;28;01mexcept\u001b[39;00m \u001b[38;5;167;01mException\u001b[39;00m \u001b[38;5;28;01mas\u001b[39;00m e: \n",
      "\u001b[1;31mZeroDivisionError\u001b[0m: division by zero",
      "\nDuring handling of the above exception, another exception occurred:\n",
      "\u001b[1;31mException\u001b[0m                                 Traceback (most recent call last)",
      "Input \u001b[1;32mIn [20]\u001b[0m, in \u001b[0;36m<cell line: 1>\u001b[1;34m()\u001b[0m\n\u001b[0;32m      4\u001b[0m     \u001b[38;5;28mprint\u001b[39m(a\u001b[38;5;241m/\u001b[39mb)\n\u001b[0;32m      6\u001b[0m \u001b[38;5;28;01mexcept\u001b[39;00m \u001b[38;5;167;01mException\u001b[39;00m \u001b[38;5;28;01mas\u001b[39;00m e: \n\u001b[1;32m----> 7\u001b[0m     \u001b[38;5;28;01mraise\u001b[39;00m \u001b[38;5;167;01mException\u001b[39;00m(\u001b[38;5;124mf\u001b[39m\u001b[38;5;124m\"\u001b[39m\u001b[38;5;124mThe error occured due to \u001b[39m\u001b[38;5;132;01m{\u001b[39;00me\u001b[38;5;132;01m}\u001b[39;00m\u001b[38;5;124m\"\u001b[39m)\n\u001b[0;32m      9\u001b[0m \u001b[38;5;28;01melse\u001b[39;00m : \n\u001b[0;32m     10\u001b[0m     \u001b[38;5;28mprint\u001b[39m(\u001b[38;5;124m\"\u001b[39m\u001b[38;5;124mHello world ! \u001b[39m\u001b[38;5;124m\"\u001b[39m)\n",
      "\u001b[1;31mException\u001b[0m: The error occured due to division by zero"
     ]
    }
   ],
   "source": [
    "try : \n",
    "    a = 10 \n",
    "    b = 0 \n",
    "    print(a/b)\n",
    "    \n",
    "except Exception as e: \n",
    "    raise Exception(f\"The error occured due to {e}\")\n",
    "    \n"
   ]
  },
  {
   "cell_type": "markdown",
   "id": "6d67d3dd",
   "metadata": {},
   "source": [
    "#### Q4.What does the assert statement do, and what other statement is it like?"
   ]
  },
  {
   "cell_type": "markdown",
   "id": "8575e850",
   "metadata": {},
   "source": [
    "Assertions in any programming language are the debugging tools that help in the smooth flow of code. Assertions are mainly assumptions that a programmer knows or always wants to be true and hence puts them in code so that failure of these doesn’t allow the code to execute furthe"
   ]
  },
  {
   "cell_type": "markdown",
   "id": "8c8dbee2",
   "metadata": {},
   "source": [
    "In simpler terms, we can say that assertion is the boolean expression that checks if the statement is True or False. If the statement is true then it does nothing and continues the execution, but if the statement is False then it stops the execution of the program and throws an error"
   ]
  },
  {
   "cell_type": "code",
   "execution_count": 24,
   "id": "c9d8e083",
   "metadata": {},
   "outputs": [
    {
     "ename": "AssertionError",
     "evalue": "B should not be equals to zero , otherwise it may cause ZeroDivisionError",
     "output_type": "error",
     "traceback": [
      "\u001b[1;31m---------------------------------------------------------------------------\u001b[0m",
      "\u001b[1;31mAssertionError\u001b[0m                            Traceback (most recent call last)",
      "Input \u001b[1;32mIn [24]\u001b[0m, in \u001b[0;36m<cell line: 3>\u001b[1;34m()\u001b[0m\n\u001b[0;32m      1\u001b[0m a \u001b[38;5;241m=\u001b[39m \u001b[38;5;241m10\u001b[39m \n\u001b[0;32m      2\u001b[0m b \u001b[38;5;241m=\u001b[39m \u001b[38;5;241m0\u001b[39m \n\u001b[1;32m----> 3\u001b[0m \u001b[38;5;28;01massert\u001b[39;00m b\u001b[38;5;241m!=\u001b[39m \u001b[38;5;241m0\u001b[39m , \u001b[38;5;124m\"\u001b[39m\u001b[38;5;124mB should not be equals to zero , otherwise it may cause ZeroDivisionError\u001b[39m\u001b[38;5;124m\"\u001b[39m\n\u001b[0;32m      4\u001b[0m \u001b[38;5;28mprint\u001b[39m(a)\n\u001b[0;32m      5\u001b[0m \u001b[38;5;28mprint\u001b[39m(a\u001b[38;5;241m/\u001b[39mb)\n",
      "\u001b[1;31mAssertionError\u001b[0m: B should not be equals to zero , otherwise it may cause ZeroDivisionError"
     ]
    }
   ],
   "source": [
    "a = 10 \n",
    "b = 0 \n",
    "assert b!= 0 , \"B should not be equals to zero , otherwise it may cause ZeroDivisionError\"\n",
    "print(a)\n",
    "print(a/b)"
   ]
  },
  {
   "cell_type": "markdown",
   "id": "7e82ca1b",
   "metadata": {},
   "source": [
    "#### Q5.What is the purpose of the with/as argument, and what other statement is it like?"
   ]
  },
  {
   "cell_type": "markdown",
   "id": "2e4af546",
   "metadata": {},
   "source": [
    "with statement in Python is used in exception handling to make the code cleaner and much more readable. It simplifies the management of common resources like file streams. Observe the following code example on how the use of with statement makes code cleaner."
   ]
  },
  {
   "cell_type": "code",
   "execution_count": 26,
   "id": "880d37a5",
   "metadata": {},
   "outputs": [],
   "source": [
    "with open('file_path.txt', 'w') as file:\n",
    "    file.write('hello world !')\n",
    "    \n",
    "    \n",
    "# Here no need to close the file , it will get automatically closed after code in with block execute"
   ]
  },
  {
   "cell_type": "markdown",
   "id": "94c0d131",
   "metadata": {},
   "source": [
    "`as` - This is alias in pythos and it is used for making a  short form of some file or modules"
   ]
  },
  {
   "cell_type": "code",
   "execution_count": 27,
   "id": "4ad8a608",
   "metadata": {},
   "outputs": [],
   "source": [
    "import pandas as pd "
   ]
  },
  {
   "cell_type": "code",
   "execution_count": null,
   "id": "d0392b36",
   "metadata": {},
   "outputs": [],
   "source": []
  }
 ],
 "metadata": {
  "kernelspec": {
   "display_name": "Python 3 (ipykernel)",
   "language": "python",
   "name": "python3"
  },
  "language_info": {
   "codemirror_mode": {
    "name": "ipython",
    "version": 3
   },
   "file_extension": ".py",
   "mimetype": "text/x-python",
   "name": "python",
   "nbconvert_exporter": "python",
   "pygments_lexer": "ipython3",
   "version": "3.9.12"
  }
 },
 "nbformat": 4,
 "nbformat_minor": 5
}
