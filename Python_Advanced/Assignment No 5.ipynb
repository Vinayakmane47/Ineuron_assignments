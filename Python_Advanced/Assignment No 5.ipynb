{
 "cells": [
  {
   "cell_type": "markdown",
   "id": "89b42bbb",
   "metadata": {},
   "source": [
    "## Assignment No 5"
   ]
  },
  {
   "cell_type": "markdown",
   "id": "144fa165",
   "metadata": {},
   "source": [
    "#### Q1: What is the meaning of multiple inheritance?"
   ]
  },
  {
   "cell_type": "markdown",
   "id": "6343eac3",
   "metadata": {},
   "source": [
    "When a class is derived from more than one base class it is called multiple Inheritance. The derived class inherits all the features of the base case"
   ]
  },
  {
   "attachments": {
    "image.png": {
     "image/png": "[encoded data removed]"
    }
   },
   "cell_type": "markdown",
   "id": "23b714d4",
   "metadata": {},
   "source": [
    "![image.png](attachment:image.png)"
   ]
  },
  {
   "cell_type": "code",
   "execution_count": 6,
   "id": "cfe7d577",
   "metadata": {},
   "outputs": [
    {
     "name": "stdout",
     "output_type": "stream",
     "text": [
      "This object belongs to University \n",
      "This Object belongs to Student Category\n",
      "This Method is for person\n"
     ]
    }
   ],
   "source": [
    "class University : \n",
    "    def fun1(self): \n",
    "        print(\"This object belongs to University \")\n",
    "        \n",
    "class Student: \n",
    "    def fun2(self): \n",
    "        print(\"This Object belongs to Student Category\")\n",
    "        \n",
    "class Person(University,Student): \n",
    "    def func(self): \n",
    "        print(\"This Method is for person\")\n",
    "        \n",
    "obj1 = Person()\n",
    "\n",
    "obj1.fun1() \n",
    "obj1.fun2()\n",
    "obj1.func()"
   ]
  },
  {
   "cell_type": "markdown",
   "id": "1c563559",
   "metadata": {},
   "source": [
    "#### Q2. What is the concept of delegation?"
   ]
  },
  {
   "cell_type": "markdown",
   "id": "c7ccfca6",
   "metadata": {},
   "source": [
    "he delegation pattern is an object-oriented design pattern that allows object composition to achieve the same code reuse as inheritance"
   ]
  },
  {
   "cell_type": "markdown",
   "id": "d5f4e233",
   "metadata": {},
   "source": [
    "#### Q3.What is the concept of composition?"
   ]
  },
  {
   "cell_type": "markdown",
   "id": "2bdae032",
   "metadata": {},
   "source": [
    "Composition is a concept that models a has a relationship. It enables creating complex types by combining objects of other types. This means that a class Composite can contain an object of another class Component. This relationship means that a Composite has a Component"
   ]
  },
  {
   "cell_type": "markdown",
   "id": "e832b70e",
   "metadata": {},
   "source": [
    "Composition enables you to reuse code by adding objects to other objects, as opposed to inheriting the interface and implementation of other classes. Both Horse and Dog classes can leverage the functionality of Tail through composition without deriving one class from the other."
   ]
  },
  {
   "cell_type": "markdown",
   "id": "01afb503",
   "metadata": {},
   "source": [
    "#### Q4.What are bound methods and how do we use them?"
   ]
  },
  {
   "cell_type": "markdown",
   "id": "3a27d125",
   "metadata": {},
   "source": [
    "A bound method is the one which is dependent on the instance of the class as the first argument. It passes the instance as the first argument which is used to access the variables and functions"
   ]
  },
  {
   "cell_type": "code",
   "execution_count": 7,
   "id": "5a944f0d",
   "metadata": {},
   "outputs": [
    {
     "name": "stdout",
     "output_type": "stream",
     "text": [
      "<bound method A.func of <__main__.A object at 0x0000023AA4267340>>\n"
     ]
    }
   ],
   "source": [
    "# Python code to demonstrate\n",
    "# use of bound methods\n",
    "\n",
    "class A:\n",
    "\n",
    "\tdef func(self, arg):\n",
    "\t\tself.arg = arg\n",
    "\t\tprint(\"Value of arg = \", arg)\n",
    "\n",
    "\n",
    "# Creating an instance\n",
    "obj = A()\n",
    "\n",
    "# bound method\n",
    "print(obj.func)\n"
   ]
  },
  {
   "cell_type": "markdown",
   "id": "6dc7653b",
   "metadata": {},
   "source": [
    "#### Q5.What is the purpose of pseudoprivate attributes?"
   ]
  },
  {
   "cell_type": "markdown",
   "id": "69bad50b",
   "metadata": {},
   "source": [
    "Pseudoprivate attributes are also useful in larger frameworks or tools, both to avoid introducing new method names that might accidentally hide definitions elsewhere in the class tree and to reduce the chance of internal methods being replaced by names defined lower in the tree"
   ]
  },
  {
   "cell_type": "code",
   "execution_count": null,
   "id": "ac5c65e5",
   "metadata": {},
   "outputs": [],
   "source": []
  }
 ],
 "metadata": {
  "kernelspec": {
   "display_name": "Python 3 (ipykernel)",
   "language": "python",
   "name": "python3"
  },
  "language_info": {
   "codemirror_mode": {
    "name": "ipython",
    "version": 3
   },
   "file_extension": ".py",
   "mimetype": "text/x-python",
   "name": "python",
   "nbconvert_exporter": "python",
   "pygments_lexer": "ipython3",
   "version": "3.9.12"
  }
 },
 "nbformat": 4,
 "nbformat_minor": 5
}
