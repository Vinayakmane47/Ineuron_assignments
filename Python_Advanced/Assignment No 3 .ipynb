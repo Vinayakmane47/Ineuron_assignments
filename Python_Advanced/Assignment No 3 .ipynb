{
 "cells": [
  {
   "cell_type": "markdown",
   "id": "3315df6d",
   "metadata": {},
   "source": [
    "## Assignment No 3 "
   ]
  },
  {
   "cell_type": "markdown",
   "id": "b1d75397",
   "metadata": {},
   "source": [
    "#### Q1.What is the concept of an abstract superclass?"
   ]
  },
  {
   "cell_type": "markdown",
   "id": "b523f665",
   "metadata": {},
   "source": [
    "An abstract superclass is one way to provide re-usable code. You can extend the abstract class and inherit the code. This is sometimes more convenient than using static methods or object composition to share code. The abstract class can \"fix\" parts of the code (by making it final)."
   ]
  },
  {
   "cell_type": "markdown",
   "id": "c61c9ad5",
   "metadata": {},
   "source": [
    "#### Q2.What happens when a class statement&#39;s top level contains a basic assignment statement?"
   ]
  },
  {
   "cell_type": "markdown",
   "id": "52e9f728",
   "metadata": {},
   "source": [
    "if class statements top level contains a basic assignment statement then it becomes global variable and can be accesed anywhere in class in any specified methods "
   ]
  },
  {
   "cell_type": "markdown",
   "id": "7b9f5fca",
   "metadata": {},
   "source": [
    "#### Q3.Why does a class need to manually call a superclass&#39;s `__init__` method?"
   ]
  },
  {
   "cell_type": "markdown",
   "id": "3568bbbc",
   "metadata": {},
   "source": [
    "The main reason for always calling base class _init__ is that base class may typically create member variable and initialize them to defaults. So if you don't call base class init, none of that code would be executed and you would end up with base class that has no member variables"
   ]
  },
  {
   "cell_type": "markdown",
   "id": "09751075",
   "metadata": {},
   "source": [
    "#### Q4.How can you augment, instead of completely replacing, an inherited method?"
   ]
  },
  {
   "cell_type": "code",
   "execution_count": 3,
   "id": "c093fa7f",
   "metadata": {},
   "outputs": [
    {
     "name": "stdout",
     "output_type": "stream",
     "text": [
      "*******************************************************************************\n"
     ]
    },
    {
     "data": {
      "text/plain": [
       "<map at 0x18ed2a519a0>"
      ]
     },
     "execution_count": 3,
     "metadata": {},
     "output_type": "execute_result"
    }
   ],
   "source": [
    "class Spam:\n",
    "    def update(self):\n",
    "        print('updating spam!')\n",
    "\n",
    "class SpamLite(Spam):\n",
    "    def update(self):\n",
    "        print('this spam is lite!')\n",
    "        Spam.update(self)\n",
    "\n",
    "def poison(spam):\n",
    "    tmp = spam.update # it is a bound method that doesn't take any arguments\n",
    "    def newUpdate():\n",
    "        print ('this spam has been poisoned!')\n",
    "        tmp()\n",
    "    spam.update = newUpdate\n",
    "\n",
    "\n",
    "from operator import methodcaller    \n",
    "L = [Spam(), SpamLite()]\n",
    "map(methodcaller('update'), L)\n",
    "map(poison, L)\n",
    "print (\"*\"*79)\n",
    "map(methodcaller('update'), L)"
   ]
  },
  {
   "cell_type": "markdown",
   "id": "9b4b036b",
   "metadata": {},
   "source": [
    "#### Q5. How is the local scope of a class different from that of a function?"
   ]
  },
  {
   "cell_type": "markdown",
   "id": "a7e312d6",
   "metadata": {},
   "source": [
    "A variable created inside a function belongs to the local scope of that function, and can only be used inside that function"
   ]
  },
  {
   "cell_type": "markdown",
   "id": "0bcc654d",
   "metadata": {},
   "source": [
    "A variable which is created  inside a class can be available  in its methods."
   ]
  },
  {
   "cell_type": "code",
   "execution_count": null,
   "id": "be7fe9c9",
   "metadata": {},
   "outputs": [],
   "source": []
  }
 ],
 "metadata": {
  "kernelspec": {
   "display_name": "Python 3 (ipykernel)",
   "language": "python",
   "name": "python3"
  },
  "language_info": {
   "codemirror_mode": {
    "name": "ipython",
    "version": 3
   },
   "file_extension": ".py",
   "mimetype": "text/x-python",
   "name": "python",
   "nbconvert_exporter": "python",
   "pygments_lexer": "ipython3",
   "version": "3.9.12"
  }
 },
 "nbformat": 4,
 "nbformat_minor": 5
}
