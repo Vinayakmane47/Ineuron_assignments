{
 "cells": [
  {
   "cell_type": "markdown",
   "id": "4513f089",
   "metadata": {},
   "source": [
    "## Assignment No 1 "
   ]
  },
  {
   "cell_type": "markdown",
   "id": "78196cbb",
   "metadata": {},
   "source": [
    "#### Q1.What is the purpose of Python&#39;s OOP?"
   ]
  },
  {
   "cell_type": "markdown",
   "id": "34523d45",
   "metadata": {},
   "source": [
    "In Python, object-oriented Programming (OOPs) is a programming paradigm that uses objects and classes in programming. It aims to implement real-world entities like inheritance, polymorphisms, encapsulation, etc. in the programming.The main concept of OOPs is to bind the data and the functions that work on that together as a single unit so that no other part of the code can access this data."
   ]
  },
  {
   "cell_type": "markdown",
   "id": "d87dffb6",
   "metadata": {},
   "source": [
    "#### Q2.Where does an inheritance search look for an attribute?"
   ]
  },
  {
   "cell_type": "markdown",
   "id": "62e3c34a",
   "metadata": {},
   "source": [
    "from bottom to top and left to right in all classes above it "
   ]
  },
  {
   "cell_type": "markdown",
   "id": "4c7cf9b6",
   "metadata": {},
   "source": [
    "Find the first occurrence of attribute by looking in object, then in all classes above it, from bottom to top and left to right.\n",
    "\n",
    "In other words, attribute fetches are simply tree searches. The term inheritance is applied because objects lower in a tree inherit attributes attached to objects higher in that tree. As the search proceeds from the bottom up, in a sense, the objects linked into a tree are the union of all the attributes defined in all their tree parents, all the way up the tree."
   ]
  },
  {
   "cell_type": "markdown",
   "id": "15ff7b92",
   "metadata": {},
   "source": [
    "#### Q3.How do you distinguish between a class object and an instance object?"
   ]
  },
  {
   "cell_type": "markdown",
   "id": "3892a066",
   "metadata": {},
   "source": [
    "Class is a detailed description, the definition, and the template of what an object will be. But it is not the object itself. Also, what we call, a class is the building block that leads to Object-Oriented Programming. It is a user-defined data type, that holds its own data members and member functions, which can be accessed and used by creating an instance of that class. It is the blueprint of any object. Once we have written a class and defined it, we can use it to create as many objects based on that class as we want."
   ]
  },
  {
   "cell_type": "markdown",
   "id": "99056b7f",
   "metadata": {},
   "source": [
    "Object is an instance of a class. All data members and member functions of the class can be accessed with the help of objects. When a class is defined, no memory is allocated, but memory is allocated when it is instantiated (i.e. an object is created). For Example, considering the objects for the class Account are SBI Account, ICICI account, etc."
   ]
  },
  {
   "cell_type": "markdown",
   "id": "e6345997",
   "metadata": {},
   "source": [
    "#### Q4.What makes the first argument in a class’s method function special?"
   ]
  },
  {
   "cell_type": "markdown",
   "id": "15d4f175",
   "metadata": {},
   "source": [
    "The first argument of every class method, including init, is always a reference to the current instance of the class. By convention, this argument is always named self. In the init method, self refers to the newly created object; in other class methods, it refers to the instance whose method was called"
   ]
  },
  {
   "cell_type": "markdown",
   "id": "70d8f237",
   "metadata": {},
   "source": [
    "#### Q5.What is the purpose of the __init__ method?"
   ]
  },
  {
   "cell_type": "markdown",
   "id": "1b77d40c",
   "metadata": {},
   "source": [
    "The __init__ method is the Python equivalent of the C++ constructor in an object-oriented approach. The __init__ function is called every time an object is created from a class. The __init__ method lets the class initialize the object's attributes and serves no other purpose. It is only used within classes"
   ]
  },
  {
   "cell_type": "markdown",
   "id": "52d5616e",
   "metadata": {},
   "source": [
    "#### Q6.What is the process for creating a class instance?"
   ]
  },
  {
   "cell_type": "markdown",
   "id": "3f4d296d",
   "metadata": {},
   "source": [
    "The first method __init__() is a special method, which is called class constructor or initialization method that Python calls when you create a new instance of this class. You declare other class methods like normal functions with the exception that the first argument to each method is self."
   ]
  },
  {
   "cell_type": "code",
   "execution_count": 1,
   "id": "c2e81550",
   "metadata": {},
   "outputs": [
    {
     "name": "stdout",
     "output_type": "stream",
     "text": [
      "Vinayak\n"
     ]
    }
   ],
   "source": [
    "# Example : \n",
    "class Student: \n",
    "    \n",
    "    def __init__(self,name): \n",
    "        print(name)\n",
    "        \n",
    "st1 = Student(\"Vinayak\")        "
   ]
  },
  {
   "cell_type": "markdown",
   "id": "9554b9f6",
   "metadata": {},
   "source": [
    "#### Q7.What is the process for creating a class?"
   ]
  },
  {
   "cell_type": "markdown",
   "id": "01efc951",
   "metadata": {},
   "source": [
    "with keyword called `class`"
   ]
  },
  {
   "cell_type": "code",
   "execution_count": 2,
   "id": "5bafcf36",
   "metadata": {},
   "outputs": [
    {
     "name": "stdout",
     "output_type": "stream",
     "text": [
      "Vinayak\n"
     ]
    }
   ],
   "source": [
    "# Example : \n",
    "class Student: \n",
    "    \n",
    "    def __init__(self,name): \n",
    "        print(name)\n",
    "        \n",
    "st1 = Student(\"Vinayak\")   "
   ]
  },
  {
   "cell_type": "markdown",
   "id": "83c7e95d",
   "metadata": {},
   "source": [
    "#### Q8.How would you define the superclasses of a class?"
   ]
  },
  {
   "cell_type": "markdown",
   "id": "66954d94",
   "metadata": {},
   "source": [
    "A superclass is the class from which many subclasses can be created. The subclasses inherit the characteristics of a superclass. The superclass is also known as the parent class or base class"
   ]
  },
  {
   "cell_type": "code",
   "execution_count": 7,
   "id": "e97a8f2d",
   "metadata": {},
   "outputs": [
    {
     "name": "stdout",
     "output_type": "stream",
     "text": [
      "COEP\n"
     ]
    }
   ],
   "source": [
    "# Example : \n",
    "class College : \n",
    "    def coll_name(n): \n",
    "        print(n)\n",
    "    \n",
    "    \n",
    "class Student(College) : \n",
    "    def name(n): \n",
    "        print(n)\n",
    "class Proffessor(College): \n",
    "    def name (n): \n",
    "        print(n)\n",
    "            \n",
    "# crteating an object \n",
    "\n",
    "Person1 = College\n",
    "Person2 = Student\n",
    "Person2.coll_name(\"COEP\")"
   ]
  },
  {
   "cell_type": "markdown",
   "id": "722928ff",
   "metadata": {},
   "source": [
    "Here College is superclass"
   ]
  },
  {
   "cell_type": "code",
   "execution_count": null,
   "id": "e16c79d2",
   "metadata": {},
   "outputs": [],
   "source": []
  }
 ],
 "metadata": {
  "kernelspec": {
   "display_name": "Python 3 (ipykernel)",
   "language": "python",
   "name": "python3"
  },
  "language_info": {
   "codemirror_mode": {
    "name": "ipython",
    "version": 3
   },
   "file_extension": ".py",
   "mimetype": "text/x-python",
   "name": "python",
   "nbconvert_exporter": "python",
   "pygments_lexer": "ipython3",
   "version": "3.9.12"
  }
 },
 "nbformat": 4,
 "nbformat_minor": 5
}
