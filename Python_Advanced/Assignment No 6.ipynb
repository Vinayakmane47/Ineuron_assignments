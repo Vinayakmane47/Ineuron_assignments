{
 "cells": [
  {
   "cell_type": "markdown",
   "id": "6c0f3f97",
   "metadata": {},
   "source": [
    "## Assignment No 6"
   ]
  },
  {
   "cell_type": "markdown",
   "id": "7d75d30f",
   "metadata": {},
   "source": [
    "#### Q1: Describe three applications for exception processing."
   ]
  },
  {
   "cell_type": "markdown",
   "id": "58513349",
   "metadata": {},
   "source": [
    "Example No 1 : "
   ]
  },
  {
   "cell_type": "code",
   "execution_count": 8,
   "id": "130cafb6",
   "metadata": {},
   "outputs": [
    {
     "name": "stdout",
     "output_type": "stream",
     "text": [
      "division by zero   : Please enter Non Zero Numbers\n"
     ]
    }
   ],
   "source": [
    "try : \n",
    "    a = 50 \n",
    "    b = 0\n",
    "    print(a/b)\n",
    "except ZeroDivisionError as e : \n",
    "    print(e , \"  : Please enter Non Zero Numbers\")"
   ]
  },
  {
   "cell_type": "markdown",
   "id": "5b28d9af",
   "metadata": {},
   "source": [
    "Example 2 : "
   ]
  },
  {
   "cell_type": "code",
   "execution_count": 10,
   "id": "b57ceca7",
   "metadata": {},
   "outputs": [
    {
     "name": "stdout",
     "output_type": "stream",
     "text": [
      "unsupported operand type(s) for /: 'int' and 'str'  :  Please enter a valid variable \n"
     ]
    }
   ],
   "source": [
    "try : \n",
    "    a = 20 \n",
    "    b = \"Vinayak\"\n",
    "    print(a/b)\n",
    "except TypeError as e : \n",
    "    print(e , \" :  Please enter a valid variable \")"
   ]
  },
  {
   "cell_type": "markdown",
   "id": "f2d05981",
   "metadata": {},
   "source": [
    "Example No 3 : "
   ]
  },
  {
   "cell_type": "code",
   "execution_count": 13,
   "id": "6cd167d8",
   "metadata": {},
   "outputs": [
    {
     "name": "stdout",
     "output_type": "stream",
     "text": [
      "'int' object has no attribute 'append' : Please Enter valid operation for variable\n"
     ]
    }
   ],
   "source": [
    "try :\n",
    "    x = 120 \n",
    "    print(x.append(20))\n",
    "except AttributeError as e : \n",
    "    print(e , \": Please Enter valid operation for variable\")\n",
    "    "
   ]
  },
  {
   "cell_type": "markdown",
   "id": "4e690e3f",
   "metadata": {},
   "source": [
    "#### Q2.What happens if you don&#39;t do something extra to treat an exception?"
   ]
  },
  {
   "cell_type": "markdown",
   "id": "4feab77b",
   "metadata": {},
   "source": [
    "the program terminates abruptly and the code past the line that caused the exception will not get executed"
   ]
  },
  {
   "cell_type": "markdown",
   "id": "3e14c28d",
   "metadata": {},
   "source": [
    "#### Q3.What are your options for recovering from an exception in your script?"
   ]
  },
  {
   "cell_type": "markdown",
   "id": "eb0a07b7",
   "metadata": {},
   "source": [
    "we use `except` block to handle exception "
   ]
  },
  {
   "cell_type": "code",
   "execution_count": 14,
   "id": "5073804d",
   "metadata": {},
   "outputs": [
    {
     "name": "stdout",
     "output_type": "stream",
     "text": [
      "division by zero   : Please enter Non Zero Numbers\n"
     ]
    }
   ],
   "source": [
    "try : \n",
    "    a = 50 \n",
    "    b = 0\n",
    "    print(a/b)\n",
    "except ZeroDivisionError as e : \n",
    "    print(e , \"  : Please enter Non Zero Numbers\")"
   ]
  },
  {
   "cell_type": "markdown",
   "id": "1617c18f",
   "metadata": {},
   "source": [
    "#### Q4.Describe two methods for triggering exceptions in your script."
   ]
  },
  {
   "cell_type": "markdown",
   "id": "06b8b69b",
   "metadata": {},
   "source": [
    "`Try` – This method catches the exceptions raised by the program. \n",
    "`Raise` – Triggers an exception manually using custom exceptions"
   ]
  },
  {
   "cell_type": "markdown",
   "id": "05e3c14f",
   "metadata": {},
   "source": [
    "#### Q5. Identify two methods for specifying actions to be executed at termination time, regardless of whether or not an exception exists."
   ]
  },
  {
   "cell_type": "markdown",
   "id": "fa3c365c",
   "metadata": {},
   "source": [
    "`finally` - with this keyword we can specify a certain which will execute whether exception is raise or not"
   ]
  },
  {
   "cell_type": "code",
   "execution_count": 15,
   "id": "03e1f37f",
   "metadata": {},
   "outputs": [
    {
     "name": "stdout",
     "output_type": "stream",
     "text": [
      "division by zero   : Please enter Non Zero Numbers\n",
      "I am Iron man \n"
     ]
    }
   ],
   "source": [
    "try : \n",
    "    a = 50 \n",
    "    b = 0\n",
    "    print(a/b)\n",
    "except ZeroDivisionError as e : \n",
    "    print(e , \"  : Please enter Non Zero Numbers\")\n",
    "    \n",
    "finally : \n",
    "    print(\"I am Iron man \")"
   ]
  },
  {
   "cell_type": "code",
   "execution_count": null,
   "id": "7b44fd83",
   "metadata": {},
   "outputs": [],
   "source": []
  }
 ],
 "metadata": {
  "kernelspec": {
   "display_name": "Python 3 (ipykernel)",
   "language": "python",
   "name": "python3"
  },
  "language_info": {
   "codemirror_mode": {
    "name": "ipython",
    "version": 3
   },
   "file_extension": ".py",
   "mimetype": "text/x-python",
   "name": "python",
   "nbconvert_exporter": "python",
   "pygments_lexer": "ipython3",
   "version": "3.9.12"
  }
 },
 "nbformat": 4,
 "nbformat_minor": 5
}
