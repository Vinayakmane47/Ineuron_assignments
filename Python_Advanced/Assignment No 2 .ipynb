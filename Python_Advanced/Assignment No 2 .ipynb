{
 "cells": [
  {
   "cell_type": "markdown",
   "id": "bdfb8c06",
   "metadata": {},
   "source": [
    "## Assignment No 1 "
   ]
  },
  {
   "cell_type": "markdown",
   "id": "7584b55f",
   "metadata": {},
   "source": [
    "#### Q1.What is the relationship between classes and modules?"
   ]
  },
  {
   "cell_type": "markdown",
   "id": "8f2a82e8",
   "metadata": {},
   "source": [
    "Modules are collections of methods and constants. They cannot generate instances. Classes may generate instances (objects), and have per-instance state (instance variables).\n",
    "\n",
    "Modules may be mixed in to classes and other modules. The mixed in module’s constants and methods blend into that class’s own, augmenting the class’s functionality. Classes, however, cannot be mixed in to anything"
   ]
  },
  {
   "cell_type": "markdown",
   "id": "526f5f5e",
   "metadata": {},
   "source": [
    "#### Q2.How do you make instances and classes?"
   ]
  },
  {
   "cell_type": "markdown",
   "id": "e2fc0993",
   "metadata": {},
   "source": [
    "To create instances of a class, we can call the class using class name and pass in whatever arguments its __init__ method accepts.\n"
   ]
  },
  {
   "cell_type": "markdown",
   "id": "39baa56a",
   "metadata": {},
   "source": [
    "#### Q3.Where and how should be class attributes created?"
   ]
  },
  {
   "cell_type": "markdown",
   "id": "b5665daa",
   "metadata": {},
   "source": [
    "Class attributes are attributes which are owned by the class itself. They will be shared by all the instances of the class. Therefore they have the same value for every instance. We define class attributes outside all the methods, usually they are placed at the top, right below the class header."
   ]
  },
  {
   "cell_type": "markdown",
   "id": "32dd1cc1",
   "metadata": {},
   "source": [
    "#### Q4. Where and how are instance attributes created?"
   ]
  },
  {
   "cell_type": "markdown",
   "id": "b37855c5",
   "metadata": {},
   "source": [
    "Instance attributes are attributes or properties attached to an instance of a class. Instance attributes are defined in the constructor. Defined directly inside a class. Defined inside a constructor using the self parameter"
   ]
  },
  {
   "cell_type": "markdown",
   "id": "b94051de",
   "metadata": {},
   "source": [
    "#### Q5.What does the term &quot;self&quot; in a Python class mean?"
   ]
  },
  {
   "cell_type": "markdown",
   "id": "d363d080",
   "metadata": {},
   "source": [
    "self represents the instance of the class. By using the “self”  we can access the attributes and methods of the class in python. It binds the attributes with the given arguments.\n",
    "The reason you need to use self. is because Python does not use the @ syntax to refer to instance attributes. Python decided to do methods in a way that makes the instance to which the method belongs be passed automatically, but not received automatically: the first parameter of methods is the instance the method is called on."
   ]
  },
  {
   "cell_type": "markdown",
   "id": "257a544d",
   "metadata": {},
   "source": [
    "#### Q6.How does a Python class handle operator overloading?"
   ]
  },
  {
   "cell_type": "markdown",
   "id": "4c798cba",
   "metadata": {},
   "source": [
    "Operator Overloading means giving extended meaning beyond their predefined operational meaning. For example operator + is used to add two integers as well as join two strings and merge two lists. It is achievable because '+' operator is overloaded by int class and str class"
   ]
  },
  {
   "cell_type": "markdown",
   "id": "21c02d5c",
   "metadata": {},
   "source": [
    "#### Q7. When do you consider allowing operator overloading of your classes?"
   ]
  },
  {
   "cell_type": "markdown",
   "id": "38cb0fed",
   "metadata": {},
   "source": [
    "Consider that we have two objects which are a physical representation of a class (user-defined data type) and we have to add two objects with binary '+' operator it throws an error, because compiler don't know how to add two objects. So we define a method for an operator and that process is called operator overloading"
   ]
  },
  {
   "cell_type": "markdown",
   "id": "48b57164",
   "metadata": {},
   "source": [
    "#### Q8. What is the most popular form of operator overloading?"
   ]
  },
  {
   "cell_type": "markdown",
   "id": "cf152f0d",
   "metadata": {},
   "source": [
    "A very popular and convenient example is the Addition (+) operator. Just think how the '+' operator operates on two numbers and the same operator operates on two strings. It performs “Addition” on numbers whereas it performs “Concatenation” on strings."
   ]
  },
  {
   "cell_type": "markdown",
   "id": "dbfd74bf",
   "metadata": {},
   "source": [
    "#### Q9.What are the two most important concepts to grasp in order to comprehend Python OOP code?"
   ]
  },
  {
   "cell_type": "markdown",
   "id": "8ef13930",
   "metadata": {},
   "source": [
    "two key concepts of OOP which are `inheritance` and `polymorphism`."
   ]
  },
  {
   "cell_type": "code",
   "execution_count": null,
   "id": "024943e7",
   "metadata": {},
   "outputs": [],
   "source": []
  }
 ],
 "metadata": {
  "kernelspec": {
   "display_name": "Python 3 (ipykernel)",
   "language": "python",
   "name": "python3"
  },
  "language_info": {
   "codemirror_mode": {
    "name": "ipython",
    "version": 3
   },
   "file_extension": ".py",
   "mimetype": "text/x-python",
   "name": "python",
   "nbconvert_exporter": "python",
   "pygments_lexer": "ipython3",
   "version": "3.9.12"
  }
 },
 "nbformat": 4,
 "nbformat_minor": 5
}
