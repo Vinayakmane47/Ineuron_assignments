{
 "cells": [
  {
   "cell_type": "markdown",
   "id": "e15bf790",
   "metadata": {},
   "source": [
    "## Assignment No 8"
   ]
  },
  {
   "cell_type": "markdown",
   "id": "c66e2857",
   "metadata": {},
   "source": [
    "#### Q1.What are the two latest user-defined exception constraints in Python 3.X?"
   ]
  },
  {
   "cell_type": "code",
   "execution_count": 4,
   "id": "3c44fbab",
   "metadata": {},
   "outputs": [
    {
     "name": "stdout",
     "output_type": "stream",
     "text": [
      "A New Exception occured: User defined error\n"
     ]
    }
   ],
   "source": [
    "class User_Error(Exception):\n",
    "\n",
    "    def __init__(self, value):\n",
    "        self.value = value\n",
    "\n",
    "    def __str__(self):\n",
    "        return(repr(self.value))\n",
    "try:\n",
    "    raise(User_Error(\"User defined error\"))\n",
    "except User_Error as error:\n",
    "    print('A New Exception occured:',error.value)"
   ]
  },
  {
   "cell_type": "code",
   "execution_count": 1,
   "id": "b887baa0",
   "metadata": {},
   "outputs": [
    {
     "name": "stdout",
     "output_type": "stream",
     "text": [
      "('u', 's', 'e', 'r', 'E', 'r', 'r', 'o', 'r')\n"
     ]
    }
   ],
   "source": [
    "class Usererror(RuntimeError):\n",
    "    def __init__(self, arg):\n",
    "        self.args = arg\n",
    "try:\n",
    "    raise Usererror(\"userError\")\n",
    "except Usererror as e:\n",
    "    print (e.args)"
   ]
  },
  {
   "cell_type": "markdown",
   "id": "eec97a23",
   "metadata": {},
   "source": [
    "#### Q2.How are class-based exceptions that have been raised matched to handlers?"
   ]
  },
  {
   "cell_type": "markdown",
   "id": "3cd38059",
   "metadata": {},
   "source": [
    "A class-based exception can either cancel the current context or allow for a resume. Exceptions are raised using the statement RAISE EXCEPTION and handled using CATCH in a TRY control structure. Class-based exceptions can be raised in any procedures and can be further propagated by any procedures."
   ]
  },
  {
   "cell_type": "markdown",
   "id": "4fe90c68",
   "metadata": {},
   "source": [
    "#### Q3.Describe two methods for attaching context information to exception artefacts."
   ]
  },
  {
   "cell_type": "markdown",
   "id": "081931a8",
   "metadata": {},
   "source": [
    "Method 1 "
   ]
  },
  {
   "cell_type": "code",
   "execution_count": 6,
   "id": "cd53d50e",
   "metadata": {},
   "outputs": [
    {
     "ename": "Exception",
     "evalue": "Exception is raised due to division by zero",
     "output_type": "error",
     "traceback": [
      "\u001b[1;31m---------------------------------------------------------------------------\u001b[0m",
      "\u001b[1;31mZeroDivisionError\u001b[0m                         Traceback (most recent call last)",
      "Input \u001b[1;32mIn [6]\u001b[0m, in \u001b[0;36m<cell line: 1>\u001b[1;34m()\u001b[0m\n\u001b[0;32m      3\u001b[0m     b \u001b[38;5;241m=\u001b[39m \u001b[38;5;241m0\u001b[39m\n\u001b[1;32m----> 4\u001b[0m     \u001b[38;5;28mprint\u001b[39m(\u001b[43ma\u001b[49m\u001b[38;5;241;43m/\u001b[39;49m\u001b[43mb\u001b[49m)\n\u001b[0;32m      6\u001b[0m \u001b[38;5;28;01mexcept\u001b[39;00m \u001b[38;5;167;01mException\u001b[39;00m \u001b[38;5;28;01mas\u001b[39;00m e : \n",
      "\u001b[1;31mZeroDivisionError\u001b[0m: division by zero",
      "\nDuring handling of the above exception, another exception occurred:\n",
      "\u001b[1;31mException\u001b[0m                                 Traceback (most recent call last)",
      "Input \u001b[1;32mIn [6]\u001b[0m, in \u001b[0;36m<cell line: 1>\u001b[1;34m()\u001b[0m\n\u001b[0;32m      4\u001b[0m     \u001b[38;5;28mprint\u001b[39m(a\u001b[38;5;241m/\u001b[39mb)\n\u001b[0;32m      6\u001b[0m \u001b[38;5;28;01mexcept\u001b[39;00m \u001b[38;5;167;01mException\u001b[39;00m \u001b[38;5;28;01mas\u001b[39;00m e : \n\u001b[1;32m----> 7\u001b[0m     \u001b[38;5;28;01mraise\u001b[39;00m \u001b[38;5;167;01mException\u001b[39;00m(\u001b[38;5;124mf\u001b[39m\u001b[38;5;124m\"\u001b[39m\u001b[38;5;124mException is raised due to \u001b[39m\u001b[38;5;132;01m{\u001b[39;00me\u001b[38;5;132;01m}\u001b[39;00m\u001b[38;5;124m\"\u001b[39m)\n",
      "\u001b[1;31mException\u001b[0m: Exception is raised due to division by zero"
     ]
    }
   ],
   "source": [
    "try : \n",
    "    a = 10 \n",
    "    b = 0\n",
    "    print(a/b)\n",
    "    \n",
    "except Exception as e : \n",
    "    raise Exception(f\"Exception is raised due to {e}\")"
   ]
  },
  {
   "cell_type": "markdown",
   "id": "6217dcb6",
   "metadata": {},
   "source": [
    "Method  2 "
   ]
  },
  {
   "cell_type": "code",
   "execution_count": 14,
   "id": "d4f3b095",
   "metadata": {},
   "outputs": [
    {
     "ename": "AssertionError",
     "evalue": "Error due to division by zero",
     "output_type": "error",
     "traceback": [
      "\u001b[1;31m---------------------------------------------------------------------------\u001b[0m",
      "\u001b[1;31mZeroDivisionError\u001b[0m                         Traceback (most recent call last)",
      "Input \u001b[1;32mIn [14]\u001b[0m, in \u001b[0;36m<cell line: 1>\u001b[1;34m()\u001b[0m\n\u001b[0;32m      3\u001b[0m     b \u001b[38;5;241m=\u001b[39m \u001b[38;5;241m0\u001b[39m\n\u001b[1;32m----> 4\u001b[0m     \u001b[38;5;28mprint\u001b[39m(\u001b[43ma\u001b[49m\u001b[38;5;241;43m/\u001b[39;49m\u001b[43mb\u001b[49m)\n\u001b[0;32m      6\u001b[0m \u001b[38;5;28;01mexcept\u001b[39;00m \u001b[38;5;167;01mException\u001b[39;00m \u001b[38;5;28;01mas\u001b[39;00m e : \n",
      "\u001b[1;31mZeroDivisionError\u001b[0m: division by zero",
      "\nDuring handling of the above exception, another exception occurred:\n",
      "\u001b[1;31mAssertionError\u001b[0m                            Traceback (most recent call last)",
      "Input \u001b[1;32mIn [14]\u001b[0m, in \u001b[0;36m<cell line: 1>\u001b[1;34m()\u001b[0m\n\u001b[0;32m      4\u001b[0m     \u001b[38;5;28mprint\u001b[39m(a\u001b[38;5;241m/\u001b[39mb)\n\u001b[0;32m      6\u001b[0m \u001b[38;5;28;01mexcept\u001b[39;00m \u001b[38;5;167;01mException\u001b[39;00m \u001b[38;5;28;01mas\u001b[39;00m e : \n\u001b[1;32m----> 7\u001b[0m     \u001b[38;5;28;01massert\u001b[39;00m b\u001b[38;5;241m!=\u001b[39m \u001b[38;5;241m0\u001b[39m ,\u001b[38;5;124mf\u001b[39m\u001b[38;5;124m\"\u001b[39m\u001b[38;5;124mError due to \u001b[39m\u001b[38;5;132;01m{\u001b[39;00me\u001b[38;5;132;01m}\u001b[39;00m\u001b[38;5;124m\"\u001b[39m\n",
      "\u001b[1;31mAssertionError\u001b[0m: Error due to division by zero"
     ]
    }
   ],
   "source": [
    "try : \n",
    "    a = 10 \n",
    "    b = 0\n",
    "    print(a/b)\n",
    "    \n",
    "except Exception as e : \n",
    "    assert b!= 0 ,f\"Error due to {e}\"\n",
    "    "
   ]
  },
  {
   "cell_type": "markdown",
   "id": "dcf477ed",
   "metadata": {},
   "source": [
    "#### Q4.Describe two methods for specifying the text of an exception object&#39;s error message."
   ]
  },
  {
   "cell_type": "markdown",
   "id": "cf0308e6",
   "metadata": {},
   "source": [
    "Method 1 "
   ]
  },
  {
   "cell_type": "code",
   "execution_count": 9,
   "id": "1c1dc3c7",
   "metadata": {},
   "outputs": [
    {
     "name": "stdout",
     "output_type": "stream",
     "text": [
      "Error occurs due to division by zero\n"
     ]
    }
   ],
   "source": [
    "try : \n",
    "    a = 10 \n",
    "    b = 0\n",
    "    print(a/b)\n",
    "    \n",
    "except Exception as e : \n",
    "    print(f\"Error occurs due to {e}\")\n",
    "    "
   ]
  },
  {
   "cell_type": "code",
   "execution_count": 19,
   "id": "7cb19219",
   "metadata": {},
   "outputs": [
    {
     "name": "stdout",
     "output_type": "stream",
     "text": [
      "Traceback (most recent call last):\n",
      "  File \"C:\\Users\\manev\\AppData\\Local\\Temp\\ipykernel_12604\\1772985485.py\", line 6, in <cell line: 3>\n",
      "    print(a/b)\n",
      "ZeroDivisionError: division by zero\n",
      "\n"
     ]
    }
   ],
   "source": [
    "from traceback import format_exc\n",
    "\n",
    "try:\n",
    "    a = 10 \n",
    "    b = 0\n",
    "    print(a/b)\n",
    "except ZeroDivisionError:\n",
    "    print(format_exc())"
   ]
  },
  {
   "cell_type": "markdown",
   "id": "d08e4bee",
   "metadata": {},
   "source": [
    "#### Q5.Why do you no longer use string-based exceptions?"
   ]
  },
  {
   "cell_type": "markdown",
   "id": "09eca6b1",
   "metadata": {},
   "source": [
    "While traditionally, most exceptions have been string objects, in Python 1.5, all standard exceptions have been converted to class objects, and users are encouraged to do the same. The source code for those exceptions is present in the standard library module exceptions; this module never needs to be imported explicitly"
   ]
  },
  {
   "cell_type": "code",
   "execution_count": null,
   "id": "b0b778df",
   "metadata": {},
   "outputs": [],
   "source": []
  }
 ],
 "metadata": {
  "kernelspec": {
   "display_name": "Python 3 (ipykernel)",
   "language": "python",
   "name": "python3"
  },
  "language_info": {
   "codemirror_mode": {
    "name": "ipython",
    "version": 3
   },
   "file_extension": ".py",
   "mimetype": "text/x-python",
   "name": "python",
   "nbconvert_exporter": "python",
   "pygments_lexer": "ipython3",
   "version": "3.9.12"
  }
 },
 "nbformat": 4,
 "nbformat_minor": 5
}
