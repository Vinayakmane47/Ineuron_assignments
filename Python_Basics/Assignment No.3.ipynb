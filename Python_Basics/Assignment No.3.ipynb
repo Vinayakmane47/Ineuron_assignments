{
 "cells": [
  {
   "cell_type": "markdown",
   "id": "7337a720",
   "metadata": {},
   "source": [
    "## Assignment No. 3 : "
   ]
  },
  {
   "cell_type": "markdown",
   "id": "8c05b00e",
   "metadata": {},
   "source": [
    "#### Q1.Why are functions advantageous to have in your programs?"
   ]
  },
  {
   "cell_type": "markdown",
   "id": "faadff15",
   "metadata": {},
   "source": [
    "wehn we have to use same code for multiple times in a programme its time consuming to write all the code again and again ,so functions comes into picture . with the help of functions we can make our programme shorter by calling just function to do certain task instead of whole code .functions make code easier to read and easier to update "
   ]
  },
  {
   "cell_type": "markdown",
   "id": "57d019b6",
   "metadata": {},
   "source": [
    "#### Q2 .When does the code in a function run: when it&#39;s specified or when it&#39;s called?"
   ]
  },
  {
   "cell_type": "markdown",
   "id": "90d7f128",
   "metadata": {},
   "source": [
    "function is made by def keyword and have certain bunch of code in it . during programming when we wants to call this code we simply write the name of code along with arguments required to pass in it accodrding to requirement."
   ]
  },
  {
   "cell_type": "code",
   "execution_count": 1,
   "id": "f1d6fb98",
   "metadata": {},
   "outputs": [
    {
     "name": "stdout",
     "output_type": "stream",
     "text": [
      "Good Morning Vinayak\n"
     ]
    }
   ],
   "source": [
    "# defining function\n",
    "def greetings(name): \n",
    "    print(\"Good Morning\",name)\n",
    "# calling the function\n",
    "greetings(\"Vinayak\")"
   ]
  },
  {
   "cell_type": "markdown",
   "id": "7d6629c2",
   "metadata": {},
   "source": [
    "#### Q3.What statement creates a function?"
   ]
  },
  {
   "cell_type": "markdown",
   "id": "fa36c63b",
   "metadata": {},
   "source": [
    "def keyword creates a function"
   ]
  },
  {
   "cell_type": "markdown",
   "id": "e1a59232",
   "metadata": {},
   "source": [
    "#### Q4.What is the difference between a function and a function call?"
   ]
  },
  {
   "cell_type": "markdown",
   "id": "c6cf87fd",
   "metadata": {},
   "source": [
    "A function is a block of code that does a particular operation and returns a result. It usually accepts inputs as parameters and returns a result. The parameters are not mandatory. A function call is the code used to pass control to a function"
   ]
  },
  {
   "cell_type": "markdown",
   "id": "28e9e55d",
   "metadata": {},
   "source": [
    "#### Q5.How many global scopes are there in a Python program? How many local scopes?"
   ]
  },
  {
   "cell_type": "markdown",
   "id": "a84fda92",
   "metadata": {},
   "source": [
    "There's only one global Python scope per program execution. This scope remains in existence until the program terminates and all its names are forgotten . generally there are four scopes are there \n",
    "    \n",
    "    global scope \n",
    "    local scope \n",
    "    enclosing scope \n",
    "    built-in scope \n"
   ]
  },
  {
   "cell_type": "markdown",
   "id": "d0cfde86",
   "metadata": {},
   "source": [
    "#### Q6.What happens to variables in a local scope when the function call returns?"
   ]
  },
  {
   "cell_type": "markdown",
   "id": "665e11e5",
   "metadata": {},
   "source": [
    "when variables are declared using local scope we cant able to acces them outside the function . when we call function the variable exists inside the function only "
   ]
  },
  {
   "cell_type": "code",
   "execution_count": 2,
   "id": "a3056098",
   "metadata": {},
   "outputs": [
    {
     "name": "stdout",
     "output_type": "stream",
     "text": [
      "Vinayak\n"
     ]
    },
    {
     "ename": "NameError",
     "evalue": "name 'name' is not defined",
     "output_type": "error",
     "traceback": [
      "\u001b[1;31m---------------------------------------------------------------------------\u001b[0m",
      "\u001b[1;31mNameError\u001b[0m                                 Traceback (most recent call last)",
      "Input \u001b[1;32mIn [2]\u001b[0m, in \u001b[0;36m<cell line: 5>\u001b[1;34m()\u001b[0m\n\u001b[0;32m      3\u001b[0m     \u001b[38;5;28mprint\u001b[39m(name)\n\u001b[0;32m      4\u001b[0m var()\n\u001b[1;32m----> 5\u001b[0m \u001b[38;5;28mprint\u001b[39m(\u001b[43mname\u001b[49m)\n",
      "\u001b[1;31mNameError\u001b[0m: name 'name' is not defined"
     ]
    }
   ],
   "source": [
    "def var(): \n",
    "    name = \"Vinayak\"\n",
    "    print(name)\n",
    "var()\n",
    "print(name) # calling from outside "
   ]
  },
  {
   "cell_type": "markdown",
   "id": "f81c2d96",
   "metadata": {},
   "source": [
    "#### Q7. What is the concept of a return value? Is it possible to have a return value in an expression?"
   ]
  },
  {
   "cell_type": "markdown",
   "id": "ab5ad3a4",
   "metadata": {},
   "source": [
    "When we define some function and we wants that this function should give us certain value then we use return keyword. we can also use the return value in function for returning expressions"
   ]
  },
  {
   "cell_type": "code",
   "execution_count": 3,
   "id": "1ec7548f",
   "metadata": {},
   "outputs": [
    {
     "data": {
      "text/plain": [
       "'Hello'"
      ]
     },
     "execution_count": 3,
     "metadata": {},
     "output_type": "execute_result"
    }
   ],
   "source": [
    "def ex(): \n",
    "    return \"Hello\"\n",
    "ex()"
   ]
  },
  {
   "cell_type": "code",
   "execution_count": 12,
   "id": "d77e1bce",
   "metadata": {},
   "outputs": [
    {
     "data": {
      "text/plain": [
       "24"
      ]
     },
     "execution_count": 12,
     "metadata": {},
     "output_type": "execute_result"
    }
   ],
   "source": [
    "def return_exp(): \n",
    "    return 4*6 \n",
    "return_exp()"
   ]
  },
  {
   "cell_type": "markdown",
   "id": "8d52a999",
   "metadata": {},
   "source": [
    "#### Q8.If a function does not have a return statement, what is the return value of a call to that function?"
   ]
  },
  {
   "cell_type": "markdown",
   "id": "eccedc6b",
   "metadata": {},
   "source": [
    "If a function do not have return statement we can use print() command "
   ]
  },
  {
   "cell_type": "code",
   "execution_count": 13,
   "id": "2d84d949",
   "metadata": {},
   "outputs": [
    {
     "name": "stdout",
     "output_type": "stream",
     "text": [
      "24\n"
     ]
    }
   ],
   "source": [
    "def return_exp(): \n",
    "    print(4*6)\n",
    "    \n",
    "return_exp()"
   ]
  },
  {
   "cell_type": "markdown",
   "id": "20df4201",
   "metadata": {},
   "source": [
    "#### Q9.How do you make a function variable refer to the global variable?"
   ]
  },
  {
   "cell_type": "markdown",
   "id": "cb392d92",
   "metadata": {},
   "source": [
    "If you want to refer to a global variable in a function, you can use the global keyword to declare which variables are globa"
   ]
  },
  {
   "cell_type": "code",
   "execution_count": 16,
   "id": "40409f21",
   "metadata": {},
   "outputs": [
    {
     "name": "stdout",
     "output_type": "stream",
     "text": [
      "Vinayak\n",
      "Vinayak\n"
     ]
    }
   ],
   "source": [
    "def var(): \n",
    "    global name \n",
    "    name = \"Vinayak\"\n",
    "    print(name)\n",
    "var()\n",
    "print(name) # calling from outside "
   ]
  },
  {
   "cell_type": "markdown",
   "id": "b960ff8e",
   "metadata": {},
   "source": [
    "#### Q10.What is the data type of None?"
   ]
  },
  {
   "cell_type": "markdown",
   "id": "f186f743",
   "metadata": {},
   "source": [
    "None has NoneType as data type"
   ]
  },
  {
   "cell_type": "code",
   "execution_count": 17,
   "id": "94e14b7b",
   "metadata": {},
   "outputs": [
    {
     "data": {
      "text/plain": [
       "NoneType"
      ]
     },
     "execution_count": 17,
     "metadata": {},
     "output_type": "execute_result"
    }
   ],
   "source": [
    "type(None)"
   ]
  },
  {
   "cell_type": "markdown",
   "id": "9fe6d56d",
   "metadata": {},
   "source": [
    "#### Q11.What does the sentence import areallyourpetsnamederic do?"
   ]
  },
  {
   "cell_type": "markdown",
   "id": "6bc5c711",
   "metadata": {},
   "source": [
    "That import statement imports a module named areallyourpetsnamederic."
   ]
  },
  {
   "cell_type": "markdown",
   "id": "527f676c",
   "metadata": {},
   "source": [
    "#### Q12.If you had a bacon() feature in a spam module, what would you call it after importing spam?"
   ]
  },
  {
   "cell_type": "markdown",
   "id": "2a6f9e36",
   "metadata": {},
   "source": [
    "    import spam \n",
    "    spam.bacon()"
   ]
  },
  {
   "cell_type": "markdown",
   "id": "e7e4845f",
   "metadata": {},
   "source": [
    "#### Q13.What can you do to save a programme from crashing if it encounters an error?"
   ]
  },
  {
   "cell_type": "markdown",
   "id": "e6e5d3e9",
   "metadata": {},
   "source": [
    "Exception Handling"
   ]
  },
  {
   "cell_type": "markdown",
   "id": "9aec6321",
   "metadata": {},
   "source": [
    "#### Q14. What is the purpose of the try clause? What is the purpose of the except clause?"
   ]
  },
  {
   "cell_type": "markdown",
   "id": "f2f0df47",
   "metadata": {},
   "source": [
    "when we devleope certain complex programme ,if our certain block of code is found to be more suspicious to encounter errors , we enclose that code in try clause so if we found error in code this try clause redirect us to except clause and raise a exception by warning us . our whole programme still runs after finding error in certain block of code "
   ]
  },
  {
   "cell_type": "code",
   "execution_count": 18,
   "id": "e574f27d",
   "metadata": {},
   "outputs": [
    {
     "name": "stdout",
     "output_type": "stream",
     "text": [
      "division by zero\n"
     ]
    }
   ],
   "source": [
    "try : \n",
    "    a = 0 \n",
    "    c = 10/a\n",
    "    print(c)\n",
    "except Exception as e : \n",
    "    print(e)"
   ]
  },
  {
   "cell_type": "code",
   "execution_count": null,
   "id": "bacf7147",
   "metadata": {},
   "outputs": [],
   "source": []
  },
  {
   "cell_type": "code",
   "execution_count": null,
   "id": "c5573ff6",
   "metadata": {},
   "outputs": [],
   "source": []
  },
  {
   "cell_type": "code",
   "execution_count": null,
   "id": "2ee33eb4",
   "metadata": {},
   "outputs": [],
   "source": []
  },
  {
   "cell_type": "code",
   "execution_count": null,
   "id": "70444871",
   "metadata": {},
   "outputs": [],
   "source": []
  }
 ],
 "metadata": {
  "kernelspec": {
   "display_name": "Python 3 (ipykernel)",
   "language": "python",
   "name": "python3"
  },
  "language_info": {
   "codemirror_mode": {
    "name": "ipython",
    "version": 3
   },
   "file_extension": ".py",
   "mimetype": "text/x-python",
   "name": "python",
   "nbconvert_exporter": "python",
   "pygments_lexer": "ipython3",
   "version": "3.9.12"
  }
 },
 "nbformat": 4,
 "nbformat_minor": 5
}
