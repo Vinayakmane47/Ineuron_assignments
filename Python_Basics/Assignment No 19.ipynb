{
 "cells": [
  {
   "cell_type": "markdown",
   "id": "8361a005",
   "metadata": {},
   "source": [
    "## Assignment No : 19"
   ]
  },
  {
   "cell_type": "markdown",
   "id": "6815e954",
   "metadata": {},
   "source": [
    "#### Q1.Make a class called Thing with no contents and print it. Then, create an object called example from this class and also print it. Are the printed values the same or different?"
   ]
  },
  {
   "cell_type": "code",
   "execution_count": 2,
   "id": "9984621c",
   "metadata": {},
   "outputs": [
    {
     "name": "stdout",
     "output_type": "stream",
     "text": [
      "<class '__main__.Thing'>\n"
     ]
    }
   ],
   "source": [
    "class Thing : \n",
    "    pass \n",
    "print(Thing)"
   ]
  },
  {
   "cell_type": "code",
   "execution_count": 11,
   "id": "22eed149",
   "metadata": {},
   "outputs": [
    {
     "name": "stdout",
     "output_type": "stream",
     "text": [
      "<bound method Thing.example of <__main__.Thing object at 0x0000023F90E1CC70>>\n"
     ]
    }
   ],
   "source": [
    "class Thing : \n",
    "    def example(): \n",
    "        pass\n",
    "    \n",
    "obj1 = Thing()\n",
    "print(obj1.example)"
   ]
  },
  {
   "cell_type": "markdown",
   "id": "77b820a4",
   "metadata": {},
   "source": [
    "The printed values are different"
   ]
  },
  {
   "cell_type": "markdown",
   "id": "5e70e270",
   "metadata": {},
   "source": [
    "#### Q2.Create a new class called Thing2 and add the value &#39;abc&#39; to the letters class attribute. Letters should be printed."
   ]
  },
  {
   "cell_type": "code",
   "execution_count": 12,
   "id": "cc321099",
   "metadata": {},
   "outputs": [
    {
     "name": "stdout",
     "output_type": "stream",
     "text": [
      "abc\n"
     ]
    }
   ],
   "source": [
    "class Thing2 : \n",
    "    letters = 'abc'\n",
    "\n",
    "print(Thing2.letters)   "
   ]
  },
  {
   "cell_type": "markdown",
   "id": "5dd63d45",
   "metadata": {},
   "source": [
    "#### Q3.Make yet another class called, of course, Thing3. This time, assign the value &#39;xyz&#39; to an instance (object) attribute called letters. Print letters. Do you need to make an object from the class to do this?"
   ]
  },
  {
   "cell_type": "code",
   "execution_count": 42,
   "id": "4d90591b",
   "metadata": {},
   "outputs": [
    {
     "name": "stdout",
     "output_type": "stream",
     "text": [
      "xyz\n",
      "<__main__.Thing3 object at 0x0000023F90D91430>\n"
     ]
    }
   ],
   "source": [
    "class Thing3 : \n",
    "    \n",
    "    def __init__(self): \n",
    "        print(\"xyz\")\n",
    "        \n",
    "obj1 = Thing3()\n",
    "print(obj1)"
   ]
  },
  {
   "cell_type": "code",
   "execution_count": null,
   "id": "201d90f1",
   "metadata": {},
   "outputs": [],
   "source": []
  },
  {
   "cell_type": "markdown",
   "id": "a9e9de9b",
   "metadata": {},
   "source": [
    "#### Q4.Create an Element class with the instance attributes name, symbol, and number. Create a class object with the values &#39;Hydrogen,&#39; &#39;H,&#39; and 1."
   ]
  },
  {
   "cell_type": "code",
   "execution_count": 45,
   "id": "6f1330b5",
   "metadata": {},
   "outputs": [
    {
     "name": "stdout",
     "output_type": "stream",
     "text": [
      "Hydrogen\n",
      "H\n",
      "1\n"
     ]
    }
   ],
   "source": [
    "class Element : \n",
    "    \n",
    "    def __init__(self,name,symbol,number): \n",
    "        self.name = name \n",
    "        self.symbol = symbol \n",
    "        self.number = number \n",
    "\n",
    "obj1 = Element(\"Hydrogen\",\"H\",1)\n",
    "print(obj1.name)\n",
    "print(obj1.symbol)\n",
    "print(obj1.number)        \n"
   ]
  },
  {
   "cell_type": "markdown",
   "id": "c3fd08a5",
   "metadata": {},
   "source": [
    "#### Q5.Make a dictionary with these keys and values: &#39;name&#39;: &#39;Hydrogen&#39;, &#39;symbol&#39;: &#39;H&#39;, &#39;number&#39;: 1. Then, create an object called hydrogen from class Element using this dictionary."
   ]
  },
  {
   "cell_type": "code",
   "execution_count": 56,
   "id": "2bba8299",
   "metadata": {},
   "outputs": [
    {
     "name": "stdout",
     "output_type": "stream",
     "text": [
      "Hydron\n",
      "H\n",
      "1\n"
     ]
    }
   ],
   "source": [
    "d1 = {\"name\":\"Hydron\",\"symbol\":\"H\",\"number\":1}\n",
    "a,b,c = d1.values()\n",
    "obj1 = Element(a,b,c)\n",
    "print(obj1.name)\n",
    "print(obj1.symbol)\n",
    "print(obj1.number)"
   ]
  },
  {
   "cell_type": "markdown",
   "id": "8bf15a1a",
   "metadata": {},
   "source": [
    "#### Q6.For the Element class, define a method called dump() that prints the values of the object’s attributes (name, symbol, and number). Create the hydrogen object from this new definition and use dump() to print its attributes."
   ]
  },
  {
   "cell_type": "code",
   "execution_count": 59,
   "id": "0f22b9f0",
   "metadata": {},
   "outputs": [
    {
     "name": "stdout",
     "output_type": "stream",
     "text": [
      "Hydrogen\n",
      "H\n",
      "1\n",
      "None\n"
     ]
    }
   ],
   "source": [
    "class Element : \n",
    "    \n",
    "    def __init__(self,name,symbol,number): \n",
    "        self.name = name \n",
    "        self.symbol = symbol \n",
    "        self.number = number \n",
    "        \n",
    "    def dump(self): \n",
    "        print(self.name)\n",
    "        print(self.symbol)\n",
    "        print(self.number)\n",
    "\n",
    "hydrogen = Element(\"Hydrogen\",\"H\",1)\n",
    "print(hydrogen.dump())\n",
    "       \n"
   ]
  },
  {
   "cell_type": "markdown",
   "id": "785d1f2b",
   "metadata": {},
   "source": [
    "#### Q7.Call print(hydrogen). In the definition of Element, change the name of method dump to __str__, create a new hydrogen object, and call print(hydrogen) again."
   ]
  },
  {
   "cell_type": "code",
   "execution_count": 60,
   "id": "0bded864",
   "metadata": {},
   "outputs": [
    {
     "name": "stdout",
     "output_type": "stream",
     "text": [
      "<__main__.Element object at 0x0000023F9229E0A0>\n"
     ]
    }
   ],
   "source": [
    "print(hydrogen)"
   ]
  },
  {
   "cell_type": "code",
   "execution_count": 62,
   "id": "2dc6833b",
   "metadata": {},
   "outputs": [
    {
     "name": "stdout",
     "output_type": "stream",
     "text": [
      "<__main__.Element object at 0x0000023F9229E910>\n"
     ]
    }
   ],
   "source": [
    "class Element : \n",
    "    \n",
    "    def __init__(self,name,symbol,number): \n",
    "        self.name = name \n",
    "        self.symbol = symbol \n",
    "        self.number = number \n",
    "        \n",
    "    def str(self): \n",
    "        print(self.name)\n",
    "        print(self.symbol)\n",
    "        print(self.number)\n",
    "\n",
    "hydrogen = Element(\"Hydrogen\",\"H\",1)\n",
    "print(hydrogen)"
   ]
  },
  {
   "cell_type": "markdown",
   "id": "b75c87ad",
   "metadata": {},
   "source": [
    "#### Q8.Modify Element to make the attributes name, symbol, and number private. Define a getter property for each to return its value."
   ]
  },
  {
   "cell_type": "code",
   "execution_count": 66,
   "id": "8d900584",
   "metadata": {},
   "outputs": [
    {
     "data": {
      "text/plain": [
       "'H'"
      ]
     },
     "execution_count": 66,
     "metadata": {},
     "output_type": "execute_result"
    }
   ],
   "source": [
    "class Element : \n",
    "    \n",
    "    def __init__(self,name,symbol,number): \n",
    "        self.__name = name \n",
    "        self.__symbol = symbol \n",
    "        self.__number = number \n",
    "        \n",
    "    def str(self): \n",
    "        print(self.__name)\n",
    "        print(self.__symbol)\n",
    "        print(self.__number)\n",
    "    \n",
    "    def get_name(self): \n",
    "        return self.__name\n",
    "    \n",
    "    def get_symbol(self): \n",
    "        return self.__symbol\n",
    "    \n",
    "    def get_number(self): \n",
    "        return self.__number\n",
    "    \n",
    "hydrogen = Element(\"Hydrogen\",\"H\",1)\n",
    "hydrogen.get_name()\n",
    "hydrogen.get_number()\n",
    "hydrogen.get_symbol()\n",
    "\n",
    "   "
   ]
  },
  {
   "cell_type": "markdown",
   "id": "d994deae",
   "metadata": {},
   "source": [
    "#### Q9.Define three classes: Bear, Rabbit, and Octothorpe. For each, define only one method: eats(). This should return &#39;berries&#39; (Bear), &#39;clover&#39; (Rabbit), or &#39;campers&#39; (Octothorpe). Create one object from each and print what it eats."
   ]
  },
  {
   "cell_type": "code",
   "execution_count": 70,
   "id": "a1f94fa9",
   "metadata": {},
   "outputs": [
    {
     "name": "stdout",
     "output_type": "stream",
     "text": [
      "berries\n",
      "clover\n",
      "campers\n"
     ]
    }
   ],
   "source": [
    "class Bear : \n",
    "    \n",
    "    def eats(): \n",
    "        return \"berries\"\n",
    "class Rabbit :\n",
    " \n",
    "    def eats(): \n",
    "        return \"clover\"\n",
    "    \n",
    "class Octothrope : \n",
    "    \n",
    "    def eats(): \n",
    "        return \"campers\"\n",
    "    \n",
    "obj1 = Bear\n",
    "obj2 = Rabbit\n",
    "obj3 = Octothrope\n",
    "\n",
    "print(obj1.eats())\n",
    "print(obj2.eats())\n",
    "print(obj3.eats())"
   ]
  },
  {
   "cell_type": "markdown",
   "id": "303de3c2",
   "metadata": {},
   "source": [
    "#### Q10.Define these classes: Laser, Claw, and SmartPhone. Each has only one method: does(). This returns &#39;disintegrate&#39; (Laser), &#39;crush&#39; (Claw), or &#39;ring&#39; (SmartPhone). Then, define the class Robot that has one instance (object) of each of these. Define a does() method for the Robot that prints what its component objects do."
   ]
  },
  {
   "cell_type": "code",
   "execution_count": 76,
   "id": "5891aed4",
   "metadata": {},
   "outputs": [
    {
     "name": "stdout",
     "output_type": "stream",
     "text": [
      "disintegrate\n",
      "crush\n",
      "ring\n"
     ]
    }
   ],
   "source": [
    "class Laser: \n",
    "    \n",
    "    def does(): \n",
    "        return \"disintegrate\"\n",
    "    \n",
    "class Claw : \n",
    "    \n",
    "    def does(): \n",
    "        return \"crush\"\n",
    "    \n",
    "class SmartPhone : \n",
    "    \n",
    "    def does(): \n",
    "        return \"ring\"\n",
    "    \n",
    "class Robot : \n",
    "    def does(): \n",
    "        o1= Laser\n",
    "        o2= Claw\n",
    "        o3= SmartPhone\n",
    "        print(o1.does())\n",
    "        print(o2.does())\n",
    "        print(o3.does())\n",
    "        \n",
    "        \n",
    "R1 = Robot\n",
    "R1.does()"
   ]
  },
  {
   "cell_type": "code",
   "execution_count": null,
   "id": "992fcd5a",
   "metadata": {},
   "outputs": [],
   "source": []
  },
  {
   "cell_type": "code",
   "execution_count": null,
   "id": "b8e259f9",
   "metadata": {},
   "outputs": [],
   "source": []
  },
  {
   "cell_type": "code",
   "execution_count": null,
   "id": "2bc05c65",
   "metadata": {},
   "outputs": [],
   "source": []
  }
 ],
 "metadata": {
  "kernelspec": {
   "display_name": "Python 3 (ipykernel)",
   "language": "python",
   "name": "python3"
  },
  "language_info": {
   "codemirror_mode": {
    "name": "ipython",
    "version": 3
   },
   "file_extension": ".py",
   "mimetype": "text/x-python",
   "name": "python",
   "nbconvert_exporter": "python",
   "pygments_lexer": "ipython3",
   "version": "3.9.12"
  }
 },
 "nbformat": 4,
 "nbformat_minor": 5
}
