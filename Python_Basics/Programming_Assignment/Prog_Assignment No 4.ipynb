{
 "cells": [
  {
   "cell_type": "markdown",
   "id": "5ee4d0fc",
   "metadata": {},
   "source": [
    "## Programming Assignment No 4"
   ]
  },
  {
   "cell_type": "markdown",
   "id": "2d28fb1a",
   "metadata": {},
   "source": [
    "#### Q1.Write a Python Program to Find the Factorial of a Number?"
   ]
  },
  {
   "cell_type": "code",
   "execution_count": 2,
   "id": "b462a45b",
   "metadata": {},
   "outputs": [
    {
     "data": {
      "text/plain": [
       "120"
      ]
     },
     "execution_count": 2,
     "metadata": {},
     "output_type": "execute_result"
    }
   ],
   "source": [
    "def fact(n): \n",
    "    if n ==1 or n == 0 : \n",
    "        return 1 \n",
    "    else : \n",
    "        return (n*fact(n-1))\n",
    "    \n",
    "fact(5)"
   ]
  },
  {
   "cell_type": "markdown",
   "id": "fbbdb500",
   "metadata": {},
   "source": [
    "#### Q2.Write a Python Program to Display the multiplication Table?"
   ]
  },
  {
   "cell_type": "code",
   "execution_count": 10,
   "id": "f207359b",
   "metadata": {},
   "outputs": [
    {
     "name": "stdout",
     "output_type": "stream",
     "text": [
      "15 x 1 = 15\n",
      "15 x 2 = 30\n",
      "15 x 3 = 45\n",
      "15 x 4 = 60\n",
      "15 x 5 = 75\n",
      "15 x 6 = 90\n",
      "15 x 7 = 105\n",
      "15 x 8 = 120\n",
      "15 x 9 = 135\n",
      "15 x 10 = 150\n"
     ]
    }
   ],
   "source": [
    "def table(n): \n",
    "    for i in range(1,11): \n",
    "        print(\"{} x {} = {}\".format(n,i,n*i) )\n",
    "                 \n",
    "table(15)             "
   ]
  },
  {
   "cell_type": "markdown",
   "id": "993dd3ac",
   "metadata": {},
   "source": [
    "#### Q3.Write a Python Program to Print the Fibonacci sequence?"
   ]
  },
  {
   "cell_type": "code",
   "execution_count": 18,
   "id": "bb73098f",
   "metadata": {},
   "outputs": [
    {
     "data": {
      "text/plain": [
       "55"
      ]
     },
     "execution_count": 18,
     "metadata": {},
     "output_type": "execute_result"
    }
   ],
   "source": [
    "def fibonacii(n): \n",
    "    if n == 1 or n == 2 : \n",
    "        return 1 \n",
    "    elif n < 0 : \n",
    "        print(\"Please enter a valid number\")\n",
    "        \n",
    "    elif n==0 : \n",
    "        return 0 \n",
    "    else : \n",
    "        return fibonacii(n-1) + fibonacii(n-2)\n",
    "    \n",
    "fibonacii(10)        "
   ]
  },
  {
   "cell_type": "markdown",
   "id": "dd6d323a",
   "metadata": {},
   "source": [
    "#### Q4.Write a Python Program to Check Armstrong Number?"
   ]
  },
  {
   "cell_type": "code",
   "execution_count": 43,
   "id": "e6d0e89f",
   "metadata": {},
   "outputs": [
    {
     "name": "stdout",
     "output_type": "stream",
     "text": [
      "15 is not an Armstrong Number \n"
     ]
    }
   ],
   "source": [
    "def armstrong(n): \n",
    "    n = str(n)\n",
    "    sum = 0 \n",
    "    for i in range(len(n)): \n",
    "        sum = sum + int(n[i])**3\n",
    "        \n",
    "    if sum == int(n): \n",
    "        print(\"{} is a Armstrong Number \".format(n))\n",
    "        \n",
    "    else : \n",
    "        print(\"{} is not an Armstrong Number \".format(n))\n",
    "        \n",
    "        \n",
    "armstrong(15)  "
   ]
  },
  {
   "cell_type": "markdown",
   "id": "0761f2bc",
   "metadata": {},
   "source": [
    "#### Q5.Write a Python Program to Find Armstrong Number in an Interval?"
   ]
  },
  {
   "cell_type": "code",
   "execution_count": 44,
   "id": "37fca6e3",
   "metadata": {},
   "outputs": [
    {
     "data": {
      "text/plain": [
       "[0, 1, 153, 370, 371, 407]"
      ]
     },
     "execution_count": 44,
     "metadata": {},
     "output_type": "execute_result"
    }
   ],
   "source": [
    "def armstrong(n): \n",
    "    n = str(n)\n",
    "    sum = 0 \n",
    "    for i in range(len(n)): \n",
    "        sum = sum + int(n[i])**3\n",
    "        \n",
    "    if sum == int(n): \n",
    "        return n\n",
    "    \n",
    "# armstrong Number between 0 to 20000\n",
    "        \n",
    "list(filter(armstrong,range(20000)))"
   ]
  },
  {
   "cell_type": "markdown",
   "id": "746f88d3",
   "metadata": {},
   "source": [
    "#### Q6.Write a Python Program to Find the Sum of Natural Numbers?"
   ]
  },
  {
   "cell_type": "code",
   "execution_count": 47,
   "id": "06b791bd",
   "metadata": {},
   "outputs": [
    {
     "data": {
      "text/plain": [
       "5050.0"
      ]
     },
     "execution_count": 47,
     "metadata": {},
     "output_type": "execute_result"
    }
   ],
   "source": [
    "def sum_of_number(n): \n",
    "    if n <= 1 : \n",
    "        print(\"Please enter Natural Number only\")\n",
    "    else : \n",
    "        return n*(n+1)/2\n",
    "        \n",
    "sum_of_number(100)"
   ]
  },
  {
   "cell_type": "code",
   "execution_count": null,
   "id": "10be9464",
   "metadata": {},
   "outputs": [],
   "source": []
  }
 ],
 "metadata": {
  "kernelspec": {
   "display_name": "Python 3 (ipykernel)",
   "language": "python",
   "name": "python3"
  },
  "language_info": {
   "codemirror_mode": {
    "name": "ipython",
    "version": 3
   },
   "file_extension": ".py",
   "mimetype": "text/x-python",
   "name": "python",
   "nbconvert_exporter": "python",
   "pygments_lexer": "ipython3",
   "version": "3.9.12"
  }
 },
 "nbformat": 4,
 "nbformat_minor": 5
}
