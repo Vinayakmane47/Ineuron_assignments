{
 "cells": [
  {
   "cell_type": "markdown",
   "id": "4a36a19d",
   "metadata": {},
   "source": [
    "## Programming Assignment 1"
   ]
  },
  {
   "cell_type": "markdown",
   "id": "bfe58f87",
   "metadata": {},
   "source": [
    "#### Q1.Write a Python program to print &quot;Hello Python&quot;?"
   ]
  },
  {
   "cell_type": "code",
   "execution_count": 1,
   "id": "c91461e3",
   "metadata": {},
   "outputs": [
    {
     "name": "stdout",
     "output_type": "stream",
     "text": [
      "Hello Python\n"
     ]
    }
   ],
   "source": [
    "print(\"Hello Python\")"
   ]
  },
  {
   "cell_type": "markdown",
   "id": "23b40f82",
   "metadata": {},
   "source": [
    "#### Q2.Write a Python program to do arithmetical operations addition and division.?"
   ]
  },
  {
   "cell_type": "code",
   "execution_count": 2,
   "id": "7dbd634e",
   "metadata": {},
   "outputs": [
    {
     "name": "stdout",
     "output_type": "stream",
     "text": [
      "5\n",
      "2.0\n"
     ]
    }
   ],
   "source": [
    "def add(a,b): \n",
    "    return a + b \n",
    "def div(a,b): \n",
    "    return a/b \n",
    "\n",
    "print(add(2,3))\n",
    "print(div(6,3))"
   ]
  },
  {
   "cell_type": "markdown",
   "id": "9d6f62c8",
   "metadata": {},
   "source": [
    "#### Q3.Write a Python program to find the area of a triangle?"
   ]
  },
  {
   "cell_type": "code",
   "execution_count": 7,
   "id": "1d03da71",
   "metadata": {},
   "outputs": [
    {
     "name": "stdout",
     "output_type": "stream",
     "text": [
      "Enter base of triangle : 10\n",
      "Enter height of triangle : 40\n",
      "Area of triangle : 200.0 mm2 \n"
     ]
    }
   ],
   "source": [
    "def area(a,b): \n",
    "    return 0.5*a*b\n",
    "\n",
    "a = int(input(\"Enter base of triangle : \"))\n",
    "b = int(input(\"Enter height of triangle : \"))\n",
    "print(\"Area of triangle : {} mm2 \" .format(area(a,b)))"
   ]
  },
  {
   "cell_type": "markdown",
   "id": "f052960c",
   "metadata": {},
   "source": [
    "#### Q4.Write a Python program to swap two variables?"
   ]
  },
  {
   "cell_type": "code",
   "execution_count": 9,
   "id": "9012962b",
   "metadata": {},
   "outputs": [
    {
     "name": "stdout",
     "output_type": "stream",
     "text": [
      "New value of x :  10\n",
      "New value of y :  5\n"
     ]
    }
   ],
   "source": [
    "# define x and y values \n",
    "x = 5 \n",
    "y = 10 \n",
    "\n",
    "x,y = y,x\n",
    "\n",
    "print(\"New value of x : \" ,x)\n",
    "print(\"New value of y : \" ,y)"
   ]
  },
  {
   "cell_type": "markdown",
   "id": "b52989a3",
   "metadata": {},
   "source": [
    "#### Q5.Write a Python program to generate a random number?"
   ]
  },
  {
   "cell_type": "code",
   "execution_count": 22,
   "id": "15cd2b60",
   "metadata": {},
   "outputs": [
    {
     "data": {
      "text/plain": [
       "0.5788984373057168"
      ]
     },
     "execution_count": 22,
     "metadata": {},
     "output_type": "execute_result"
    }
   ],
   "source": [
    "import random\n",
    "random.random()"
   ]
  },
  {
   "cell_type": "code",
   "execution_count": null,
   "id": "beade349",
   "metadata": {},
   "outputs": [],
   "source": []
  },
  {
   "cell_type": "code",
   "execution_count": null,
   "id": "6510dacb",
   "metadata": {},
   "outputs": [],
   "source": []
  },
  {
   "cell_type": "code",
   "execution_count": null,
   "id": "e8341dc3",
   "metadata": {},
   "outputs": [],
   "source": []
  }
 ],
 "metadata": {
  "kernelspec": {
   "display_name": "Python 3 (ipykernel)",
   "language": "python",
   "name": "python3"
  },
  "language_info": {
   "codemirror_mode": {
    "name": "ipython",
    "version": 3
   },
   "file_extension": ".py",
   "mimetype": "text/x-python",
   "name": "python",
   "nbconvert_exporter": "python",
   "pygments_lexer": "ipython3",
   "version": "3.9.12"
  }
 },
 "nbformat": 4,
 "nbformat_minor": 5
}
