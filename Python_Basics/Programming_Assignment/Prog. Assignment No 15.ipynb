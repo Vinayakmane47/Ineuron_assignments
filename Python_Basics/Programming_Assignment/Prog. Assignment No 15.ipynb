{
 "cells": [
  {
   "cell_type": "markdown",
   "id": "6a96839e",
   "metadata": {},
   "source": [
    "## Programming Assignment No 15"
   ]
  },
  {
   "cell_type": "markdown",
   "id": "aa6614b8",
   "metadata": {},
   "source": [
    "#### Q1.Please write a program using generator to print the numbers which can be divisible by 5 and\n",
    "#### 7 between 0 and n in comma separated form while n is input by console.\n",
    "#### Example:\n",
    "#### If the following n is given as input to the program:\n",
    "#### 100\n",
    "#### Then, the output of the program should be:\n",
    "#### 0,35,70"
   ]
  },
  {
   "cell_type": "code",
   "execution_count": 17,
   "id": "7661b3bd",
   "metadata": {},
   "outputs": [
    {
     "name": "stdout",
     "output_type": "stream",
     "text": [
      "Enter a Number : 100\n",
      "The Number divisible by 5 and 7  between range 0 to 100 : \n",
      "(0, 35, 70)\n"
     ]
    }
   ],
   "source": [
    "def divisible(n):\n",
    "    l1 = []\n",
    "    for i in range(n): \n",
    "        if i%5 == 0 and i%7 == 0 :\n",
    "            yield i \n",
    "    return i\n",
    "\n",
    "n = int(input('Enter a Number : '))\n",
    "l2 = []\n",
    "print(\"The Number divisible by 5 and 7  between range 0 to {} : \".format(n))\n",
    "for j in divisible(n): \n",
    "    l2.append(j)\n",
    "print(tuple(l2))    "
   ]
  },
  {
   "cell_type": "markdown",
   "id": "490d1b9c",
   "metadata": {},
   "source": [
    "##### Q2.Please write a program using generator to print the even numbers between 0 and n in comma separated form while n is input by console.\n",
    "##### Example:\n",
    "##### If the following n is given as input to the program:\n",
    "##### 10\n",
    "##### Then, the output of the program should be:\n",
    "##### 0,2,4,6,8,10"
   ]
  },
  {
   "cell_type": "code",
   "execution_count": 19,
   "id": "6dba2373",
   "metadata": {},
   "outputs": [
    {
     "name": "stdout",
     "output_type": "stream",
     "text": [
      "Enter a Number : 10\n",
      "Even Number between range 0 to 10 are :  \n",
      "(0, 2, 4, 6, 8, 10)\n"
     ]
    }
   ],
   "source": [
    "def even(n): \n",
    "    for i in range(n+1): \n",
    "        if i %2 == 0 : \n",
    "            yield i \n",
    "    return i \n",
    "\n",
    "n = int(input(\"Enter a Number : \"))\n",
    "print(\"Even Number between range 0 to {} are :  \".format(n))\n",
    "print(tuple(even(n)))\n"
   ]
  },
  {
   "cell_type": "markdown",
   "id": "d2821995",
   "metadata": {},
   "source": [
    "#### Q3.The Fibonacci Sequence is computed based on the following formula:\n",
    "#### f(n)=0 if n=0\n",
    "#### f(n)=1 if n=1\n",
    "#### f(n)=f(n-1)+f(n-2) if n&gt;1\n",
    "#### Please write a program using list comprehension to print the Fibonacci Sequence in comma separated form with a given n input by console.\n",
    "#### Example:\n",
    "#### If the following n is given as input to the program:\n",
    "#### 7\n",
    "#### Then, the output of the program should be:\n",
    "#### 0,1,1,2,3,5,8,13\n"
   ]
  },
  {
   "cell_type": "code",
   "execution_count": 2,
   "id": "a84de6e1",
   "metadata": {},
   "outputs": [
    {
     "data": {
      "text/plain": [
       "[0, 1, 1, 2, 3, 5, 8, 13]"
      ]
     },
     "execution_count": 2,
     "metadata": {},
     "output_type": "execute_result"
    }
   ],
   "source": [
    "# creating fibonacii function for finding single fibonacii number \n",
    "def Fibonacii(n): \n",
    "    if n == 0 : \n",
    "        return 0 \n",
    "                 \n",
    "    if n ==1 or n ==2 : \n",
    "        return 1  \n",
    "\n",
    "    else : \n",
    "        return Fibonacii(n-1) + Fibonacii(n-2)\n",
    "\n",
    "# creating a function for finding fibonacii numbers in a given range \n",
    "def Fibonacii_range(m): \n",
    "    l1 = []\n",
    "    for n in range(m+1):\n",
    "        l1.append(Fibonacii(n)) \n",
    "          \n",
    "    return l1 \n",
    "                \n",
    "Fibonacii_range(7) "
   ]
  },
  {
   "cell_type": "markdown",
   "id": "1619ab73",
   "metadata": {},
   "source": [
    "#### Q4.Assuming that we have some email addresses in the &quot;username@companyname.com&quot; format,\n",
    "#### please write program to print the user name of a given email address. Both user names and company names are composed of letters only.\n",
    "#### Example:\n",
    "#### If the following email address is given as input to the program:\n",
    "#### john@google.com\n",
    "#### Then, the output of the program should be:\n",
    "#### john\n"
   ]
  },
  {
   "cell_type": "code",
   "execution_count": 4,
   "id": "66e71af0",
   "metadata": {},
   "outputs": [
    {
     "name": "stdout",
     "output_type": "stream",
     "text": [
      "john\n"
     ]
    }
   ],
   "source": [
    "str1 = \"john@google.com\"\n",
    "\n",
    "for i in range(len(str1)): \n",
    "    if str1[i] == '@': \n",
    "        print(str1[:i])"
   ]
  },
  {
   "cell_type": "markdown",
   "id": "27dad184",
   "metadata": {},
   "source": [
    "#### Q5.Define a class named Shape and its subclass Square. The Square class has an init function  which takes a length as argument. Both classes have a area function which can print the area of the shape where Shape&#39;s area is 0 by default."
   ]
  },
  {
   "cell_type": "code",
   "execution_count": 15,
   "id": "10eb9014",
   "metadata": {},
   "outputs": [],
   "source": [
    "class Shape : \n",
    "    \n",
    "    def area(): \n",
    "        return 0 \n",
    "    \n",
    "    class Square : \n",
    "        \n",
    "        def __init__(self,l): \n",
    "            self.length = l \n",
    "            \n",
    "        def area(self): \n",
    "            return self.length**2 \n",
    "              "
   ]
  },
  {
   "cell_type": "code",
   "execution_count": 21,
   "id": "70f7f2c8",
   "metadata": {},
   "outputs": [
    {
     "name": "stdout",
     "output_type": "stream",
     "text": [
      "0 mm^2\n",
      "100 mm^2\n"
     ]
    }
   ],
   "source": [
    "obj1 = Shape\n",
    "print(obj1.area(),\"mm^2\")\n",
    "print(obj1.Square(10).area(),\"mm^2\")"
   ]
  },
  {
   "cell_type": "code",
   "execution_count": null,
   "id": "fbc6dd11",
   "metadata": {},
   "outputs": [],
   "source": []
  }
 ],
 "metadata": {
  "kernelspec": {
   "display_name": "Python 3 (ipykernel)",
   "language": "python",
   "name": "python3"
  },
  "language_info": {
   "codemirror_mode": {
    "name": "ipython",
    "version": 3
   },
   "file_extension": ".py",
   "mimetype": "text/x-python",
   "name": "python",
   "nbconvert_exporter": "python",
   "pygments_lexer": "ipython3",
   "version": "3.9.12"
  }
 },
 "nbformat": 4,
 "nbformat_minor": 5
}
