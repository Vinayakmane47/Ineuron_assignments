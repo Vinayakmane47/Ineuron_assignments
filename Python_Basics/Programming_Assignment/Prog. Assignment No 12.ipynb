{
 "cells": [
  {
   "cell_type": "markdown",
   "id": "0d96d7c8",
   "metadata": {},
   "source": [
    "## Programming Assignment No 12"
   ]
  },
  {
   "cell_type": "markdown",
   "id": "87212329",
   "metadata": {},
   "source": [
    "#### Q1.Write a Python program to Extract Unique values dictionary values?"
   ]
  },
  {
   "cell_type": "code",
   "execution_count": 11,
   "id": "1488dcd5",
   "metadata": {},
   "outputs": [
    {
     "data": {
      "text/plain": [
       "['Vinayak', 'Mech', 5544, 23]"
      ]
     },
     "execution_count": 11,
     "metadata": {},
     "output_type": "execute_result"
    }
   ],
   "source": [
    "\n",
    "\n",
    "\n",
    "def unique(d1): \n",
    "    l1 = []\n",
    "    for i in d1.values(): \n",
    "        if i not in l1 : \n",
    "            l1.append(i)\n",
    "    return l1 \n",
    "\n",
    "            \n",
    "            \n",
    "d1 = {\"name\":\"Vinayak\",\"branch\":\"Mech\",\"Subject\":\"Mech\",\"Id\":5544 ,\"Roll No\":5544,\"age\":23}   \n",
    "unique(d1)\n",
    "        "
   ]
  },
  {
   "cell_type": "markdown",
   "id": "737af4eb",
   "metadata": {},
   "source": [
    "#### Q2.Write a Python program to find the sum of all items in a dictionary?"
   ]
  },
  {
   "cell_type": "code",
   "execution_count": 14,
   "id": "3ddcc885",
   "metadata": {},
   "outputs": [
    {
     "data": {
      "text/plain": [
       "1080024"
      ]
     },
     "execution_count": 14,
     "metadata": {},
     "output_type": "execute_result"
    }
   ],
   "source": [
    "\n",
    "\n",
    "def sum_of_items(d1): \n",
    "    sum = 0 \n",
    "    for i in d1.values(): \n",
    "        sum += i \n",
    "    return sum \n",
    "    \n",
    "d1 = {\"current_salary\":80000 ,\"age\":24,\"excepted_salary\":1000000}\n",
    "sum_of_items(d1)  "
   ]
  },
  {
   "cell_type": "markdown",
   "id": "271eea7e",
   "metadata": {},
   "source": [
    "#### Q3.Write a Python program to Merging two Dictionaries?\n"
   ]
  },
  {
   "cell_type": "code",
   "execution_count": 21,
   "id": "3570c056",
   "metadata": {},
   "outputs": [
    {
     "data": {
      "text/plain": [
       "{'name': 'Vinayak',\n",
       " 'branch': 'Mech',\n",
       " 'Subject': 'Mech',\n",
       " 'Id': 5544,\n",
       " 'Roll No': 5544,\n",
       " 'age': 24,\n",
       " 'current_salary': 80000,\n",
       " 'excepted_salary': 1000000}"
      ]
     },
     "execution_count": 21,
     "metadata": {},
     "output_type": "execute_result"
    }
   ],
   "source": [
    "\n",
    "def merge(d1,d2): \n",
    "    d3 =dict()\n",
    "    for key,value in d1.items() : \n",
    "        d3[key] = value \n",
    "    for key,value in d2.items() : \n",
    "        d3[key] = value \n",
    "    return d3 \n",
    "d1 = {\"name\":\"Vinayak\",\"branch\":\"Mech\",\"Subject\":\"Mech\",\"Id\":5544 ,\"Roll No\":5544,\"age\":23}\n",
    "d2 = {\"current_salary\":80000 ,\"age\":24,\"excepted_salary\":1000000}\n",
    "merge(d1,d2)"
   ]
  },
  {
   "cell_type": "markdown",
   "id": "44a25564",
   "metadata": {},
   "source": [
    "#### Q4.Write a Python program to convert key-values list to flat dictionary?"
   ]
  },
  {
   "cell_type": "code",
   "execution_count": 25,
   "id": "ee6f54d7",
   "metadata": {},
   "outputs": [
    {
     "name": "stdout",
     "output_type": "stream",
     "text": [
      "['name', 'Vinayak', 'branch', 'Mech', 'Subject', 'Mech', 'Id', 5544, 'Roll No', 5544, 'age', 23]\n"
     ]
    }
   ],
   "source": [
    "\n",
    "def flat(d1): \n",
    "    l1 = []\n",
    "    for key,value in d1.items(): \n",
    "        l1.append(key)\n",
    "        l1.append(value)\n",
    "    print(l1) \n",
    "    \n",
    "\n",
    "d1 = {\"name\":\"Vinayak\",\"branch\":\"Mech\",\"Subject\":\"Mech\",\"Id\":5544 ,\"Roll No\":5544,\"age\":23}    \n",
    "flat(d1)"
   ]
  },
  {
   "cell_type": "markdown",
   "id": "9f768b10",
   "metadata": {},
   "source": [
    "#### Q5.Write a Python program to insertion at the beginning in OrderedDict?"
   ]
  },
  {
   "cell_type": "code",
   "execution_count": 26,
   "id": "d72063c1",
   "metadata": {},
   "outputs": [
    {
     "name": "stdout",
     "output_type": "stream",
     "text": [
      "Resultant Dictionary : OrderedDict([('manjeet', '3'), ('akshat', '1'), ('nikhil', '2')])\n"
     ]
    }
   ],
   "source": [
    "\n",
    "from collections import OrderedDict\n",
    " \n",
    "\n",
    "iniordered_dict = OrderedDict([('akshat', '1'), ('nikhil', '2')])\n",
    " \n",
    "\n",
    "iniordered_dict.update({'manjeet':'3'})\n",
    "iniordered_dict.move_to_end('manjeet', last = False)\n",
    " \n",
    "\n",
    "print (\"Resultant Dictionary : \"+str(iniordered_dict))"
   ]
  },
  {
   "cell_type": "markdown",
   "id": "5166bacc",
   "metadata": {},
   "source": [
    "#### Q6.Write a Python program to check order of character in string using OrderedDict()?"
   ]
  },
  {
   "cell_type": "code",
   "execution_count": 27,
   "id": "69c9055d",
   "metadata": {},
   "outputs": [
    {
     "name": "stdout",
     "output_type": "stream",
     "text": [
      "true\n"
     ]
    }
   ],
   "source": [
    "from collections import OrderedDict \n",
    "  \n",
    "def checkOrder(input, pattern): \n",
    "      \n",
    "    # create empty OrderedDict \n",
    "    # output will be like {'a': None,'b': None, 'c': None} \n",
    "    dict = OrderedDict.fromkeys(input) \n",
    "  \n",
    "    # traverse generated OrderedDict parallel with \n",
    "    # pattern string to check if order of characters \n",
    "    # are same or not \n",
    "    ptrlen = 0\n",
    "    for key,value in dict.items(): \n",
    "        if (key == pattern[ptrlen]): \n",
    "            ptrlen = ptrlen + 1\n",
    "          \n",
    "        # check if we have traverse complete \n",
    "        # pattern string \n",
    "        if (ptrlen == (len(pattern))): \n",
    "            return 'true'\n",
    "  \n",
    "    # if we come out from for loop that means \n",
    "    # order was mismatched \n",
    "    return 'false'\n",
    "  \n",
    "# Driver program \n",
    "if __name__ == \"__main__\": \n",
    "    input = 'engineers rock'\n",
    "    pattern = 'er'\n",
    "    print (checkOrder(input,pattern)) "
   ]
  },
  {
   "cell_type": "markdown",
   "id": "cc61250d",
   "metadata": {},
   "source": [
    "#### Q7.Write a Python program to sort Python Dictionaries by Key or Value?"
   ]
  },
  {
   "cell_type": "code",
   "execution_count": 31,
   "id": "592ed7b1",
   "metadata": {},
   "outputs": [
    {
     "name": "stdout",
     "output_type": "stream",
     "text": [
      "OrderedDict([('Id', 5544), ('Roll No', 5544), ('Subject', 'Mech'), ('age', 23), ('branch', 'Mech'), ('name', 'Vinayak')])\n"
     ]
    }
   ],
   "source": [
    "from collections import OrderedDict\n",
    " \n",
    "dict1 = {\"name\":\"Vinayak\",\"branch\":\"Mech\",\"Subject\":\"Mech\",\"Id\":5544 ,\"Roll No\":5544,\"age\":23}   \n",
    "dict2 = OrderedDict(sorted(dict1.items()))\n",
    "print(dict2)\n",
    "    "
   ]
  }
 ],
 "metadata": {
  "kernelspec": {
   "display_name": "Python 3 (ipykernel)",
   "language": "python",
   "name": "python3"
  },
  "language_info": {
   "codemirror_mode": {
    "name": "ipython",
    "version": 3
   },
   "file_extension": ".py",
   "mimetype": "text/x-python",
   "name": "python",
   "nbconvert_exporter": "python",
   "pygments_lexer": "ipython3",
   "version": "3.9.12"
  }
 },
 "nbformat": 4,
 "nbformat_minor": 5
}
