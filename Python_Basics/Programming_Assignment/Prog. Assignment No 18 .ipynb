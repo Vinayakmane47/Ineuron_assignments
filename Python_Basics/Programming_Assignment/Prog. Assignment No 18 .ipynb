{
 "cells": [
  {
   "cell_type": "markdown",
   "id": "765c3d25",
   "metadata": {},
   "source": [
    "## Programming Assignment No 18"
   ]
  },
  {
   "cell_type": "markdown",
   "id": "5f6a3a3b",
   "metadata": {},
   "source": [
    "#### Q1.Create a function that takes a list of non-negative integers and strings and return a new list without the strings.\n",
    "#### Examples\n",
    "#### filter_list([1, 2, &quot;a&quot;, &quot;b&quot;]) ➞ [1, 2]\n",
    "#### filter_list([1, &quot;a&quot;, &quot;b&quot;, 0, 15]) ➞ [1, 0, 15]\n",
    "#### Vfilter_list([1, 2, &quot;aasf&quot;, &quot;1&quot;, &quot;123&quot;, 123]) ➞ [1, 2, 123]"
   ]
  },
  {
   "cell_type": "code",
   "execution_count": 1,
   "id": "e8c906ce",
   "metadata": {},
   "outputs": [
    {
     "name": "stdout",
     "output_type": "stream",
     "text": [
      "[1, 2]\n",
      "[1, 0, 15]\n",
      "[1, 2, 123]\n"
     ]
    }
   ],
   "source": [
    "def Vfilter_list(str1) : \n",
    "    l1 = [] \n",
    "    for i in str1 : \n",
    "        if type(i) == int : \n",
    "            l1.append(i)\n",
    "            \n",
    "    return l1 \n",
    "\n",
    "print(Vfilter_list([1, 2, \"a\", \"b\"]))\n",
    "print(Vfilter_list([1, \"a\", \"b\", 0, 15]))\n",
    "print(Vfilter_list([1, 2, \"aasf\", \"1\", \"123\", 123]))"
   ]
  },
  {
   "cell_type": "markdown",
   "id": "85be0bdb",
   "metadata": {},
   "source": [
    "#### Q2.The &quot;Reverser&quot; takes a string as input and returns that string in reverse order, with the opposite case.\n",
    "#### Examples\n",
    "#### reverse(&quot;Hello World&quot;) ➞ &quot;DLROw OLLEh&quot;\n",
    "#### reverse(&quot;ReVeRsE&quot;) ➞ &quot;eSrEvEr&quot;\n",
    "#### reverse(&quot;Radar&quot;) ➞ &quot;RADAr&quot;"
   ]
  },
  {
   "cell_type": "code",
   "execution_count": 4,
   "id": "4faa50f8",
   "metadata": {},
   "outputs": [
    {
     "name": "stdout",
     "output_type": "stream",
     "text": [
      "DLROw OLEh\n",
      "eSrEvEr\n",
      "RADAr\n"
     ]
    }
   ],
   "source": [
    "def reverse(str1): \n",
    "    return str1[::-1].swapcase()\n",
    "\n",
    "\n",
    "print(reverse(\"Helo World\"))\n",
    "print(reverse(\"ReVeRsE\"))\n",
    "print(reverse(\"Radar\"))\n",
    "    "
   ]
  },
  {
   "cell_type": "markdown",
   "id": "eb02859f",
   "metadata": {},
   "source": [
    "#### Q3.You can assign variables from lists like this:\n",
    "#### lst = [1, 2, 3, 4, 5, 6]\n",
    "#### first = lst[0]\n",
    "#### middle = lst[1:-1]\n",
    "#### last = lst[-1]\n",
    "#### print(first) ➞ outputs 1\n",
    "#### print(middle) ➞ outputs [2, 3, 4, 5]\n",
    "#### print(last) ➞ outputs 6\n",
    "#### With Python 3, you can assign variables from lists in a much more succinct way. Create variables first, middle and last from the given list using destructuring assignment\n",
    "#### (check the Resources tab for some examples), where:\n",
    "#### first ➞ 1\n",
    "#### middle ➞ [2, 3, 4, 5]\n",
    "#### last ➞ 6\n",
    "\n",
    "#### Your task is to unpack the list writeyourcodehere into three variables, being first, middle, and last, with middle being everything in between the first and last element. Then print all three variables."
   ]
  },
  {
   "cell_type": "code",
   "execution_count": 8,
   "id": "2f10a0a0",
   "metadata": {},
   "outputs": [
    {
     "name": "stdout",
     "output_type": "stream",
     "text": [
      "The list :  [1, 2, 3, 4, 5, 6]\n",
      "first Element in list :   1\n",
      "Last Element in list :  6\n",
      "Middle Elements :  [2, 3, 4, 5]\n"
     ]
    }
   ],
   "source": [
    "list1 = [1,2,3,4,5,6]\n",
    "first = list1[0]\n",
    "last = list1[-1]\n",
    "middle = list1[1:-1]\n",
    "\n",
    "print(\"The list : \",list1)\n",
    "print(\"first Element in list :  \" ,first)\n",
    "print(\"Last Element in list : \",last)\n",
    "print(\"Middle Elements : \" ,middle)"
   ]
  },
  {
   "cell_type": "markdown",
   "id": "a78a2ef3",
   "metadata": {},
   "source": [
    "#### Q4.Write a function that calculates the factorial of a number recursively.\n",
    "#### Examples\n",
    "#### factorial(5) ➞ 120\n",
    "#### factorial(3) ➞ 6\n",
    "#### factorial(1) ➞ 1\n",
    "#### factorial(0) ➞ 1"
   ]
  },
  {
   "cell_type": "code",
   "execution_count": 10,
   "id": "a130d762",
   "metadata": {},
   "outputs": [
    {
     "name": "stdout",
     "output_type": "stream",
     "text": [
      "120\n",
      "6\n",
      "1\n",
      "1\n"
     ]
    }
   ],
   "source": [
    "def factorial(n): \n",
    "    if n ==0 or n ==1 : \n",
    "        return 1 \n",
    "    \n",
    "    else : \n",
    "        return n*factorial(n-1)\n",
    "    \n",
    "print(factorial(5))\n",
    "print(factorial(3))\n",
    "print(factorial(1))\n",
    "print(factorial(0))"
   ]
  },
  {
   "cell_type": "markdown",
   "id": "90016b8e",
   "metadata": {},
   "source": [
    "#### Q5.Write a function that moves all elements of one type to the end of the list.\n",
    "#### Examples\n",
    "#### move_to_end([1, 3, 2, 4, 4, 1], 1) ➞ [3, 2, 4, 4, 1, 1]\n",
    "#### # Move all the 1s to the end of the array.\n",
    "#### move_to_end([7, 8, 9, 1, 2, 3, 4], 9) ➞ [7, 8, 1, 2, 3, 4, 9]\n",
    "#### move_to_end([&quot;a&quot;, &quot;a&quot;, &quot;a&quot;, &quot;b&quot;], &quot;a&quot;) ➞ [&quot;b&quot;, &quot;a&quot;, &quot;a&quot;, &quot;a&quot;]"
   ]
  },
  {
   "cell_type": "code",
   "execution_count": 16,
   "id": "b5b22190",
   "metadata": {},
   "outputs": [],
   "source": [
    "def move(l1,n): \n",
    "    l2 = []\n",
    "    \n",
    "    for i in l1 : \n",
    "        if i != n : \n",
    "            l2.append(i)\n",
    "            \n",
    "    for i in l1 : \n",
    "        if i== n : \n",
    "            l2.append(i)\n",
    "            \n",
    "    return l2 "
   ]
  },
  {
   "cell_type": "code",
   "execution_count": 15,
   "id": "68e92f6e",
   "metadata": {},
   "outputs": [
    {
     "name": "stdout",
     "output_type": "stream",
     "text": [
      "[3, 2, 4, 4, 1, 1]\n",
      "[7, 8, 1, 2, 3, 4, 9]\n",
      "['b', 'a', 'a', 'a']\n"
     ]
    }
   ],
   "source": [
    "print(move([1, 3, 2, 4, 4, 1], 1))\n",
    "print(move([7, 8, 9, 1, 2, 3, 4], 9))\n",
    "print(move([\"a\", \"a\", \"a\", \"b\"], \"a\"))"
   ]
  },
  {
   "cell_type": "code",
   "execution_count": null,
   "id": "3500dc0b",
   "metadata": {},
   "outputs": [],
   "source": []
  }
 ],
 "metadata": {
  "kernelspec": {
   "display_name": "Python 3 (ipykernel)",
   "language": "python",
   "name": "python3"
  },
  "language_info": {
   "codemirror_mode": {
    "name": "ipython",
    "version": 3
   },
   "file_extension": ".py",
   "mimetype": "text/x-python",
   "name": "python",
   "nbconvert_exporter": "python",
   "pygments_lexer": "ipython3",
   "version": "3.9.12"
  }
 },
 "nbformat": 4,
 "nbformat_minor": 5
}
