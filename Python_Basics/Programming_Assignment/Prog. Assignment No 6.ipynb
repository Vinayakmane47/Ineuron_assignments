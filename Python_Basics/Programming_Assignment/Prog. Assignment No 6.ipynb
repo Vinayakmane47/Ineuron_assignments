{
 "cells": [
  {
   "cell_type": "markdown",
   "id": "65de683d",
   "metadata": {},
   "source": [
    "## Programming Assignment No 6"
   ]
  },
  {
   "cell_type": "markdown",
   "id": "2505090c",
   "metadata": {},
   "source": [
    "#### Q1.Write a Python Program to Display Fibonacci Sequence Using Recursion?"
   ]
  },
  {
   "cell_type": "code",
   "execution_count": 4,
   "id": "323c01b5",
   "metadata": {},
   "outputs": [
    {
     "data": {
      "text/plain": [
       "55"
      ]
     },
     "execution_count": 4,
     "metadata": {},
     "output_type": "execute_result"
    }
   ],
   "source": [
    "def Fibonacii(n): \n",
    "    if n ==1 or n ==2 : \n",
    "        return 1 \n",
    "    elif n ==0 :\n",
    "        return 0 \n",
    "    \n",
    "    else : \n",
    "        return Fibonacii(n-1) + Fibonacii(n-2)\n",
    "    \n",
    "Fibonacii(10)"
   ]
  },
  {
   "cell_type": "markdown",
   "id": "94a30609",
   "metadata": {},
   "source": [
    "#### Q2.Write a Python Program to Find Factorial of Number Using Recursion?"
   ]
  },
  {
   "cell_type": "code",
   "execution_count": 5,
   "id": "d6a359a3",
   "metadata": {},
   "outputs": [
    {
     "data": {
      "text/plain": [
       "120"
      ]
     },
     "execution_count": 5,
     "metadata": {},
     "output_type": "execute_result"
    }
   ],
   "source": [
    "def Fact(n): \n",
    "    if n ==0 or n == 1 : \n",
    "        return 1 \n",
    "    \n",
    "    else : \n",
    "        return n*Fact(n-1)\n",
    "    \n",
    "Fact(5)"
   ]
  },
  {
   "cell_type": "markdown",
   "id": "73cab713",
   "metadata": {},
   "source": [
    "#### Q3.Write a Python Program to calculate your Body Mass Index?"
   ]
  },
  {
   "cell_type": "code",
   "execution_count": 8,
   "id": "0a8e9897",
   "metadata": {},
   "outputs": [
    {
     "data": {
      "text/plain": [
       "21.484374999999996"
      ]
     },
     "execution_count": 8,
     "metadata": {},
     "output_type": "execute_result"
    }
   ],
   "source": [
    "# creating a function for calculating BMI \n",
    "def BMI(w,h): \n",
    "    BMI = w/(h**2)\n",
    "    return BMI\n",
    "# w --> wieght of person in kg\n",
    "# h --> height of person in meters.\n",
    "\n",
    "BMI(55,1.6)"
   ]
  },
  {
   "cell_type": "markdown",
   "id": "df56a432",
   "metadata": {},
   "source": [
    "#### Q4.Write a Python Program to calculate the natural logarithm of any number?"
   ]
  },
  {
   "cell_type": "code",
   "execution_count": 9,
   "id": "e368fa2c",
   "metadata": {},
   "outputs": [
    {
     "name": "stdout",
     "output_type": "stream",
     "text": [
      "Enter a Number : 10\n",
      "Natural Logarithm of 10 is 2.302585092994046\n"
     ]
    }
   ],
   "source": [
    "import numpy as np \n",
    "\n",
    "n = int(input(\"Enter a Number : \"))\n",
    "\n",
    "print(\"Natural Logarithm of {} is {}\".format(n,np.log(n)))"
   ]
  },
  {
   "cell_type": "markdown",
   "id": "5812b44f",
   "metadata": {},
   "source": [
    "#### Q5.Write a Python Program for cube sum of first n natural numbers?"
   ]
  },
  {
   "cell_type": "code",
   "execution_count": 11,
   "id": "f50b3590",
   "metadata": {},
   "outputs": [
    {
     "name": "stdout",
     "output_type": "stream",
     "text": [
      "Enter a Natural Number : 10\n",
      "Sum of cubes of 10 natural Number is 3025.0\n"
     ]
    }
   ],
   "source": [
    "def sum_of_cube(n): \n",
    "    \n",
    "    s = ((n**2)*((n+1)**2))/4\n",
    "    return s \n",
    "\n",
    "\n",
    "n = int(input(\"Enter a Natural Number : \"))\n",
    "\n",
    "print(\"Sum of cubes of {} natural Number is {}\".format(n,sum_of_cube(n)))\n"
   ]
  },
  {
   "cell_type": "code",
   "execution_count": null,
   "id": "42110512",
   "metadata": {},
   "outputs": [],
   "source": []
  }
 ],
 "metadata": {
  "kernelspec": {
   "display_name": "Python 3 (ipykernel)",
   "language": "python",
   "name": "python3"
  },
  "language_info": {
   "codemirror_mode": {
    "name": "ipython",
    "version": 3
   },
   "file_extension": ".py",
   "mimetype": "text/x-python",
   "name": "python",
   "nbconvert_exporter": "python",
   "pygments_lexer": "ipython3",
   "version": "3.9.12"
  }
 },
 "nbformat": 4,
 "nbformat_minor": 5
}
