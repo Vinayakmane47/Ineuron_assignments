{
 "cells": [
  {
   "cell_type": "markdown",
   "id": "fadbc9e1",
   "metadata": {},
   "source": [
    "## Programming Assignment No 5"
   ]
  },
  {
   "cell_type": "markdown",
   "id": "0a284438",
   "metadata": {},
   "source": [
    "#### Q1.Write a Python Program to Find LCM?"
   ]
  },
  {
   "cell_type": "code",
   "execution_count": 4,
   "id": "1de2596a",
   "metadata": {},
   "outputs": [
    {
     "name": "stdout",
     "output_type": "stream",
     "text": [
      "LCM of two numbers 7 and 5 is 35.0\n"
     ]
    }
   ],
   "source": [
    "def gcd(a,b):\n",
    "    if a == 0:\n",
    "        return b\n",
    "    return gcd(b % a, a)\n",
    "\n",
    "def lcm(a,b):\n",
    "    return (a / gcd(a,b))* b\n",
    "a = 7 \n",
    "b = 5 \n",
    "print(\"LCM of two numbers {} and {} is {}\".format(a,b,lcm(a,b)))\n"
   ]
  },
  {
   "cell_type": "markdown",
   "id": "6b5f4d49",
   "metadata": {},
   "source": [
    "#### Q2.Write a Python Program to Find HCF?"
   ]
  },
  {
   "cell_type": "code",
   "execution_count": 9,
   "id": "cd249a15",
   "metadata": {},
   "outputs": [
    {
     "name": "stdout",
     "output_type": "stream",
     "text": [
      "HCF of two numbers 40 and 20 is 20\n"
     ]
    }
   ],
   "source": [
    "def hcf(a,b):\n",
    "    if a == 0:\n",
    "        return b\n",
    "    return hcf(b % a, a)\n",
    "\n",
    "a = 40 \n",
    "b = 20 \n",
    "print(\"HCF of two numbers {} and {} is {}\".format(a,b,hcf(a,b)))\n"
   ]
  },
  {
   "cell_type": "markdown",
   "id": "28002f7e",
   "metadata": {},
   "source": [
    "#### Q3.Write a Python Program to Convert Decimal to Binary, Octal and Hexadecimal?"
   ]
  },
  {
   "cell_type": "code",
   "execution_count": 20,
   "id": "cd22cce7",
   "metadata": {},
   "outputs": [
    {
     "name": "stdout",
     "output_type": "stream",
     "text": [
      "1010"
     ]
    }
   ],
   "source": [
    "def dec_to_binary(n): \n",
    "    if n >=1 :\n",
    "        dec_to_binary(n//2)\n",
    "        print(n%2 , end = '')\n",
    "dec_to_binary(10)"
   ]
  },
  {
   "cell_type": "code",
   "execution_count": 21,
   "id": "845759f0",
   "metadata": {},
   "outputs": [
    {
     "name": "stdout",
     "output_type": "stream",
     "text": [
      "The decimal value of 10 is:\n",
      "0b1010 in binary.\n",
      "0o12 in octal.\n",
      "0xa in hexadecimal.\n"
     ]
    }
   ],
   "source": [
    "decimal = 10\n",
    "print(\"The decimal value of\", decimal, \"is:\")\n",
    "print(bin(decimal), \"in binary.\")\n",
    "print(oct(decimal), \"in octal.\")\n",
    "print(hex(decimal), \"in hexadecimal.\")"
   ]
  },
  {
   "cell_type": "markdown",
   "id": "1fe7edbd",
   "metadata": {},
   "source": [
    "#### Q4.Write a Python Program To Find ASCII value of a character?"
   ]
  },
  {
   "cell_type": "code",
   "execution_count": 26,
   "id": "dd40ddf1",
   "metadata": {},
   "outputs": [
    {
     "name": "stdout",
     "output_type": "stream",
     "text": [
      "The ascii value of V is 86 \n"
     ]
    }
   ],
   "source": [
    "char = 'V'\n",
    "print(\"The ascii value of {} is {} \".format(char,ord(char)))"
   ]
  },
  {
   "cell_type": "markdown",
   "id": "3a8778d9",
   "metadata": {},
   "source": [
    "#### Q5.Write a Python Program to Make a Simple Calculator with 4 basic mathematical operations?"
   ]
  },
  {
   "cell_type": "code",
   "execution_count": 28,
   "id": "c19c1579",
   "metadata": {},
   "outputs": [
    {
     "name": "stdout",
     "output_type": "stream",
     "text": [
      "Summation of two number is :  5\n",
      "Division of two number is :  0.6666666666666666\n",
      "Multiplication of two number is :  6\n",
      "Subtraction of two number is :  -1\n"
     ]
    }
   ],
   "source": [
    "class calculator : \n",
    "    \n",
    "    def summ(a,b): \n",
    "        return a + b \n",
    "    \n",
    "    def div(a,b): \n",
    "        return a/b \n",
    "    \n",
    "    def mul(a,b): \n",
    "        return a*b \n",
    "    \n",
    "    def sub(a,b): \n",
    "        return a-b\n",
    "    \n",
    "operation = calculator\n",
    "print(\"Summation of two number is : \" ,operation.summ(2,3))\n",
    "print(\"Division of two number is : \", operation.div(2,3))\n",
    "print(\"Multiplication of two number is : \", operation.mul(2,3))\n",
    "print(\"Subtraction of two number is : \", operation.sub(2,3))"
   ]
  }
 ],
 "metadata": {
  "kernelspec": {
   "display_name": "Python 3 (ipykernel)",
   "language": "python",
   "name": "python3"
  },
  "language_info": {
   "codemirror_mode": {
    "name": "ipython",
    "version": 3
   },
   "file_extension": ".py",
   "mimetype": "text/x-python",
   "name": "python",
   "nbconvert_exporter": "python",
   "pygments_lexer": "ipython3",
   "version": "3.9.12"
  }
 },
 "nbformat": 4,
 "nbformat_minor": 5
}
