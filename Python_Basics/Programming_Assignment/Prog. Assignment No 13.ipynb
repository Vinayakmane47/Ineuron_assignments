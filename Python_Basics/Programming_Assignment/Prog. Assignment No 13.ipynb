{
 "cells": [
  {
   "cell_type": "markdown",
   "id": "459e7b1e",
   "metadata": {},
   "source": [
    "## Programming Assignment No 13"
   ]
  },
  {
   "cell_type": "markdown",
   "id": "7bafeab7",
   "metadata": {},
   "source": [
    "#### Q1.Write a program that calculates and prints the value according to the given formula:\n",
    "#### Q = Square root of [(2 * C * D)/H]\n",
    "#### Following are the fixed values of C and H:\n",
    "#### C is 50. H is 30.\n",
    "#### D is the variable whose values should be input to your program in a comma-separated sequence.\n",
    "#### Example\n",
    "#### Let us assume the following comma separated input sequence is given to the program:\n",
    "#### 100,150,180\n",
    "#### The output of the program should be:\n",
    "#### 18,22,24"
   ]
  },
  {
   "cell_type": "code",
   "execution_count": 27,
   "id": "ad7b45c6",
   "metadata": {},
   "outputs": [
    {
     "data": {
      "text/plain": [
       "array([18., 22., 24.])"
      ]
     },
     "execution_count": 27,
     "metadata": {},
     "output_type": "execute_result"
    }
   ],
   "source": [
    "def cal(*args): \n",
    "    import numpy as np \n",
    "    args = np.array(args)\n",
    "    C = 50 \n",
    "    H = 30 \n",
    "    Q = np.sqrt((2*C*args)/H)\n",
    "    return  np.round(Q)\n",
    "\n",
    "cal(100,150,180)"
   ]
  },
  {
   "cell_type": "markdown",
   "id": "5f45565f",
   "metadata": {},
   "source": [
    "#### Q2.Write a program which takes 2 digits, X,Y as input and generates a 2-dimensional array. The element value in the i-th row and j-th column of the array should be i*j.\n",
    "####  Note: i=0,1.., X-1; j=0,1,¡Y-1.\n",
    "####  Example\n",
    "####  Suppose the following inputs are given to the program:\n",
    "####  3,5\n",
    "####  Then, the output of the program should be:\n",
    "####  [[0, 0, 0, 0, 0], [0, 1, 2, 3, 4], [0, 2, 4, 6, 8]]"
   ]
  },
  {
   "cell_type": "code",
   "execution_count": 37,
   "id": "3f28643d",
   "metadata": {},
   "outputs": [
    {
     "data": {
      "text/plain": [
       "array([[0, 0, 0, 0, 0],\n",
       "       [0, 1, 2, 3, 4],\n",
       "       [0, 2, 4, 6, 8]])"
      ]
     },
     "execution_count": 37,
     "metadata": {},
     "output_type": "execute_result"
    }
   ],
   "source": [
    "\n",
    "def array_of_inputs(m,n): \n",
    "    import numpy as np \n",
    "    arr = []\n",
    "    for i in range(m) :\n",
    "        l1 =  [ ]\n",
    "        for j in range(n): \n",
    "            l1.append(i*j)\n",
    "        arr.append(l1)\n",
    "\n",
    "    return np.array(arr)\n",
    "    \n",
    "        \n",
    "array_of_inputs(3,5)    "
   ]
  },
  {
   "cell_type": "markdown",
   "id": "412e9e4a",
   "metadata": {},
   "source": [
    "#### Q3.Write a program that accepts a comma separated sequence of words as input and prints the\n",
    "#### words in a comma-separated sequence after sorting them alphabetically.\n",
    "#### Suppose the following input is supplied to the program:\n",
    "#### without,hello,bag,world\n",
    "#### Then, the output should be:\n",
    "#### bag,hello,without,world"
   ]
  },
  {
   "cell_type": "code",
   "execution_count": 43,
   "id": "2d3bdfca",
   "metadata": {},
   "outputs": [
    {
     "data": {
      "text/plain": [
       "['bag', 'hello', 'without', 'world']"
      ]
     },
     "execution_count": 43,
     "metadata": {},
     "output_type": "execute_result"
    }
   ],
   "source": [
    "\n",
    "def sorting(*args): \n",
    "    l1 = list(args)\n",
    "    l1.sort()\n",
    "    return l1 \n",
    "\n",
    "sorting('without','hello','bag','world')"
   ]
  },
  {
   "cell_type": "markdown",
   "id": "8ff243e2",
   "metadata": {},
   "source": [
    "#### Q4.Write a program that accepts a sequence of whitespace separated words as input and prints\n",
    "##### the words after removing all duplicate words and sorting them alphanumerically.\n",
    "##### Suppose the following input is supplied to the program:\n",
    "##### hello world and practice makes perfect and hello world again\n",
    "##### Then, the output should be:\n",
    "##### again and hello makes perfect practice world"
   ]
  },
  {
   "cell_type": "code",
   "execution_count": 14,
   "id": "a6cf1f59",
   "metadata": {},
   "outputs": [
    {
     "name": "stdout",
     "output_type": "stream",
     "text": [
      "Enter String here : \"hello\" \"world\" \"and\" \"practice\" \"makes\" \"perfect\" \"and\" \"hello\" \"world\" \"again\"\n",
      "\"again\" \"and\" \"hello\" \"makes\" \"perfect\" \"practice\" \"world\"\n"
     ]
    }
   ],
   "source": [
    "string = \"hello\" \"world\" \"and\" \"practice\" \"makes\" \"perfect\" \"and\" \"hello\" \"world\" \"again\"\n",
    "args = input(\"Enter String here : \")\n",
    "args_splited = args.split(' ')\n",
    "\n",
    "word_list = []\n",
    "for i in args_splited:\n",
    "    if i not in word_list:\n",
    "        word_list.append(i)\n",
    "    else:\n",
    "        continue\n",
    "word_list.sort()\n",
    "print((' ').join(word_list))"
   ]
  },
  {
   "cell_type": "markdown",
   "id": "46c56dc8",
   "metadata": {},
   "source": [
    "#### Q5.Write a program that accepts a sentence and calculate the number of letters and digits.\n",
    "#### Suppose the following input is supplied to the program:\n",
    "#### hello world! 123\n",
    "#### Then, the output should be:\n",
    "#### LETTERS 10\n",
    "#### DIGITS 3"
   ]
  },
  {
   "cell_type": "code",
   "execution_count": 21,
   "id": "1b7fa78a",
   "metadata": {},
   "outputs": [
    {
     "name": "stdout",
     "output_type": "stream",
     "text": [
      "LETTERS :  10\n",
      "DIGITS :  3\n"
     ]
    }
   ],
   "source": [
    "str1 = \"hello world! 123\"\n",
    "letters = 0 \n",
    "digits = 0 \n",
    "for i in str1 : \n",
    "    if i.isalpha() == True : \n",
    "        letters = letters + 1 \n",
    "    elif i.isdigit() == True : \n",
    "        digits = digits + 1 \n",
    "        \n",
    "print(\"LETTERS : \" ,letters)\n",
    "print(\"DIGITS : \",digits)"
   ]
  },
  {
   "cell_type": "markdown",
   "id": "621011ef",
   "metadata": {},
   "source": [
    "#### Q6.A website requires the users to input username and password to register. Write a program to\n",
    "#### check the validity of password input by users.\n",
    "#### Following are the criteria for checking the password:\n",
    "#### 1. At least 1 letter between [a-z]\n",
    "#### 2. At least 1 number between [0-9]\n",
    "#### 1. At least 1 letter between [A-Z]\n",
    "#### 3. At least 1 character from [$#@]\n",
    "\n"
   ]
  },
  {
   "cell_type": "markdown",
   "id": "530c04b5",
   "metadata": {},
   "source": [
    "#### 4. Minimum length of transaction password: 6\n",
    "#### 5. Maximum length of transaction password: 12\n",
    "#### Your program should accept a sequence of comma separated passwords and will check them\n",
    "#### according to the above criteria. Passwords that match the criteria are to be printed, each\n",
    "#### separated by a comma.\n",
    "#### Example\n",
    "#### If the following passwords are given as input to the program:\n",
    "#### ABd1234@1,a F1#,2w3E*,2We3345\n",
    "#### Then, the output of the program should be:\n",
    "#### ABd1234@1"
   ]
  },
  {
   "cell_type": "code",
   "execution_count": 28,
   "id": "08a0934a",
   "metadata": {},
   "outputs": [
    {
     "name": "stdout",
     "output_type": "stream",
     "text": [
      "Type in: ABd1234@1,a F1#,2w3E*,2We3345\n",
      "ABd1234@1\n"
     ]
    }
   ],
   "source": [
    "import re\n",
    "\n",
    "passwords = input(\"Type in: \")\n",
    "passwords = passwords.split(\",\")\n",
    "\n",
    "accepted_pass = []\n",
    "for i in passwords:\n",
    "    \n",
    "    if len(i) < 6 or len(i) > 12:\n",
    "        continue\n",
    "\n",
    "    elif not re.search(\"([a-z])+\", i):\n",
    "        continue\n",
    "\n",
    "    elif not re.search(\"([A-Z])+\", i):\n",
    "        continue\n",
    "\n",
    "    elif not re.search(\"([0-9])+\", i):\n",
    "        continue\n",
    "\n",
    "    elif not re.search(\"([!@$%^&])+\", i):\n",
    "        continue\n",
    "\n",
    "    else:\n",
    "        accepted_pass.append(i)\n",
    "\n",
    "print((\" \").join(accepted_pass))"
   ]
  },
  {
   "cell_type": "code",
   "execution_count": null,
   "id": "a60c6dc7",
   "metadata": {},
   "outputs": [],
   "source": []
  },
  {
   "cell_type": "code",
   "execution_count": null,
   "id": "81415ea2",
   "metadata": {},
   "outputs": [],
   "source": []
  }
 ],
 "metadata": {
  "kernelspec": {
   "display_name": "Python 3 (ipykernel)",
   "language": "python",
   "name": "python3"
  },
  "language_info": {
   "codemirror_mode": {
    "name": "ipython",
    "version": 3
   },
   "file_extension": ".py",
   "mimetype": "text/x-python",
   "name": "python",
   "nbconvert_exporter": "python",
   "pygments_lexer": "ipython3",
   "version": "3.9.12"
  }
 },
 "nbformat": 4,
 "nbformat_minor": 5
}
