{
 "cells": [
  {
   "cell_type": "markdown",
   "id": "152fec2b",
   "metadata": {},
   "source": [
    "## Programming Assignment No 7"
   ]
  },
  {
   "cell_type": "markdown",
   "id": "c4c92f12",
   "metadata": {},
   "source": [
    "#### Q1.Write a Python Program to find sum of array?"
   ]
  },
  {
   "cell_type": "code",
   "execution_count": 14,
   "id": "061ed346",
   "metadata": {},
   "outputs": [
    {
     "name": "stdout",
     "output_type": "stream",
     "text": [
      "Sum of numbers is  21\n"
     ]
    }
   ],
   "source": [
    "# creating a function : \n",
    "\n",
    "try : \n",
    "    def sum_of_array(*args): \n",
    "        sum1 = 0 \n",
    "        for i in args : \n",
    "            sum1 += i \n",
    "        return sum1 \n",
    "    \n",
    "    print( \"Sum of numbers is \" ,sum_of_array(1,2,3,4,5,6))\n",
    "    \n",
    "except Exception as e : \n",
    "    print(e)\n",
    "\n",
    "   "
   ]
  },
  {
   "cell_type": "markdown",
   "id": "4018a2dc",
   "metadata": {},
   "source": [
    "#### Q2.Write a Python Program to find largest element in an array?"
   ]
  },
  {
   "cell_type": "code",
   "execution_count": 72,
   "id": "b0d8d172",
   "metadata": {},
   "outputs": [
    {
     "data": {
      "text/plain": [
       "202"
      ]
     },
     "execution_count": 72,
     "metadata": {},
     "output_type": "execute_result"
    }
   ],
   "source": [
    "# Creating Function to find largest Number : \n",
    "\n",
    "def largest(args):   \n",
    "    for i in args :\n",
    "        for j in args : \n",
    "            if i > j : \n",
    "                large = i    \n",
    "    while True :\n",
    "        for i in args : \n",
    "            if i > large : \n",
    "                large = i \n",
    "        else : \n",
    "            return large  \n",
    "    return large\n",
    "            \n",
    "largest([1,5,7,1,5,6,202,9,101,12,52,45,88])       "
   ]
  },
  {
   "cell_type": "markdown",
   "id": "626c830b",
   "metadata": {},
   "source": [
    "#### Q3.Write a Python Program for array rotation?"
   ]
  },
  {
   "cell_type": "code",
   "execution_count": 38,
   "id": "0e87aaac",
   "metadata": {},
   "outputs": [
    {
     "name": "stdout",
     "output_type": "stream",
     "text": [
      "Array after left rotation is:  [3, 4, 5, 6, 7, 1, 2]\n"
     ]
    }
   ],
   "source": [
    "\n",
    "# function to rotate array by d elements using temp array\n",
    "def rotateArray(arr, n, d):\n",
    "    temp = []\n",
    "    i = 0\n",
    "    while (i < d):\n",
    "        temp.append(arr[i])\n",
    "        i = i + 1\n",
    "    i = 0\n",
    "    while (d < n):\n",
    "        arr[i] = arr[d]\n",
    "        i = i + 1\n",
    "        d = d + 1\n",
    "    arr[:] = arr[: i] + temp\n",
    "    return arr\n",
    " \n",
    "\n",
    "arr = [1, 2, 3, 4, 5, 6, 7]\n",
    "print(\"Array after left rotation is: \", end=' ')\n",
    "print(rotateArray(arr, len(arr), 2))"
   ]
  },
  {
   "cell_type": "markdown",
   "id": "c796028b",
   "metadata": {},
   "source": [
    "#### Q4.Write a Python Program to Split the array and add the first part to the end?"
   ]
  },
  {
   "cell_type": "code",
   "execution_count": 69,
   "id": "7efe73b9",
   "metadata": {},
   "outputs": [
    {
     "data": {
      "text/plain": [
       "[4, 2, 7, 51, 752, 2, 5, 4, 7, 8, 9]"
      ]
     },
     "execution_count": 69,
     "metadata": {},
     "output_type": "execute_result"
    }
   ],
   "source": [
    "def split(arr): \n",
    "    \n",
    "    a = len(arr)/2\n",
    "    import numpy as np\n",
    "    a = np.ceil(a)\n",
    "    a = int(a)\n",
    "    first_part = arr[:a] \n",
    "    second_part = arr[a:]\n",
    "    \n",
    "    array = second_part + first_part\n",
    "    return array\n",
    "arr = [2,5,4,7,8,9,4,2,7,51,752]\n",
    "split(arr)"
   ]
  },
  {
   "cell_type": "markdown",
   "id": "f038db53",
   "metadata": {},
   "source": [
    "#### Q5.Write a Python Program to check if given array is Monotonic?"
   ]
  },
  {
   "cell_type": "code",
   "execution_count": 94,
   "id": "8d47f76c",
   "metadata": {},
   "outputs": [
    {
     "name": "stdout",
     "output_type": "stream",
     "text": [
      "False\n"
     ]
    }
   ],
   "source": [
    "def Monotonic(arr):\n",
    "    \n",
    "    return (all(arr[i] <= arr[i + 1] for i in range(len(arr) - 1)) or\n",
    "            all(arr[i] >= arr[i + 1] for i in range(len(arr) - 1)))\n",
    "  \n",
    "\n",
    "arr = [1,2,3,4,5,6,7,2]\n",
    "# Print required result\n",
    "print(Monotonic(arr))"
   ]
  },
  {
   "cell_type": "code",
   "execution_count": null,
   "id": "5fc147e8",
   "metadata": {},
   "outputs": [],
   "source": []
  }
 ],
 "metadata": {
  "kernelspec": {
   "display_name": "Python 3 (ipykernel)",
   "language": "python",
   "name": "python3"
  },
  "language_info": {
   "codemirror_mode": {
    "name": "ipython",
    "version": 3
   },
   "file_extension": ".py",
   "mimetype": "text/x-python",
   "name": "python",
   "nbconvert_exporter": "python",
   "pygments_lexer": "ipython3",
   "version": "3.9.12"
  }
 },
 "nbformat": 4,
 "nbformat_minor": 5
}
