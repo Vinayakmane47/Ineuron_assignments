{
 "cells": [
  {
   "cell_type": "markdown",
   "id": "0d9f22f2",
   "metadata": {},
   "source": [
    "## Programming Assignment No 08"
   ]
  },
  {
   "cell_type": "markdown",
   "id": "c01da469",
   "metadata": {},
   "source": [
    "#### Q1.Write a Python Program to Add Two Matrices?"
   ]
  },
  {
   "cell_type": "code",
   "execution_count": 14,
   "id": "6e5b8b17",
   "metadata": {},
   "outputs": [
    {
     "name": "stdout",
     "output_type": "stream",
     "text": [
      "[[ 6  4  7]\n",
      " [11 11  9]]\n"
     ]
    }
   ],
   "source": [
    "import numpy as np \n",
    "\n",
    "arr1 = np.array([[1,2,3],[3,4,5]])\n",
    "arr2 = np.array([[5,2,4],[8,7,4]])\n",
    "\n",
    "print(arr1 + arr2)"
   ]
  },
  {
   "cell_type": "markdown",
   "id": "4c8841ee",
   "metadata": {},
   "source": [
    "#### Q2.Write a Python Program to Multiply Two Matrices?"
   ]
  },
  {
   "cell_type": "code",
   "execution_count": 21,
   "id": "9503061b",
   "metadata": {},
   "outputs": [
    {
     "name": "stdout",
     "output_type": "stream",
     "text": [
      "Element wise multiplication : \n",
      "[[ 5  4 12]\n",
      " [24 28 20]]\n",
      "\n",
      "Dot product : \n",
      "[[34 30]\n",
      " [66 58]]\n"
     ]
    }
   ],
   "source": [
    "import numpy as np \n",
    "\n",
    "arr1 = np.array([[1,2,3],[3,4,5]])\n",
    "arr2 = np.array([[5,2,4],[8,7,4]])\n",
    "\n",
    "print(\"Element wise multiplication : \")\n",
    "print(arr1*arr2)\n",
    "print()\n",
    "print(\"Dot product : \")\n",
    "# Dot product \n",
    "print(np.dot(arr1,arr2.reshape(3,2)))"
   ]
  },
  {
   "cell_type": "markdown",
   "id": "43adc802",
   "metadata": {},
   "source": [
    "#### Q3.Write a Python Program to Transpose a Matrix?"
   ]
  },
  {
   "cell_type": "code",
   "execution_count": 24,
   "id": "095911a1",
   "metadata": {},
   "outputs": [
    {
     "name": "stdout",
     "output_type": "stream",
     "text": [
      " Array Before transpose : \n",
      "[[1 2 3]\n",
      " [3 4 5]]\n",
      "\n",
      "Array after transpose : \n",
      "[[1 3]\n",
      " [2 4]\n",
      " [3 5]]\n"
     ]
    }
   ],
   "source": [
    "import numpy as np \n",
    "\n",
    "arr1 = arr1 = np.array([[1,2,3],[3,4,5]])\n",
    "print(' Array Before transpose : ')\n",
    "print(arr1)\n",
    "print()\n",
    "\n",
    "arr3 = np.transpose(arr1)\n",
    "print(\"Array after transpose : \")\n",
    "print(arr3)"
   ]
  },
  {
   "cell_type": "markdown",
   "id": "151343a1",
   "metadata": {},
   "source": [
    "#### Q4.Write a Python Program to Sort Words in Alphabetic Order?"
   ]
  },
  {
   "cell_type": "code",
   "execution_count": 31,
   "id": "bb9bb232",
   "metadata": {},
   "outputs": [
    {
     "name": "stdout",
     "output_type": "stream",
     "text": [
      "['Enrolled', 'FSDS', 'Have', 'I', 'In', 'Myself', 'Programme', 'Vinayak']\n"
     ]
    }
   ],
   "source": [
    "word = [\"Myself\",\"Vinayak\",\"I\",\"Have\",\"Enrolled\",\"In\",\"FSDS\",\"Programme\"]\n",
    "word.sort()\n",
    "print(word)"
   ]
  },
  {
   "cell_type": "markdown",
   "id": "b6c09d63",
   "metadata": {},
   "source": [
    "#### Q5.Write a Python Program to Remove Punctuation From a String?"
   ]
  },
  {
   "cell_type": "code",
   "execution_count": 39,
   "id": "d67f692e",
   "metadata": {},
   "outputs": [
    {
     "name": "stdout",
     "output_type": "stream",
     "text": [
      "Good Morning\n"
     ]
    }
   ],
   "source": [
    "string = \"Good Morning!\"\n",
    "\n",
    "string = string.replace(\"!\",\"\")\n",
    "print(string)"
   ]
  },
  {
   "cell_type": "code",
   "execution_count": null,
   "id": "2ac6d54f",
   "metadata": {},
   "outputs": [],
   "source": []
  },
  {
   "cell_type": "code",
   "execution_count": null,
   "id": "a0a63ba1",
   "metadata": {},
   "outputs": [],
   "source": []
  }
 ],
 "metadata": {
  "kernelspec": {
   "display_name": "Python 3 (ipykernel)",
   "language": "python",
   "name": "python3"
  },
  "language_info": {
   "codemirror_mode": {
    "name": "ipython",
    "version": 3
   },
   "file_extension": ".py",
   "mimetype": "text/x-python",
   "name": "python",
   "nbconvert_exporter": "python",
   "pygments_lexer": "ipython3",
   "version": "3.9.12"
  }
 },
 "nbformat": 4,
 "nbformat_minor": 5
}
