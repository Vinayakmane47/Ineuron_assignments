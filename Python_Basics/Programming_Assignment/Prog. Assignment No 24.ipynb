{
 "cells": [
  {
   "cell_type": "markdown",
   "id": "60044540",
   "metadata": {},
   "source": [
    "## Programming Assignment No 24"
   ]
  },
  {
   "cell_type": "markdown",
   "id": "1705a026",
   "metadata": {},
   "source": [
    "#### Q1.Create a function that takes an integer and returns a list from 1 to the given number, where:\n",
    "#### 1. If the number can be divided evenly by 4, amplify it by 10 (i.e. return 10 times the number).\n",
    "#### 2. If the number cannot be divided evenly by 4, simply return the number.\n",
    "#### Examples\n",
    "#### amplify(4) ➞ [1, 2, 3, 40]\n",
    "#### amplify(3) ➞ [1, 2, 3]\n",
    "#### amplify(25) ➞ [1, 2, 3, 40, 5, 6, 7, 80, 9, 10, 11, 120, 13, 14, 15, 160, 17, 18, 19, 200, 21, 22, 23, 240, 25]\n",
    "#### Notes\n",
    "####  The given integer will always be equal to or greater than 1.\n",
    "####  Include the number (see example above).\n",
    "####  To perform this problem with its intended purpose, try doing it with list comprehensions. If that&#39;s too difficult, just solve the challenge any way you can."
   ]
  },
  {
   "cell_type": "code",
   "execution_count": 3,
   "id": "62d10a75",
   "metadata": {},
   "outputs": [
    {
     "name": "stdout",
     "output_type": "stream",
     "text": [
      "[1, 2, 3, 40]\n",
      "[1, 2, 3]\n",
      "[1, 2, 3, 40, 5, 6, 7, 80, 9, 10, 11, 120, 13, 14, 15, 160, 17, 18, 19, 200, 21, 22, 23, 240, 25]\n"
     ]
    }
   ],
   "source": [
    "def amplify(n): \n",
    "    l1 = []\n",
    "    for i in range(1,n+1): \n",
    "        if i % 4 == 0 : \n",
    "            l1.append(i*10)\n",
    "        elif i%4 != 0 : \n",
    "            l1.append(i)\n",
    "    return l1 \n",
    "\n",
    "print(amplify(4))\n",
    "print(amplify(3))\n",
    "print(amplify(25))\n",
    "        \n",
    "        "
   ]
  },
  {
   "cell_type": "markdown",
   "id": "856ad5a4",
   "metadata": {},
   "source": [
    "#### Q2.Create a function that takes a list of numbers and return the number that&#39;s unique.\n",
    "#### Examples\n",
    "#### unique([3, 3, 3, 7, 3, 3]) ➞ 7\n",
    "#### unique([0, 0, 0.77, 0, 0]) ➞ 0.77\n",
    "#### unique([0, 1, 1, 1, 1, 1, 1, 1]) ➞ 0\n",
    "#### Notes\n",
    "#### Test cases will always have exactly one unique number while all others are the same."
   ]
  },
  {
   "cell_type": "code",
   "execution_count": 8,
   "id": "de9ba75f",
   "metadata": {},
   "outputs": [
    {
     "name": "stdout",
     "output_type": "stream",
     "text": [
      "7\n",
      "0.77\n",
      "0\n"
     ]
    }
   ],
   "source": [
    "def unique(l1): \n",
    "    d1 = dict()\n",
    "    s1 = set(l1)\n",
    "    for i in s1 :\n",
    "        sum1 = 0 \n",
    "        for j in l1 : \n",
    "            if i == j  : \n",
    "                sum1 += 1 \n",
    "        d1[i] = sum1\n",
    "    for key,value in d1.items(): \n",
    "        if value == 1 : \n",
    "            return key \n",
    "        \n",
    "print(unique([3, 3, 3, 7, 3, 3]))     \n",
    "print(unique([0, 0, 0.77, 0, 0]))\n",
    "print(unique([0, 1, 1, 1, 1, 1, 1, 1]))"
   ]
  },
  {
   "cell_type": "markdown",
   "id": "dff38ab2",
   "metadata": {},
   "source": [
    "#### Q3.Your task is to create a Circle constructor that creates a circle with a radius provided by an argument. The circles constructed must have two getters getArea() (PIr^2) and getPerimeter() (2PI*r) which give both respective areas and perimeter (circumference). For help with this class, I have provided you with a Rectangle constructor which you can use as a base example.\n",
    "#### Examples\n",
    "#### circy = Circle(11)\n",
    "#### circy.getArea()\n",
    "#### # Should return 380.132711084365\n",
    "#### circy = Circle(4.44)\n",
    "#### circy.getPerimeter()\n",
    "#### # Should return 27.897342763877365\n",
    "#### Notes\n",
    "#### Round results up to the nearest integer."
   ]
  },
  {
   "cell_type": "code",
   "execution_count": 14,
   "id": "c1521893",
   "metadata": {},
   "outputs": [
    {
     "name": "stdout",
     "output_type": "stream",
     "text": [
      "380.132711084365\n",
      "27.897342763877365\n"
     ]
    }
   ],
   "source": [
    "class Circle : \n",
    "    \n",
    "    def __init__(self,r): \n",
    "        self.r = r \n",
    "        \n",
    "        \n",
    "    def getArea(self): \n",
    "        import numpy as np \n",
    "        area = np.pi * ((self.r)**2)\n",
    "        print(area)\n",
    "        \n",
    "    def getPerimeter(self): \n",
    "        import numpy as np \n",
    "        perimeter = 2*np.pi*(self.r)\n",
    "        print(perimeter)\n",
    "        \n",
    "# creating an object \n",
    "\n",
    "circy = Circle(11)\n",
    "circy.getArea()\n",
    "circy = Circle(4.44)\n",
    "circy.getPerimeter()"
   ]
  },
  {
   "cell_type": "markdown",
   "id": "c1f20b00",
   "metadata": {},
   "source": [
    "#### Q4.Create a function that takes a list of strings and return a list, sorted from shortest to longest.\n",
    "#### Examples\n",
    "#### sort_by_length([&quot;Google&quot;, &quot;Apple&quot;, &quot;Microsoft&quot;])\n",
    "#### ➞ [&quot;Apple&quot;, &quot;Google&quot;, &quot;Microsoft&quot;]\n",
    "#### sort_by_length([&quot;Leonardo&quot;, &quot;Michelangelo&quot;, &quot;Raphael&quot;, &quot;Donatello&quot;])\n",
    "#### ➞ [&quot;Raphael&quot;, &quot;Leonardo&quot;, &quot;Donatello&quot;, &quot;Michelangelo&quot;]\n",
    "#### sort_by_length([&quot;Turing&quot;, &quot;Einstein&quot;, &quot;Jung&quot;])\n",
    "#### ➞ [&quot;Jung&quot;, &quot;Turing&quot;, &quot;Einstein&quot;]\n",
    "#### Notes\n",
    "#### All test cases contain lists with strings of different lengths, so you won&#39;t have to deal with multiple strings of the same length."
   ]
  },
  {
   "cell_type": "code",
   "execution_count": 33,
   "id": "5e8001f3",
   "metadata": {},
   "outputs": [
    {
     "name": "stdout",
     "output_type": "stream",
     "text": [
      "['Apple', 'Google', 'Microsoft']\n",
      "['Raphael', 'Leonardo', 'Donatello', 'Michelangelo']\n",
      "['Jung', 'Turing', 'Einstein']\n"
     ]
    }
   ],
   "source": [
    "def sort_by_length(l1): \n",
    "    d1 = dict()\n",
    "    s1 = set(l1)\n",
    "    for i in s1 :\n",
    "        d1[i] = len(i)\n",
    "    d2 = dict(sorted(d1.items(), key=lambda item: item[1]))\n",
    "    \n",
    "    return list(d2.keys())\n",
    "    \n",
    "\n",
    "print(sort_by_length([\"Google\", \"Apple\", \"Microsoft\"]))\n",
    "print(sort_by_length([\"Leonardo\", \"Michelangelo\", \"Raphael\", \"Donatello\"]))     \n",
    "print(sort_by_length([\"Turing\", \"Einstein\", \"Jung\"]))\n",
    "    "
   ]
  },
  {
   "cell_type": "markdown",
   "id": "5dc1859f",
   "metadata": {},
   "source": [
    "#### Q5.Create a function that validates whether three given integers form a Pythagorean triplet. The sum of the squares of the two smallest integers must equal the square of the largest number to be validated.\n",
    "#### is_triplet(3, 4, 5) ➞ True\n",
    "#### # 3² + 4² = 25\n",
    "#### # 5² = 25\n",
    "#### is_triplet(13, 5, 12) ➞ True\n",
    "#### # 5² + 12² = 169\n",
    "#### # 13² = 169\n",
    "#### is_triplet(1, 2, 3) ➞ False\n",
    "#### # 1² + 2² = 5\n",
    "#### # 3² = 9\n",
    "#### Notes\n",
    "#### Numbers may not be given in a sorted order."
   ]
  },
  {
   "cell_type": "code",
   "execution_count": 35,
   "id": "8336742d",
   "metadata": {},
   "outputs": [
    {
     "name": "stdout",
     "output_type": "stream",
     "text": [
      "True\n",
      "True\n",
      "False\n"
     ]
    }
   ],
   "source": [
    "def is_triplet(a,b,c): \n",
    "    \n",
    "    if a**2 + b**2 == c**2 : \n",
    "        return True \n",
    "    elif a**2 + c**2 == b**2 : \n",
    "        return True \n",
    "    elif b **2 + c**2 == a**2 : \n",
    "        return True \n",
    "    else : \n",
    "        return False \n",
    "    \n",
    "    \n",
    "print(is_triplet(3,4,5))\n",
    "print(is_triplet(13, 5, 12))\n",
    "print(is_triplet(1, 2, 3))"
   ]
  }
 ],
 "metadata": {
  "kernelspec": {
   "display_name": "Python 3 (ipykernel)",
   "language": "python",
   "name": "python3"
  },
  "language_info": {
   "codemirror_mode": {
    "name": "ipython",
    "version": 3
   },
   "file_extension": ".py",
   "mimetype": "text/x-python",
   "name": "python",
   "nbconvert_exporter": "python",
   "pygments_lexer": "ipython3",
   "version": "3.9.12"
  }
 },
 "nbformat": 4,
 "nbformat_minor": 5
}
