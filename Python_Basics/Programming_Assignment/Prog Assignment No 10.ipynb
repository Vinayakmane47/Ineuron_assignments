{
 "cells": [
  {
   "cell_type": "markdown",
   "id": "edd852a0",
   "metadata": {},
   "source": [
    "## Programming Assignment No 10 "
   ]
  },
  {
   "cell_type": "markdown",
   "id": "d576b8bf",
   "metadata": {},
   "source": [
    "#### Q1.Write a Python program to find sum of elements in list?"
   ]
  },
  {
   "cell_type": "code",
   "execution_count": 2,
   "id": "72f5b2c4",
   "metadata": {},
   "outputs": [
    {
     "data": {
      "text/plain": [
       "55"
      ]
     },
     "execution_count": 2,
     "metadata": {},
     "output_type": "execute_result"
    }
   ],
   "source": [
    "# Sum of element in list \n",
    "def sum_of_el(n): \n",
    "    sum = 0 \n",
    "    for i in range(len(n)) : \n",
    "        sum += n[i]\n",
    "    return sum \n",
    "list1 = [1,2,3,4,5,6,7,8,9,10]\n",
    "sum_of_el(list1)"
   ]
  },
  {
   "cell_type": "markdown",
   "id": "e2000387",
   "metadata": {},
   "source": [
    "#### Q2.Write a Python program to Multiply all numbers in the list?"
   ]
  },
  {
   "cell_type": "code",
   "execution_count": 19,
   "id": "840040b4",
   "metadata": {},
   "outputs": [
    {
     "data": {
      "text/plain": [
       "24"
      ]
     },
     "execution_count": 19,
     "metadata": {},
     "output_type": "execute_result"
    }
   ],
   "source": [
    "def mul_list(n):\n",
    "    \n",
    "    from functools import reduce \n",
    "    mul = reduce(lambda x,y: x*y ,list1)\n",
    "    return mul   \n",
    "\n",
    "list1 = [1,2,3,4]\n",
    "mul_list(list1)"
   ]
  },
  {
   "cell_type": "markdown",
   "id": "4e6b970b",
   "metadata": {},
   "source": [
    "#### Q3.Write a Python program to find smallest number in a list?"
   ]
  },
  {
   "cell_type": "code",
   "execution_count": 23,
   "id": "290c4a53",
   "metadata": {},
   "outputs": [
    {
     "data": {
      "text/plain": [
       "2"
      ]
     },
     "execution_count": 23,
     "metadata": {},
     "output_type": "execute_result"
    }
   ],
   "source": [
    "\n",
    "def smallest(args):   \n",
    "    for i in args :\n",
    "        for j in args : \n",
    "            if i < j : \n",
    "                small = i    \n",
    "    while True :\n",
    "        for i in args : \n",
    "            if i < small : \n",
    "                small = i \n",
    "        else : \n",
    "            return small  \n",
    "    return small\n",
    "            \n",
    "smallest([78,54,2,45,96,36,87,41])  "
   ]
  },
  {
   "cell_type": "markdown",
   "id": "542b62ea",
   "metadata": {},
   "source": [
    "#### Q4.Write a Python program to find largest number in a list?"
   ]
  },
  {
   "cell_type": "code",
   "execution_count": 24,
   "id": "11caba3b",
   "metadata": {},
   "outputs": [
    {
     "data": {
      "text/plain": [
       "202"
      ]
     },
     "execution_count": 24,
     "metadata": {},
     "output_type": "execute_result"
    }
   ],
   "source": [
    "\n",
    "def largest(args):   \n",
    "    for i in args :\n",
    "        for j in args : \n",
    "            if i > j : \n",
    "                large = i    \n",
    "    while True :\n",
    "        for i in args : \n",
    "            if i > large : \n",
    "                large = i \n",
    "        else : \n",
    "            return large  \n",
    "    return large\n",
    "            \n",
    "largest([1,5,7,1,5,6,202,9,101,12,52,45,88])  "
   ]
  },
  {
   "cell_type": "markdown",
   "id": "43cef9a7",
   "metadata": {},
   "source": [
    "#### Q5.Write a Python program to find second largest number in a list?"
   ]
  },
  {
   "cell_type": "code",
   "execution_count": 45,
   "id": "9ad2935b",
   "metadata": {},
   "outputs": [
    {
     "data": {
      "text/plain": [
       "542"
      ]
     },
     "execution_count": 45,
     "metadata": {},
     "output_type": "execute_result"
    }
   ],
   "source": [
    "def second_large(args): \n",
    "    # Calling the largest function which is defined previously : \n",
    "    k = largest(args)\n",
    "    # Second Largest\n",
    "    args.remove(k)\n",
    "    for i in args :\n",
    "        for j in args : \n",
    "            if i > j : \n",
    "                second_large = i    \n",
    "    while True :\n",
    "        for i in args : \n",
    "            if i > second_large : \n",
    "                second_large = i \n",
    "        else : \n",
    "            return second_large\n",
    "    \n",
    "    return second_large\n",
    "          \n",
    "second_large([101,542,120,854,320,123,162])"
   ]
  },
  {
   "cell_type": "markdown",
   "id": "b919437b",
   "metadata": {},
   "source": [
    "#### Q6.Write a Python program to find N largest elements from a list?"
   ]
  },
  {
   "cell_type": "code",
   "execution_count": 63,
   "id": "b3a3d04b",
   "metadata": {},
   "outputs": [
    {
     "data": {
      "text/plain": [
       "[854, 542, 320]"
      ]
     },
     "execution_count": 63,
     "metadata": {},
     "output_type": "execute_result"
    }
   ],
   "source": [
    "def largest_num(n,l1): \n",
    "    def largest(args):   \n",
    "        for i in args :\n",
    "            for j in args : \n",
    "                if i > j : \n",
    "                    large = i    \n",
    "        while True :\n",
    "            for i in args : \n",
    "                if i > large : \n",
    "                    large = i \n",
    "            else : \n",
    "                return large  \n",
    "    \n",
    "    \n",
    "    l2 = []\n",
    "    for i in range(n): \n",
    "        k = largest(l1)\n",
    "        l1.remove(k)\n",
    "        l2.append(k)\n",
    "    return l2\n",
    "# n = Number of largest elements \n",
    "# l1 = list of data \n",
    "\n",
    "largest_num(3,[101,542,120,854,320,123,162])"
   ]
  },
  {
   "cell_type": "markdown",
   "id": "f555c232",
   "metadata": {},
   "source": [
    "#### Q7.Write a Python program to print even numbers in a list?"
   ]
  },
  {
   "cell_type": "code",
   "execution_count": 64,
   "id": "8c91f5f2",
   "metadata": {},
   "outputs": [
    {
     "data": {
      "text/plain": [
       "[542, 120, 854, 320, 162]"
      ]
     },
     "execution_count": 64,
     "metadata": {},
     "output_type": "execute_result"
    }
   ],
   "source": [
    "def even(args): \n",
    "    l1 = []\n",
    "    for i in args : \n",
    "        if i % 2 == 0 : \n",
    "            l1.append(i)\n",
    "            \n",
    "    return l1 \n",
    "\n",
    "\n",
    "even([101,542,120,854,320,123,162])"
   ]
  },
  {
   "cell_type": "markdown",
   "id": "2e5d702d",
   "metadata": {},
   "source": [
    "#### Q8.Write a Python program to print odd numbers in a List?"
   ]
  },
  {
   "cell_type": "code",
   "execution_count": 65,
   "id": "3e7f5efa",
   "metadata": {},
   "outputs": [
    {
     "data": {
      "text/plain": [
       "[101, 123]"
      ]
     },
     "execution_count": 65,
     "metadata": {},
     "output_type": "execute_result"
    }
   ],
   "source": [
    "def odd(args): \n",
    "    l1 = []\n",
    "    for i in args : \n",
    "        if i % 2 != 0 : \n",
    "            l1.append(i)\n",
    "            \n",
    "    return l1 \n",
    "\n",
    "\n",
    "odd([101,542,120,854,320,123,162])"
   ]
  },
  {
   "cell_type": "markdown",
   "id": "61781805",
   "metadata": {},
   "source": [
    "#### Q9.Write a Python program to Remove empty List from List?"
   ]
  },
  {
   "cell_type": "code",
   "execution_count": 97,
   "id": "ed68c7d5",
   "metadata": {},
   "outputs": [
    {
     "name": "stdout",
     "output_type": "stream",
     "text": [
      "[2, 4, 6, 8, 7, 45, 95, 45, 78, 96, 452, 20]\n"
     ]
    }
   ],
   "source": [
    "\n",
    "list1 = [2,4,[],6,8,[],7,45,95,[] ,45,78,96,[],[],[],452,[],20,[],[]]\n",
    "\n",
    "i = 0 \n",
    "while True : \n",
    "    if type(list1[i]) == list : \n",
    "        list1.remove(list1[i])\n",
    "        i = i - 1\n",
    "        \n",
    "    if all(list1) == True : \n",
    "        break \n",
    "     \n",
    "    i +=1 \n",
    "          \n",
    "print(list1)         "
   ]
  },
  {
   "cell_type": "markdown",
   "id": "7a94c25a",
   "metadata": {},
   "source": [
    "#### Q10.Write a Python program to Cloning or Copying a list?"
   ]
  },
  {
   "cell_type": "code",
   "execution_count": 100,
   "id": "799088b5",
   "metadata": {},
   "outputs": [
    {
     "data": {
      "text/plain": [
       "[101, 542, 120, 854, 320, 123, 162]"
      ]
     },
     "execution_count": 100,
     "metadata": {},
     "output_type": "execute_result"
    }
   ],
   "source": [
    "\n",
    "def clone(list1): \n",
    "    l2 = []\n",
    "    for i in list1 : \n",
    "        l2.append(i)\n",
    "        \n",
    "    return l2 \n",
    "\n",
    "list1 = [101,542,120,854,320,123,162]\n",
    "clone(list1)"
   ]
  },
  {
   "cell_type": "markdown",
   "id": "1c53d059",
   "metadata": {},
   "source": [
    "#### Q11.Write a Python program to Count occurrences of an element in a list?"
   ]
  },
  {
   "cell_type": "code",
   "execution_count": 115,
   "id": "5b908aff",
   "metadata": {},
   "outputs": [],
   "source": [
    "def count(l1): \n",
    "    d1 = {}\n",
    "    s1 = set(l1)\n",
    "    for i in s1 :\n",
    "        sum = 0 \n",
    "        for j in l1 : \n",
    "            if i == j : \n",
    "                sum += 1\n",
    "        d1[i] = sum \n",
    "            \n",
    "    return d1 "
   ]
  },
  {
   "cell_type": "code",
   "execution_count": 117,
   "id": "fce09f33",
   "metadata": {},
   "outputs": [
    {
     "data": {
      "text/plain": [
       "{320: 1, 162: 3, 101: 2, 854: 2, 120: 2, 123: 1, 542: 2}"
      ]
     },
     "execution_count": 117,
     "metadata": {},
     "output_type": "execute_result"
    }
   ],
   "source": [
    "l1 = [101,542,120,854,320,123,162,162,162,120,101,542,854]\n",
    "count(l1)"
   ]
  }
 ],
 "metadata": {
  "kernelspec": {
   "display_name": "Python 3 (ipykernel)",
   "language": "python",
   "name": "python3"
  },
  "language_info": {
   "codemirror_mode": {
    "name": "ipython",
    "version": 3
   },
   "file_extension": ".py",
   "mimetype": "text/x-python",
   "name": "python",
   "nbconvert_exporter": "python",
   "pygments_lexer": "ipython3",
   "version": "3.9.12"
  }
 },
 "nbformat": 4,
 "nbformat_minor": 5
}
