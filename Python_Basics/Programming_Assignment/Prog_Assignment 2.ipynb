{
 "cells": [
  {
   "cell_type": "markdown",
   "id": "f156857f",
   "metadata": {},
   "source": [
    "## Programming Assignment No : 2"
   ]
  },
  {
   "cell_type": "markdown",
   "id": "e70dc810",
   "metadata": {},
   "source": [
    "#### Q1.Write a Python program to convert kilometers to miles?"
   ]
  },
  {
   "cell_type": "code",
   "execution_count": 7,
   "id": "912db68b",
   "metadata": {},
   "outputs": [
    {
     "name": "stdout",
     "output_type": "stream",
     "text": [
      "Enter kilometers : 10\n",
      "6.21371 miles\n"
     ]
    }
   ],
   "source": [
    "def km_to_miles(): \n",
    "    km = int(input(\"Enter kilometers : \"))\n",
    "    miles = 0.621371*km\n",
    "    return miles\n",
    "print(km_to_miles(),\"miles\")"
   ]
  },
  {
   "cell_type": "markdown",
   "id": "b8427289",
   "metadata": {},
   "source": [
    "#### Q2.Write a Python program to convert Celsius to Fahrenheit?"
   ]
  },
  {
   "cell_type": "code",
   "execution_count": 12,
   "id": "b2e6707e",
   "metadata": {},
   "outputs": [
    {
     "name": "stdout",
     "output_type": "stream",
     "text": [
      "Enter degree celsius : 100\n",
      "212.0 Fahrenheit\n"
     ]
    }
   ],
   "source": [
    "def celsius_to_fahren(): \n",
    "    celsius = int(input(\"Enter degree celsius : \"))\n",
    "    fahrenheit = (celsius ) * (9/5) + 32\n",
    "    return fahrenheit\n",
    "\n",
    "print(celsius_to_fahren(),\"Fahrenheit\")"
   ]
  },
  {
   "cell_type": "markdown",
   "id": "f5d75d43",
   "metadata": {},
   "source": [
    "#### Q3.Write a Python program to display calendar?"
   ]
  },
  {
   "cell_type": "code",
   "execution_count": 31,
   "id": "01fbb1fa",
   "metadata": {},
   "outputs": [
    {
     "name": "stdout",
     "output_type": "stream",
     "text": [
      "     July 1999\n",
      "Mo Tu We Th Fr Sa Su\n",
      "          1  2  3  4\n",
      " 5  6  7  8  9 10 11\n",
      "12 13 14 15 16 17 18\n",
      "19 20 21 22 23 24 25\n",
      "26 27 28 29 30 31\n",
      "\n"
     ]
    }
   ],
   "source": [
    "import calendar \n",
    "\n",
    "month = 7\n",
    "year = 1999 \n",
    "\n",
    "print(calendar.month(year,month))"
   ]
  },
  {
   "cell_type": "markdown",
   "id": "f7e8b804",
   "metadata": {},
   "source": [
    "#### Q4.Write a Python program to solve quadratic equation?"
   ]
  },
  {
   "cell_type": "code",
   "execution_count": 22,
   "id": "103e5329",
   "metadata": {},
   "outputs": [
    {
     "name": "stdout",
     "output_type": "stream",
     "text": [
      "(-2+0j) (-3+0j)\n"
     ]
    }
   ],
   "source": [
    "import cmath \n",
    "a = 1\n",
    "b = 5\n",
    "c = 6 \n",
    "\n",
    "root = (b**2) - (4*a*c) \n",
    "\n",
    "sol1 = ((-b)+ cmath.sqrt(root))/2*a \n",
    "sol2 = ((-b) -  cmath.sqrt(root))/2*a\n",
    "\n",
    "print(sol1,sol2)\n"
   ]
  },
  {
   "cell_type": "markdown",
   "id": "b9f378c2",
   "metadata": {},
   "source": [
    "#### Q5.Write a Python program to swap two variables without temp variable?"
   ]
  },
  {
   "cell_type": "code",
   "execution_count": 23,
   "id": "d2f0fa3d",
   "metadata": {},
   "outputs": [
    {
     "name": "stdout",
     "output_type": "stream",
     "text": [
      "new value of x is :  20\n",
      "new value of y is :  10\n"
     ]
    }
   ],
   "source": [
    "x = 10 \n",
    "y = 20 \n",
    "\n",
    "x,y = y,x \n",
    "\n",
    "print(\"new value of x is : \",x)\n",
    "print(\"new value of y is : \",y)"
   ]
  }
 ],
 "metadata": {
  "kernelspec": {
   "display_name": "Python 3 (ipykernel)",
   "language": "python",
   "name": "python3"
  },
  "language_info": {
   "codemirror_mode": {
    "name": "ipython",
    "version": 3
   },
   "file_extension": ".py",
   "mimetype": "text/x-python",
   "name": "python",
   "nbconvert_exporter": "python",
   "pygments_lexer": "ipython3",
   "version": "3.9.12"
  }
 },
 "nbformat": 4,
 "nbformat_minor": 5
}
