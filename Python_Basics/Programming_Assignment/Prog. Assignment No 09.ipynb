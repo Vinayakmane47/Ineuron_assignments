{
 "cells": [
  {
   "cell_type": "markdown",
   "id": "a1db6ac3",
   "metadata": {},
   "source": [
    "## Programming Assignment No 9 "
   ]
  },
  {
   "cell_type": "markdown",
   "id": "1e7ceed8",
   "metadata": {},
   "source": [
    "#### Q1.Write a Python program to check if the given number is a Disarium Number?"
   ]
  },
  {
   "cell_type": "code",
   "execution_count": 16,
   "id": "dbd02288",
   "metadata": {},
   "outputs": [
    {
     "data": {
      "text/plain": [
       "'Disarium Number'"
      ]
     },
     "execution_count": 16,
     "metadata": {},
     "output_type": "execute_result"
    }
   ],
   "source": [
    "def Disarium(n): \n",
    "    sum = 0 \n",
    "    for i in range(len(str(n))): \n",
    "        sum += (int(str(n)[i]))**(i+1)\n",
    "        \n",
    "    if sum == n : \n",
    "        return \"Disarium Number\"\n",
    "    \n",
    "    else : \n",
    "        return \"Non Disarium Number, Please try something else !\"\n",
    "        \n",
    "Disarium(175)"
   ]
  },
  {
   "cell_type": "markdown",
   "id": "5bfddf6f",
   "metadata": {},
   "source": [
    "#### Q2.Write a Python program to print all disarium numbers between 1 to 100?"
   ]
  },
  {
   "cell_type": "code",
   "execution_count": 15,
   "id": "44ca46a1",
   "metadata": {},
   "outputs": [
    {
     "name": "stdout",
     "output_type": "stream",
     "text": [
      "0 is Disarium \n",
      "1 is Disarium \n",
      "2 is Disarium \n",
      "3 is Disarium \n",
      "4 is Disarium \n",
      "5 is Disarium \n",
      "6 is Disarium \n",
      "7 is Disarium \n",
      "8 is Disarium \n",
      "9 is Disarium \n",
      "89 is Disarium \n"
     ]
    }
   ],
   "source": [
    "def Disarium_range(n): \n",
    "    \n",
    "    for j in range(n): \n",
    "        \n",
    "        sum = 0 \n",
    "        for i in range(len(str(j))): \n",
    "            sum += (int(str(j)[i]))**(i+1)\n",
    "\n",
    "        if sum == j : \n",
    "            print(\"{} is Disarium \".format(j))\n",
    "            \n",
    "Disarium_range(100)"
   ]
  },
  {
   "cell_type": "markdown",
   "id": "b7fae2e1",
   "metadata": {},
   "source": [
    "#### Q3.Write a Python program to check if the given number is Happy Number?"
   ]
  },
  {
   "cell_type": "code",
   "execution_count": 33,
   "id": "97c8826c",
   "metadata": {},
   "outputs": [
    {
     "name": "stdout",
     "output_type": "stream",
     "text": [
      "97 is a Happy Number\n"
     ]
    }
   ],
   "source": [
    "\n",
    "def Happy_number(n): \n",
    "    happy = n \n",
    "    k = 1\n",
    "    while True : \n",
    "        sum = 0 \n",
    "        for i in range(len(str(n))): \n",
    "            sum  += int((str(n)[i]))**2 \n",
    "        n = sum \n",
    "        if n == 1 :\n",
    "            print(\"{} is a Happy Number\".format(happy))\n",
    "        \n",
    "            break \n",
    "        if k ==1000 :\n",
    "            print(\"{} is not a Happy Number\".format(happy))\n",
    "            break \n",
    "        k += 1 \n",
    "    \n",
    "Happy_number(97)\n"
   ]
  },
  {
   "cell_type": "markdown",
   "id": "5ce1bb0d",
   "metadata": {},
   "source": [
    "#### Q4.Write a Python program to print all happy numbers between 1 and 100?"
   ]
  },
  {
   "cell_type": "code",
   "execution_count": 72,
   "id": "c573d798",
   "metadata": {
    "scrolled": true
   },
   "outputs": [
    {
     "name": "stdout",
     "output_type": "stream",
     "text": [
      "1 is a Happy Number\n",
      "7 is a Happy Number\n",
      "10 is a Happy Number\n",
      "13 is a Happy Number\n",
      "19 is a Happy Number\n",
      "23 is a Happy Number\n",
      "28 is a Happy Number\n",
      "31 is a Happy Number\n",
      "32 is a Happy Number\n",
      "44 is a Happy Number\n",
      "49 is a Happy Number\n",
      "68 is a Happy Number\n",
      "70 is a Happy Number\n",
      "79 is a Happy Number\n",
      "82 is a Happy Number\n",
      "86 is a Happy Number\n",
      "91 is a Happy Number\n",
      "94 is a Happy Number\n",
      "97 is a Happy Number\n"
     ]
    }
   ],
   "source": [
    "def Happy_number_range(m): \n",
    "    for t in range(m):\n",
    "        n = t\n",
    "        k = 1\n",
    "        while True : \n",
    "            sum = 0 \n",
    "            for i in range(len(str(n))): \n",
    "                sum  += int((str(n)[i]))**2 \n",
    "            n = sum \n",
    "            if n == 1 :\n",
    "                print(\"{} is a Happy Number\".format(t))\n",
    "                break\n",
    "                \n",
    "            elif k == 1000 :\n",
    "                break \n",
    "            k += 1 \n",
    "    \n",
    "Happy_number_range(100)"
   ]
  },
  {
   "cell_type": "markdown",
   "id": "22c652fc",
   "metadata": {},
   "source": [
    "#### Q5.Write a Python program to determine whether the given number is a Harshad Number?"
   ]
  },
  {
   "cell_type": "code",
   "execution_count": 78,
   "id": "b1a73c1e",
   "metadata": {},
   "outputs": [
    {
     "name": "stdout",
     "output_type": "stream",
     "text": [
      " 171 is a Harshad Number\n"
     ]
    }
   ],
   "source": [
    "\n",
    "\n",
    "def Harshad(n): \n",
    "    sum = 0 \n",
    "    for i in range(len(str(n))): \n",
    "        sum += int(str(n)[i])\n",
    "\n",
    "    if n % sum == 0: \n",
    "        print(\" {} is a Harshad Number\".format(n))\n",
    "    \n",
    "Harshad(171)"
   ]
  },
  {
   "cell_type": "markdown",
   "id": "1405e80f",
   "metadata": {},
   "source": [
    "#### Q6.Write a Python program to print all pronic numbers between 1 and 100?"
   ]
  },
  {
   "cell_type": "code",
   "execution_count": 83,
   "id": "8f851853",
   "metadata": {},
   "outputs": [
    {
     "name": "stdout",
     "output_type": "stream",
     "text": [
      " 2 is a pronic Number\n",
      " 6 is a pronic Number\n",
      " 12 is a pronic Number\n",
      " 20 is a pronic Number\n",
      " 30 is a pronic Number\n",
      " 42 is a pronic Number\n",
      " 56 is a pronic Number\n",
      " 72 is a pronic Number\n",
      " 90 is a pronic Number\n"
     ]
    }
   ],
   "source": [
    "\n",
    "def pronic(n): \n",
    "    for j in range(n): \n",
    "        for i in range(j): \n",
    "            if i*(i+1) == j  : \n",
    "                print(\" {} is a pronic Number\".format(j))                \n",
    "pronic(100)"
   ]
  },
  {
   "cell_type": "code",
   "execution_count": null,
   "id": "6351e64f",
   "metadata": {},
   "outputs": [],
   "source": []
  }
 ],
 "metadata": {
  "kernelspec": {
   "display_name": "Python 3 (ipykernel)",
   "language": "python",
   "name": "python3"
  },
  "language_info": {
   "codemirror_mode": {
    "name": "ipython",
    "version": 3
   },
   "file_extension": ".py",
   "mimetype": "text/x-python",
   "name": "python",
   "nbconvert_exporter": "python",
   "pygments_lexer": "ipython3",
   "version": "3.9.12"
  }
 },
 "nbformat": 4,
 "nbformat_minor": 5
}
