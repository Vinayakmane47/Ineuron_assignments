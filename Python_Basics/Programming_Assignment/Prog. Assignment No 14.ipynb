{
 "cells": [
  {
   "cell_type": "markdown",
   "id": "35c979d0",
   "metadata": {},
   "source": [
    "## Programming Assignment No 14"
   ]
  },
  {
   "cell_type": "markdown",
   "id": "03b0dc58",
   "metadata": {},
   "source": [
    "#### Q1.Define a class with a generator which can iterate the numbers, which are divisible by 7, between a given range 0 and n."
   ]
  },
  {
   "cell_type": "code",
   "execution_count": 6,
   "id": "47c8a3fc",
   "metadata": {},
   "outputs": [
    {
     "name": "stdout",
     "output_type": "stream",
     "text": [
      "Enter a range : 100\n",
      "The number which are divisible by 7 upto range 100\n",
      "7\n",
      "14\n",
      "21\n",
      "28\n",
      "35\n",
      "42\n",
      "49\n",
      "56\n",
      "63\n",
      "70\n",
      "77\n",
      "84\n",
      "91\n",
      "98\n"
     ]
    }
   ],
   "source": [
    "class divisible : \n",
    "    \n",
    "    # defining init method \n",
    "    \n",
    "    def __init__(self,l): \n",
    "        self.__limit = l \n",
    "        self.__val = 7 \n",
    "        \n",
    "    # creating a method which makes the class iterable \n",
    "    \n",
    "    def __iter__(self): \n",
    "        return self \n",
    "    \n",
    "    # creating a method which makes this class iterator \n",
    "    \n",
    "    def __next__(self): \n",
    "        if self.__val > self.__limit: \n",
    "            raise StopIteration \n",
    "            \n",
    "        else : \n",
    "            return_val = self.__val \n",
    "            self.__val += 7 \n",
    "            return return_val \n",
    "\n",
    "        \n",
    "n = int(input(\"Enter a range : \"))\n",
    "print(\"The number which are divisible by 7 upto range {}\".format(n))\n",
    "for i in divisible(n): \n",
    "    print(i)"
   ]
  },
  {
   "cell_type": "markdown",
   "id": "ef95f1e2",
   "metadata": {},
   "source": [
    "#### Q2.Write a program to compute the frequency of the words from the input. The output should output after sorting the key alphanumerically.\n",
    "#### Suppose the following input is supplied to the program:\n",
    "#### New to Python or choosing between Python 2 and Python 3? Read Python 2 or\n",
    "#### Python 3.\n",
    "#### Then, the output should be:\n",
    "#### 2:2\n",
    "#### 3.:1\n",
    "#### 3?:1\n",
    "#### New:1\n",
    "#### Python:5\n",
    "#### Read:1\n",
    "#### and:1\n",
    "#### between:1\n",
    "#### choosing:1\n",
    "#### or:2\n",
    "#### to:1"
   ]
  },
  {
   "cell_type": "code",
   "execution_count": 14,
   "id": "e22bf6ee",
   "metadata": {},
   "outputs": [
    {
     "data": {
      "text/plain": [
       "{'2': 2,\n",
       " 'Python': 5,\n",
       " 'between': 1,\n",
       " 'choosing': 1,\n",
       " '3?': 1,\n",
       " '3': 1,\n",
       " 'and': 1,\n",
       " 'or': 2,\n",
       " 'New': 1,\n",
       " 'to': 1,\n",
       " 'Read': 1}"
      ]
     },
     "execution_count": 14,
     "metadata": {},
     "output_type": "execute_result"
    }
   ],
   "source": [
    "\n",
    "def summary(str1): \n",
    "    \n",
    "    str_splited = str1.split(' ')\n",
    "\n",
    "    d = dict()\n",
    "    for i in set(str_splited) : \n",
    "        sum = 0 \n",
    "        for j in str_splited : \n",
    "            if j == i : \n",
    "                sum += 1 \n",
    "        d[i] = sum \n",
    "    return d \n",
    "\n",
    "\n",
    "str1 = \"New to Python or choosing between Python 2 and Python 3? Read Python 2 or Python 3\"\n",
    "summary(str1)"
   ]
  },
  {
   "cell_type": "markdown",
   "id": "69e4df58",
   "metadata": {},
   "source": [
    "##### Q3.Define a class Person and its two child classes: Male and Female. All classes have a method &quot;getGender&quot; which can print &quot;Male&quot; for Male class and &quot;Female&quot; for Female class."
   ]
  },
  {
   "cell_type": "code",
   "execution_count": 18,
   "id": "5b3cdff3",
   "metadata": {
    "scrolled": true
   },
   "outputs": [
    {
     "name": "stdout",
     "output_type": "stream",
     "text": [
      "Male\n",
      "None\n",
      "Female\n",
      "None\n"
     ]
    }
   ],
   "source": [
    "class Person : \n",
    "    pass \n",
    "        \n",
    "class Male(Person) : \n",
    "    \n",
    "    def getGender(): \n",
    "        print(\"Male\")\n",
    "        \n",
    "class Female(Person): \n",
    "    \n",
    "    def getGender(): \n",
    "        print(\"Female\")\n",
    "\n",
    "        \n",
    "        \n",
    "obj1 = Person\n",
    "obj2 = Male \n",
    "obj3 = Female \n",
    "print(obj2.getGender())\n",
    "print(obj3.getGender())"
   ]
  },
  {
   "cell_type": "markdown",
   "id": "9f5ff6e3",
   "metadata": {},
   "source": [
    "##### Q4.Please write a program to generate all sentences where subject is in [&quot;I&quot;, &quot;You&quot;] and verb is in [&quot;Play&quot;, &quot;Love&quot;] and the object is in [&quot;Hockey&quot;,&quot;Football&quot;]."
   ]
  },
  {
   "cell_type": "code",
   "execution_count": 20,
   "id": "9a984e2b",
   "metadata": {},
   "outputs": [
    {
     "name": "stdout",
     "output_type": "stream",
     "text": [
      "I Play Hockey.\n",
      "I Play Football.\n",
      "I Love Hockey.\n",
      "I Love Football.\n",
      "You Play Hockey.\n",
      "You Play Football.\n",
      "You Love Hockey.\n",
      "You Love Football.\n"
     ]
    }
   ],
   "source": [
    "\n",
    "subjects=[\"I\", \"You\"]\n",
    "verbs=[\"Play\", \"Love\"]\n",
    "objects=[\"Hockey\",\"Football\"]\n",
    "for i in range(len(subjects)):\n",
    "    for j in range(len(verbs)):\n",
    "        for k in range(len(objects)):\n",
    "            sentence = \"%s %s %s.\" % (subjects[i], verbs[j], objects[k])\n",
    "            print (sentence)"
   ]
  },
  {
   "cell_type": "markdown",
   "id": "64390f4f",
   "metadata": {},
   "source": [
    "#### Q5.Please write a program to compress and decompress the string &quot;hello world!hello world!hello world!hello world!&quot;."
   ]
  },
  {
   "cell_type": "code",
   "execution_count": 24,
   "id": "ee861705",
   "metadata": {},
   "outputs": [
    {
     "name": "stdout",
     "output_type": "stream",
     "text": [
      "b'x\\x9c\\xcbH\\xcd\\xc9\\xc9W(\\xcf/\\xcaIQ\\xcc \\x82\\r\\x00\\xbd[\\x11\\xf5'\n",
      "b'hello world!hello world!hello world!hello world!'\n"
     ]
    }
   ],
   "source": [
    "\n",
    "s = 'hello world!hello world!hello world!hello world!'\n",
    "# In Python 3 zlib.compress() accepts only DataType <bytes>\n",
    "y = bytes(s, 'utf-8')\n",
    "x = zlib.compress(y)\n",
    "print(x)\n",
    "print(zlib.decompress(x))"
   ]
  },
  {
   "cell_type": "markdown",
   "id": "a58d7a72",
   "metadata": {},
   "source": [
    "#### Q6.Please write a binary search function which searches an item in a sorted list. The function should return the index of element to be searched in the list."
   ]
  },
  {
   "cell_type": "code",
   "execution_count": 25,
   "id": "56a9fb9e",
   "metadata": {},
   "outputs": [
    {
     "name": "stdout",
     "output_type": "stream",
     "text": [
      "Array Length: 14\n",
      "Middle Value: 7\n",
      "Middle Value: 10\n",
      "The Value Found at Index: 10\n"
     ]
    }
   ],
   "source": [
    "def binary_search_Ascending(array, target):\n",
    "    lower = 0\n",
    "    upper = len(array)\n",
    "    print('Array Length:',upper)\n",
    "    while lower < upper:\n",
    "        x = (lower + upper) // 2\n",
    "        print('Middle Value:',x)\n",
    "        value = array[x]\n",
    "        if target == value:\n",
    "            return x\n",
    "        elif target > value:\n",
    "            lower = x\n",
    "        elif target < value:\n",
    "            upper = x\n",
    "\n",
    "Array = [1,5,8,10,12,13,55,66,73,78,82,85,88,99]\n",
    "print('The Value Found at Index:',binary_search_Ascending(Array, 82))\n"
   ]
  },
  {
   "cell_type": "code",
   "execution_count": null,
   "id": "6c983740",
   "metadata": {},
   "outputs": [],
   "source": []
  }
 ],
 "metadata": {
  "kernelspec": {
   "display_name": "Python 3 (ipykernel)",
   "language": "python",
   "name": "python3"
  },
  "language_info": {
   "codemirror_mode": {
    "name": "ipython",
    "version": 3
   },
   "file_extension": ".py",
   "mimetype": "text/x-python",
   "name": "python",
   "nbconvert_exporter": "python",
   "pygments_lexer": "ipython3",
   "version": "3.9.12"
  }
 },
 "nbformat": 4,
 "nbformat_minor": 5
}
