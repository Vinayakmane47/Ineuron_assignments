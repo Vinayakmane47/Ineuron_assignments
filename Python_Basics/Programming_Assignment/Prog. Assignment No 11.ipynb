{
 "cells": [
  {
   "cell_type": "markdown",
   "id": "e997535b",
   "metadata": {},
   "source": [
    "## Programming Assignment No 11"
   ]
  },
  {
   "cell_type": "markdown",
   "id": "4cc77c98",
   "metadata": {},
   "source": [
    "#### Q1.Write a Python program to find words which are greater than given length k?"
   ]
  },
  {
   "cell_type": "code",
   "execution_count": 3,
   "id": "2ae8088c",
   "metadata": {},
   "outputs": [
    {
     "data": {
      "text/plain": [
       "['Myself', 'Vinayak', 'Studying', 'Course']"
      ]
     },
     "execution_count": 3,
     "metadata": {},
     "output_type": "execute_result"
    }
   ],
   "source": [
    "def find(n,l1): \n",
    "    l2 = []\n",
    "    for i in l1 : \n",
    "        if len(i) > n : \n",
    "            l2.append(i)\n",
    "    return l2 \n",
    "\n",
    "l1 = [\"Myself\",\"Vinayak\",\"and\",\"I am\",\"Studying\",\"FSDS\",\"Course\"]\n",
    "n = 5 \n",
    "find(n,l1)\n"
   ]
  },
  {
   "cell_type": "markdown",
   "id": "41b18d6f",
   "metadata": {},
   "source": [
    "#### Q2.Write a Python program for removing i-th character from a string?"
   ]
  },
  {
   "cell_type": "code",
   "execution_count": 10,
   "id": "10618d16",
   "metadata": {},
   "outputs": [
    {
     "data": {
      "text/plain": [
       "'Vinyak'"
      ]
     },
     "execution_count": 10,
     "metadata": {},
     "output_type": "execute_result"
    }
   ],
   "source": [
    "def remove(n,string): \n",
    "    str1 = '' \n",
    "    for i in range(len(string)) :\n",
    "        if i == n : \n",
    "            continue \n",
    "        str1 += string[i]\n",
    "        \n",
    "    return str1 \n",
    "string = \"Vinayak\"\n",
    "n = 3\n",
    "remove(n,string)"
   ]
  },
  {
   "cell_type": "markdown",
   "id": "3cae9504",
   "metadata": {},
   "source": [
    "#### Q3.Write a Python program to split and join a string?"
   ]
  },
  {
   "cell_type": "code",
   "execution_count": 14,
   "id": "83b81af1",
   "metadata": {},
   "outputs": [
    {
     "name": "stdout",
     "output_type": "stream",
     "text": [
      "['V', 'i', 'n', 'a', 'y', 'a', 'k']\n",
      "Vinayak\n"
     ]
    }
   ],
   "source": [
    "def split(str1): \n",
    "    l1 = []\n",
    "    for i in str1 : \n",
    "        l1.append(i)\n",
    "    return l1 \n",
    "def join(str1): \n",
    "    string = ''\n",
    "    for i in str1 : \n",
    "        string += i \n",
    "    return string \n",
    "\n",
    "print(split(\"Vinayak\"))\n",
    "print(join(['V', 'i', 'n', 'a', 'y', 'a', 'k']))"
   ]
  },
  {
   "cell_type": "markdown",
   "id": "63a32176",
   "metadata": {},
   "source": [
    "#### Q4.Write a Python to check if a given string is binary string or not?"
   ]
  },
  {
   "cell_type": "code",
   "execution_count": 18,
   "id": "f08f11f5",
   "metadata": {},
   "outputs": [
    {
     "name": "stdout",
     "output_type": "stream",
     "text": [
      "The string 1010101010 is binary \n"
     ]
    }
   ],
   "source": [
    "\n",
    "def binary(string):\n",
    "    p = set(string)\n",
    "    s = {'0', '1'}\n",
    "    if s == p or p == {'0'} or p == {'1'}:\n",
    "        print(\"The string {} is binary \".format(string))\n",
    "    else:\n",
    "        print(\"The string {} is not binary \".format(string))\n",
    "        \n",
    "binary(\"1010101010\")"
   ]
  },
  {
   "cell_type": "markdown",
   "id": "5a23f77a",
   "metadata": {},
   "source": [
    "#### Q5.Write a Python program to find uncommon words from two Strings?"
   ]
  },
  {
   "cell_type": "code",
   "execution_count": 34,
   "id": "a7486742",
   "metadata": {},
   "outputs": [
    {
     "data": {
      "text/plain": [
       "['Vinayak', 'krish', 'old']"
      ]
     },
     "execution_count": 34,
     "metadata": {},
     "output_type": "execute_result"
    }
   ],
   "source": [
    "\n",
    "def uncommon(string1,string2): \n",
    "    \n",
    "    str1 = string1.split()\n",
    "    str2 = string2.split()\n",
    "    l1 = []\n",
    "    for i in str1 : \n",
    "        if i not in str2 : \n",
    "            l1.append(i)\n",
    "    for j in str2 : \n",
    "        if j not in str1 : \n",
    "            l1.append(j)\n",
    "    return l1\n",
    "        \n",
    "string1 = \"Good Morning Vinayak , how are you  \"\n",
    "string2 = \"Good Morning krish , how old are you\"\n",
    "uncommon(string1,string2)"
   ]
  },
  {
   "cell_type": "markdown",
   "id": "bb358035",
   "metadata": {},
   "source": [
    "#### Q6.Write a Python to find all duplicate characters in string?"
   ]
  },
  {
   "cell_type": "code",
   "execution_count": 36,
   "id": "972183dc",
   "metadata": {},
   "outputs": [
    {
     "data": {
      "text/plain": [
       "['you', ',', 'are', 'Morning', 'how', 'Good']"
      ]
     },
     "execution_count": 36,
     "metadata": {},
     "output_type": "execute_result"
    }
   ],
   "source": [
    "def common(string1,string2): \n",
    "    \n",
    "    str1 = string1.split()\n",
    "    str2 = string2.split()\n",
    "    l1 = []\n",
    "    for i in str1 : \n",
    "        if i  in str2 : \n",
    "            l1.append(i)\n",
    "    for j in str2 : \n",
    "        if j  in str1 : \n",
    "            l1.append(j)\n",
    "            \n",
    "    s1 = set(l1)\n",
    "    l1 = list(s1)\n",
    "    return l1 \n",
    "   \n",
    "        \n",
    "string1 = \"Good Morning Vinayak , how are you  \"\n",
    "string2 = \"Good Morning krish , how old are you\"\n",
    "common(string1,string2)"
   ]
  },
  {
   "cell_type": "markdown",
   "id": "e97ee249",
   "metadata": {},
   "source": [
    "#### Q7.Write a Python Program to check if a string contains any special character?"
   ]
  },
  {
   "cell_type": "code",
   "execution_count": 58,
   "id": "7e129e68",
   "metadata": {},
   "outputs": [
    {
     "name": "stdout",
     "output_type": "stream",
     "text": [
      "It contains Special Character \n"
     ]
    }
   ],
   "source": [
    "\n",
    "def check_special(str1):\n",
    "    s= '[@_!#$%^&*()<>?/\\|}{~:]'\n",
    "    for i in s : \n",
    "        if i in set(str1) : \n",
    "            print(\"It contains Special Character \")\n",
    "            break   \n",
    "    else : \n",
    "        print(\"The string {} do not contain special character \".format(str1))\n",
    "\n",
    "        \n",
    "str1 = 'Vinayak1234$mane##'\n",
    "check_special(str1)        "
   ]
  }
 ],
 "metadata": {
  "kernelspec": {
   "display_name": "Python 3 (ipykernel)",
   "language": "python",
   "name": "python3"
  },
  "language_info": {
   "codemirror_mode": {
    "name": "ipython",
    "version": 3
   },
   "file_extension": ".py",
   "mimetype": "text/x-python",
   "name": "python",
   "nbconvert_exporter": "python",
   "pygments_lexer": "ipython3",
   "version": "3.9.12"
  }
 },
 "nbformat": 4,
 "nbformat_minor": 5
}
