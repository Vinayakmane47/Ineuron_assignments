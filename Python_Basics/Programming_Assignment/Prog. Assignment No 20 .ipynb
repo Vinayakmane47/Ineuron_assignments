{
 "cells": [
  {
   "cell_type": "markdown",
   "id": "26cc6a50",
   "metadata": {},
   "source": [
    "## Programming Assignment No 20 "
   ]
  },
  {
   "cell_type": "markdown",
   "id": "a232caed",
   "metadata": {},
   "source": [
    "#### Q1.Create a function that takes a list of strings and integers, and filters out the list so that it returns a list of integers only.\n",
    "#### Examples\n",
    "#### filter_list([1, 2, 3, &quot;a&quot;, &quot;b&quot;, 4]) ➞ [1, 2, 3, 4]\n",
    "#### filter_list([&quot;A&quot;, 0, &quot;Edabit&quot;, 1729, &quot;Python&quot;, &quot;1729&quot;]) ➞ [0, 1729]\n",
    "#### filter_list([&quot;Nothing&quot;, &quot;here&quot;]) ➞ []"
   ]
  },
  {
   "cell_type": "code",
   "execution_count": 1,
   "id": "e3610fc3",
   "metadata": {},
   "outputs": [
    {
     "name": "stdout",
     "output_type": "stream",
     "text": [
      "[1, 2, 3, 4]\n",
      "[0, 1729]\n",
      "[]\n"
     ]
    }
   ],
   "source": [
    "def filter_list(l): \n",
    "    l1 = []\n",
    "    for i in l : \n",
    "        if type(i) == int : \n",
    "            l1.append(i)\n",
    "            \n",
    "    return l1 \n",
    "print(filter_list([1, 2, 3, \"a\", \"b\", 4]))\n",
    "print(filter_list([\"A\", 0, \"Edabit\", 1729, \"Python\", \"1729\"]))\n",
    "print(filter_list([\"Nothing\", \"here\"]))"
   ]
  },
  {
   "cell_type": "markdown",
   "id": "89aee05e",
   "metadata": {},
   "source": [
    "#### Q2.Given a list of numbers, create a function which returns the list but with each element&#39;s index in the list added to itself. This means you add 0 to the number at index 0, add 1 to the\n",
    "#### number at index 1, etc...\n",
    "#### Examples\n",
    "#### add_indexes([0, 0, 0, 0, 0]) ➞ [0, 1, 2, 3, 4]\n",
    "#### add_indexes([1, 2, 3, 4, 5]) ➞ [1, 3, 5, 7, 9]\n",
    "#### add_indexes([5, 4, 3, 2, 1]) ➞ [5, 5, 5, 5, 5]"
   ]
  },
  {
   "cell_type": "code",
   "execution_count": 4,
   "id": "ee068f21",
   "metadata": {},
   "outputs": [
    {
     "name": "stdout",
     "output_type": "stream",
     "text": [
      "[0, 1, 2, 3, 4]\n",
      "[1, 3, 5, 7, 9]\n",
      "[5, 5, 5, 5, 5]\n"
     ]
    }
   ],
   "source": [
    "def add_indexes(l): \n",
    "    l1 = []\n",
    "    \n",
    "    for i in range(len(l)) : \n",
    "        l1.append(l[i]+i)\n",
    "        \n",
    "    return l1 \n",
    "\n",
    "print(add_indexes([0, 0, 0, 0, 0]))   \n",
    "print(add_indexes([1, 2, 3, 4, 5]))\n",
    "print(add_indexes([5, 4, 3, 2, 1]))\n"
   ]
  },
  {
   "attachments": {
    "image.png": {
     "image/png": "[encoded data removed]"
    }
   },
   "cell_type": "markdown",
   "id": "9f78fafe",
   "metadata": {},
   "source": [
    "#### Q3.Create a function that takes the height and radius of a cone as arguments and returns the volume of the cone rounded to the nearest hundredth. See the resources tab for the formula.\n",
    "\n",
    "![image.png](attachment:image.png)\n",
    "##### Examples\n",
    "##### cone_volume(3, 2) ➞ 12.57\n",
    "##### cone_volume(15, 6) ➞ 565.49\n",
    "##### cone_volume(18, 0) ➞ 0"
   ]
  },
  {
   "cell_type": "code",
   "execution_count": 7,
   "id": "61c1699d",
   "metadata": {},
   "outputs": [
    {
     "name": "stdout",
     "output_type": "stream",
     "text": [
      "12.57\n",
      "565.49\n",
      "0.0\n"
     ]
    }
   ],
   "source": [
    "def cone_volume(h,r): \n",
    "    import numpy as np \n",
    "    \n",
    "    volume = (np.pi*(r**2)*h)/3\n",
    "    return round(volume,2) \n",
    "\n",
    "print(cone_volume(3, 2))\n",
    "print(cone_volume(15, 6))\n",
    "print(cone_volume(18, 0))"
   ]
  },
  {
   "cell_type": "markdown",
   "id": "a4524071",
   "metadata": {},
   "source": [
    "#### Q4.This Triangular Number Sequence is generated from a pattern of dots that form a triangle.\n",
    "#### The first 5 numbers of the sequence, or dots, are:\n",
    "#### 1, 3, 6, 10, 15\n",
    "#### This means that the first triangle has just one dot, the second one has three dots, the third one\n",
    "#### has 6 dots and so on.\n",
    "#### Write a function that gives the number of dots with its corresponding triangle number of the sequence.\n",
    "#### Examples\n",
    "#### triangle(1) ➞ 1\n",
    "#### triangle(6) ➞ 21\n",
    "#### triangle(215) ➞ 23220"
   ]
  },
  {
   "cell_type": "code",
   "execution_count": 19,
   "id": "24c9303a",
   "metadata": {},
   "outputs": [
    {
     "name": "stdout",
     "output_type": "stream",
     "text": [
      "1\n",
      "21\n",
      "23220\n"
     ]
    }
   ],
   "source": [
    "def triangle(n): \n",
    "    l1 = []\n",
    "    for i in range(1,n+1):\n",
    "        l1.append(i)\n",
    "    \n",
    "    l2 = []\n",
    "    for i in l1 :\n",
    "        l2.append(sum(l1[:i]))\n",
    "        \n",
    "    return l2[n-1] \n",
    "\n",
    "\n",
    "print(triangle(1))\n",
    "print(triangle(6))\n",
    "print(triangle(215))\n",
    "        \n",
    "        "
   ]
  },
  {
   "cell_type": "markdown",
   "id": "74ef71e0",
   "metadata": {},
   "source": [
    "#### Q5.Create a function that takes a list of numbers between 1 and 10 (excluding one number) and returns the missing number.\n",
    "#### Examples\n",
    "#### missing_num([1, 2, 3, 4, 6, 7, 8, 9, 10]) ➞ 5\n",
    "#### missing_num([7, 2, 3, 6, 5, 9, 1, 4, 8]) ➞ 10\n",
    "#### missing_num([10, 5, 1, 2, 4, 6, 8, 3, 9]) ➞ 7"
   ]
  },
  {
   "cell_type": "code",
   "execution_count": 25,
   "id": "80e8a4e3",
   "metadata": {},
   "outputs": [
    {
     "name": "stdout",
     "output_type": "stream",
     "text": [
      "5\n",
      "10\n",
      "7\n"
     ]
    }
   ],
   "source": [
    "def missing_num(l): \n",
    "    l1 = list(range(1,11))\n",
    "    \n",
    "    for i in l1 : \n",
    "        if i not in l: \n",
    "            return i \n",
    "        \n",
    "print(missing_num([1, 2, 3, 4, 6, 7, 8, 9, 10]))\n",
    "print(missing_num([7, 2, 3, 6, 5, 9, 1, 4, 8]))\n",
    "print(missing_num([10, 5, 1, 2, 4, 6, 8, 3, 9]))"
   ]
  }
 ],
 "metadata": {
  "kernelspec": {
   "display_name": "Python 3 (ipykernel)",
   "language": "python",
   "name": "python3"
  },
  "language_info": {
   "codemirror_mode": {
    "name": "ipython",
    "version": 3
   },
   "file_extension": ".py",
   "mimetype": "text/x-python",
   "name": "python",
   "nbconvert_exporter": "python",
   "pygments_lexer": "ipython3",
   "version": "3.9.12"
  }
 },
 "nbformat": 4,
 "nbformat_minor": 5
}
