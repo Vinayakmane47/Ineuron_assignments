{
 "cells": [
  {
   "cell_type": "markdown",
   "id": "60e094b3",
   "metadata": {},
   "source": [
    "## Assignment No: 13 "
   ]
  },
  {
   "cell_type": "markdown",
   "id": "7e822de8",
   "metadata": {},
   "source": [
    "#### Q1.What advantages do Excel spreadsheets have over CSV spreadsheets?"
   ]
  },
  {
   "cell_type": "markdown",
   "id": "24c49b5f",
   "metadata": {},
   "source": [
    "Excel is more superior when compared with the CSV file format; thus, CSV consumes less amount of file size when the user is importing data; it is a much faster format compared to excel. CSV does not manipulate data and stores it as-is. Excel also allows the user the add-in feature"
   ]
  },
  {
   "cell_type": "markdown",
   "id": "2a1ec383",
   "metadata": {},
   "source": [
    "#### Q2.What do you pass to csv.reader() and csv.writer() to create reader and writer objects?"
   ]
  },
  {
   "cell_type": "code",
   "execution_count": 1,
   "id": "2f02d340",
   "metadata": {},
   "outputs": [
    {
     "data": {
      "text/plain": [
       "<_csv.reader at 0x2b9a743afa0>"
      ]
     },
     "execution_count": 1,
     "metadata": {},
     "output_type": "execute_result"
    }
   ],
   "source": [
    "import csv \n",
    "\n",
    "# for csv.writer() we pass : \n",
    "file = open(\"test.csv\",'w')\n",
    "csv.reader(file)\n",
    "\n",
    "# for csv.reader() we pass : \n",
    "file = open(\"test.csv\",'r')\n",
    "csv.reader(file)\n"
   ]
  },
  {
   "cell_type": "markdown",
   "id": "e860abdb",
   "metadata": {},
   "source": [
    "#### Q3.What modes do File objects for reader and writer objects need to be opened in?"
   ]
  },
  {
   "cell_type": "markdown",
   "id": "a74bc87b",
   "metadata": {},
   "source": [
    "    for reader object - 'r' mode \n",
    "    for writer object - 'w' mode"
   ]
  },
  {
   "cell_type": "markdown",
   "id": "5b16dcb4",
   "metadata": {},
   "source": [
    "#### Q4.What method takes a list argument and writes it to a CSV file?"
   ]
  },
  {
   "cell_type": "markdown",
   "id": "8f661194",
   "metadata": {},
   "source": [
    "`writerows` method takes a list argument and writes it to a CSV file?"
   ]
  },
  {
   "cell_type": "code",
   "execution_count": 2,
   "id": "15afb039",
   "metadata": {},
   "outputs": [],
   "source": [
    "import csv\n",
    "RESULTS = [\n",
    "    ['apple','cherry','orange','pineapple','strawberry']\n",
    "]\n",
    "with open('output.csv','w') as result_file:\n",
    "    wr = csv.writer(result_file, dialect='excel')\n",
    "    wr.writerows(RESULTS)"
   ]
  },
  {
   "cell_type": "markdown",
   "id": "73e007ee",
   "metadata": {},
   "source": [
    "#### Q5. What do the keyword arguments delimiter and line terminator do?"
   ]
  },
  {
   "cell_type": "markdown",
   "id": "840eb2f0",
   "metadata": {},
   "source": [
    "adding lineterminator gets you an anonymous dialect that is delimited by commas and is terminated by line feeds."
   ]
  },
  {
   "cell_type": "markdown",
   "id": "ef861fe3",
   "metadata": {},
   "source": [
    "The delimiter is the character that appears between cells on a row. By default, the delimiter for a CSV file is a comma. The line terminator is the character that comes at the end of a row"
   ]
  },
  {
   "cell_type": "markdown",
   "id": "d2c7d8fb",
   "metadata": {},
   "source": [
    "#### Q6.What function takes a string of JSON data and returns a Python data structure?"
   ]
  },
  {
   "cell_type": "markdown",
   "id": "ebd4bde1",
   "metadata": {},
   "source": [
    "`json.loads()`"
   ]
  },
  {
   "cell_type": "markdown",
   "id": "87cea524",
   "metadata": {},
   "source": [
    "#### Q7.What function takes a Python data structure and returns a string of JSON data?"
   ]
  },
  {
   "cell_type": "markdown",
   "id": "76e10ee8",
   "metadata": {},
   "source": [
    "`json.dumps()`"
   ]
  },
  {
   "cell_type": "code",
   "execution_count": null,
   "id": "77e9e66b",
   "metadata": {},
   "outputs": [],
   "source": []
  }
 ],
 "metadata": {
  "kernelspec": {
   "display_name": "Python 3 (ipykernel)",
   "language": "python",
   "name": "python3"
  },
  "language_info": {
   "codemirror_mode": {
    "name": "ipython",
    "version": 3
   },
   "file_extension": ".py",
   "mimetype": "text/x-python",
   "name": "python",
   "nbconvert_exporter": "python",
   "pygments_lexer": "ipython3",
   "version": "3.9.12"
  }
 },
 "nbformat": 4,
 "nbformat_minor": 5
}
