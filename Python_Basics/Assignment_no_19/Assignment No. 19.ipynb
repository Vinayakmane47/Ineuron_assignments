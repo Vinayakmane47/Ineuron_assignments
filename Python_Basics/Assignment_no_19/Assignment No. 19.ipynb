{
 "cells": [
  {
   "cell_type": "markdown",
   "id": "2d27e39a",
   "metadata": {},
   "source": [
    "## Assignment No : 19 "
   ]
  },
  {
   "cell_type": "markdown",
   "id": "c98a5e45",
   "metadata": {},
   "source": [
    "#### Q1.Create a zoo.py file first. Define the hours() function, which prints the string &#39;Open 9-5 daily&#39;. Then, use the interactive interpreter to import the zoo module and call its hours() function."
   ]
  },
  {
   "cell_type": "code",
   "execution_count": 2,
   "id": "5a2cc968",
   "metadata": {},
   "outputs": [
    {
     "name": "stdout",
     "output_type": "stream",
     "text": [
      "Open 9-5 daily\n"
     ]
    }
   ],
   "source": [
    "import Zoo \n",
    "Zoo.hours()"
   ]
  },
  {
   "cell_type": "markdown",
   "id": "e5db7b38",
   "metadata": {},
   "source": [
    "#### Q2.In the interactive interpreter, import the zoo module as menagerie and call its hours() function."
   ]
  },
  {
   "cell_type": "code",
   "execution_count": 3,
   "id": "e21f2aaf",
   "metadata": {},
   "outputs": [
    {
     "name": "stdout",
     "output_type": "stream",
     "text": [
      "Open 9-5 daily\n"
     ]
    }
   ],
   "source": [
    "import Zoo as menagerie \n",
    "menagerie.hours()"
   ]
  },
  {
   "cell_type": "markdown",
   "id": "cbfc0903",
   "metadata": {},
   "source": [
    "#### Q3.Using the interpreter, explicitly import and call the hours() function from zoo."
   ]
  },
  {
   "cell_type": "code",
   "execution_count": 6,
   "id": "6a339039",
   "metadata": {},
   "outputs": [
    {
     "name": "stdout",
     "output_type": "stream",
     "text": [
      "Open 9-5 daily\n"
     ]
    }
   ],
   "source": [
    "from Zoo import hours\n",
    "hours()"
   ]
  },
  {
   "cell_type": "markdown",
   "id": "afd19906",
   "metadata": {},
   "source": [
    "#### Q4.Import the hours() function as info and call it."
   ]
  },
  {
   "cell_type": "code",
   "execution_count": 7,
   "id": "0d67508e",
   "metadata": {},
   "outputs": [
    {
     "name": "stdout",
     "output_type": "stream",
     "text": [
      "Open 9-5 daily\n"
     ]
    }
   ],
   "source": [
    "from Zoo import hours as info \n",
    "info()"
   ]
  },
  {
   "cell_type": "markdown",
   "id": "05c4c40e",
   "metadata": {},
   "source": [
    "#### Q5.Create a plain dictionary with the key-value pairs &#39;a&#39;: 1, &#39;b&#39;: 2, and &#39;c&#39;: 3, and print it out."
   ]
  },
  {
   "cell_type": "code",
   "execution_count": 8,
   "id": "9ec8f3b5",
   "metadata": {},
   "outputs": [
    {
     "name": "stdout",
     "output_type": "stream",
     "text": [
      "{'a': 1, 'b': 2, 'c': 3}\n"
     ]
    }
   ],
   "source": [
    "d = {\"a\":1,\"b\":2,\"c\":3}\n",
    "print(d)"
   ]
  },
  {
   "cell_type": "markdown",
   "id": "91305728",
   "metadata": {},
   "source": [
    "#### Q6.Make an OrderedDict called fancy from the same pairs listed in 5 and print it. Did it print in the same order as plain?"
   ]
  },
  {
   "cell_type": "code",
   "execution_count": 13,
   "id": "0966c5d0",
   "metadata": {},
   "outputs": [
    {
     "name": "stdout",
     "output_type": "stream",
     "text": [
      "a :  1\n",
      "b :  2\n",
      "c :  3\n"
     ]
    }
   ],
   "source": [
    "from collections import OrderedDict\n",
    "\n",
    "\n",
    "fancy = OrderedDict()\n",
    "fancy = {\"a\":1,\"b\":2,\"c\":3}\n",
    "\n",
    "for key,value in fancy.items(): \n",
    "    print(key,\": \",value)"
   ]
  },
  {
   "cell_type": "markdown",
   "id": "0b846a57",
   "metadata": {},
   "source": [
    "#### Q7.Make a default dictionary called dict_of_lists and pass it the argument list. Make the list dict_of_lists[&#39;a&#39;] and append the value &#39;something for a&#39; to it in one assignment. Print dict_of_lists[&#39;a&#39;]."
   ]
  },
  {
   "cell_type": "code",
   "execution_count": 20,
   "id": "9c857b18",
   "metadata": {},
   "outputs": [
    {
     "name": "stdout",
     "output_type": "stream",
     "text": [
      "defaultdict(<class 'list'>, {'a': 'something for a '})\n"
     ]
    }
   ],
   "source": [
    "from collections import defaultdict\n",
    "\n",
    "# Creating a defaultdict\n",
    "dict_of_lists = defaultdict(list)\n",
    "dict_of_lists[\"a\"] = \"something for a \"      \n",
    "\n",
    "print(dict_of_lists)"
   ]
  },
  {
   "cell_type": "code",
   "execution_count": null,
   "id": "ac03b527",
   "metadata": {},
   "outputs": [],
   "source": []
  }
 ],
 "metadata": {
  "kernelspec": {
   "display_name": "Python 3 (ipykernel)",
   "language": "python",
   "name": "python3"
  },
  "language_info": {
   "codemirror_mode": {
    "name": "ipython",
    "version": 3
   },
   "file_extension": ".py",
   "mimetype": "text/x-python",
   "name": "python",
   "nbconvert_exporter": "python",
   "pygments_lexer": "ipython3",
   "version": "3.9.12"
  }
 },
 "nbformat": 4,
 "nbformat_minor": 5
}
