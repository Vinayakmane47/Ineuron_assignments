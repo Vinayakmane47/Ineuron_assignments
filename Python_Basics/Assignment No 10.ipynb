{
 "cells": [
  {
   "cell_type": "markdown",
   "id": "99f89503",
   "metadata": {},
   "source": [
    "## Assignment No: 10 "
   ]
  },
  {
   "cell_type": "markdown",
   "id": "34c5cf94",
   "metadata": {},
   "source": [
    "#### Q1.How do you distinguish between shutil.copy() and shutil.copytree()?"
   ]
  },
  {
   "cell_type": "markdown",
   "id": "2563c9fa",
   "metadata": {},
   "source": [
    "`shutil.copy()` will copy a single file, `shutil.copytree()` will copy an entire folder and every folder and file contained in it"
   ]
  },
  {
   "cell_type": "markdown",
   "id": "27feee40",
   "metadata": {},
   "source": [
    "#### Q2.What function is used to rename files??"
   ]
  },
  {
   "cell_type": "markdown",
   "id": "0233477c",
   "metadata": {},
   "source": [
    "`os.rename()` is used to rename file"
   ]
  },
  {
   "cell_type": "markdown",
   "id": "4baa2654",
   "metadata": {},
   "source": [
    "#### Q3.What is the difference between the delete functions in the send2trash and shutil modules?"
   ]
  },
  {
   "cell_type": "markdown",
   "id": "6b67274e",
   "metadata": {},
   "source": [
    "The send2trash functions will move a file or folder to the recycle bin, while shutil functions will permanently delete files and folders"
   ]
  },
  {
   "cell_type": "markdown",
   "id": "b11a6498",
   "metadata": {},
   "source": [
    "#### Q4.ZipFile objects have a close() method just like File objects’ close() method. What ZipFile method is equivalent to File objects’ open() method?"
   ]
  },
  {
   "cell_type": "markdown",
   "id": "d4a09258",
   "metadata": {},
   "source": [
    "`with ZipFile(file_name, 'r') as zip : `"
   ]
  },
  {
   "cell_type": "markdown",
   "id": "14d397ee",
   "metadata": {},
   "source": [
    "#### Q5. Create a programme that searches a folder tree for files with a certain file extension (such as .pdf or .jpg). Copy these files from whatever location they are in to a new folder."
   ]
  },
  {
   "cell_type": "code",
   "execution_count": 3,
   "id": "22072ac0",
   "metadata": {},
   "outputs": [],
   "source": [
    "import os, shutil\n",
    "\n",
    "def moveFileType(folder):\n",
    "    for folderName, subfolders, filenames in os.walk(folder):\n",
    "        for filename in filenames:\n",
    "            if filename.endswith('.jpg') or filename.endswith('.jpg'):\n",
    "                shutil.copy(os.path.join(folderName, filename), '<destination>')\n",
    "\n",
    "moveFileType('<source>')"
   ]
  }
 ],
 "metadata": {
  "kernelspec": {
   "display_name": "Python 3 (ipykernel)",
   "language": "python",
   "name": "python3"
  },
  "language_info": {
   "codemirror_mode": {
    "name": "ipython",
    "version": 3
   },
   "file_extension": ".py",
   "mimetype": "text/x-python",
   "name": "python",
   "nbconvert_exporter": "python",
   "pygments_lexer": "ipython3",
   "version": "3.9.12"
  }
 },
 "nbformat": 4,
 "nbformat_minor": 5
}
