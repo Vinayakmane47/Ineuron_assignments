{
 "cells": [
  {
   "cell_type": "markdown",
   "id": "2efa7383",
   "metadata": {},
   "source": [
    "## Assignment No.2 "
   ]
  },
  {
   "cell_type": "markdown",
   "id": "90431990",
   "metadata": {},
   "source": [
    "#### Q1.What are the two values of the Boolean data type? How do you write them?"
   ]
  },
  {
   "cell_type": "markdown",
   "id": "f009e196",
   "metadata": {},
   "source": [
    "The two values of boolean data type are 1 and 0 we can right them by True and False respectively"
   ]
  },
  {
   "cell_type": "markdown",
   "id": "2f1d40a1",
   "metadata": {},
   "source": [
    "#### Q2.What are the three different types of Boolean operators?"
   ]
  },
  {
   "cell_type": "markdown",
   "id": "a3e51869",
   "metadata": {},
   "source": [
    "AND , OR , NOT are the three boolean operators"
   ]
  },
  {
   "cell_type": "markdown",
   "id": "63ebd64a",
   "metadata": {},
   "source": [
    "#### Q3. Make a list of each Boolean operator&#39;s truth tables (i.e. every possible combination of Boolean values for the operator and what it evaluate )."
   ]
  },
  {
   "cell_type": "markdown",
   "id": "f2ab21d5",
   "metadata": {},
   "source": [
    "    True and True is True \n",
    "    True and False is False.\n",
    "    False and True is False.\n",
    "    False and False is False.\n",
    "    True or True is True.\n",
    "    True or False is True.\n",
    "    False or True is True.\n",
    "    False or False is False.\n",
    "    not True is False.\n",
    "    not False is True"
   ]
  },
  {
   "cell_type": "markdown",
   "id": "d1666d67",
   "metadata": {},
   "source": [
    "#### Q4.What are the values of the following expressions?"
   ]
  },
  {
   "cell_type": "markdown",
   "id": "240e7a95",
   "metadata": {},
   "source": [
    "    (5>4) and (3=5) = False \n",
    "    not (5>4)      = False \n",
    "    (5 >4) or (3=5) = True \n",
    "    not ((5 >4) or (3=5))  = False \n",
    "    (True and True ) and (True == False )   = False \n",
    "    (not False ) or (not True )    = True \n",
    "   \n",
    "    "
   ]
  },
  {
   "cell_type": "markdown",
   "id": "fa6d89a6",
   "metadata": {},
   "source": [
    "#### Q5.What are the six comparison operators?"
   ]
  },
  {
   "cell_type": "markdown",
   "id": "35bdb9c3",
   "metadata": {},
   "source": [
    "    greater than (>) \n",
    "    less than (<) \n",
    "    equals to (==) \n",
    "    not equals to (!=) \n",
    "    greater equals to (>=) \n",
    "    less equals to (<=) "
   ]
  },
  {
   "cell_type": "markdown",
   "id": "a82d4301",
   "metadata": {},
   "source": [
    "#### Q6.How do you tell the difference between the equal to and assignment operators?Describe a condition and when you would use one."
   ]
  },
  {
   "cell_type": "markdown",
   "id": "483e3498",
   "metadata": {},
   "source": [
    "assignment operator(=) is used to store a specific value of a variable right to it "
   ]
  },
  {
   "cell_type": "markdown",
   "id": "16e8d7eb",
   "metadata": {},
   "source": [
    "While the equal to operator (==) is used to compare two values and returns a boolean value True or False"
   ]
  },
  {
   "cell_type": "code",
   "execution_count": 9,
   "id": "600ca585",
   "metadata": {},
   "outputs": [
    {
     "name": "stdout",
     "output_type": "stream",
     "text": [
      "False\n",
      "False\n",
      "False\n"
     ]
    }
   ],
   "source": [
    "# for example : \n",
    "# if we wants to stored a number or a string  we use assignment operator \n",
    "a = 20 \n",
    "b = \"Vinayak\"\n",
    "c = 12.23 \n",
    "\n",
    "# if we wants to compare two values then we use equal to operator \n",
    "print(a ==b )\n",
    "print(a==c)\n",
    "print(c==b)"
   ]
  },
  {
   "cell_type": "markdown",
   "id": "bb24a3a9",
   "metadata": {},
   "source": [
    "#### Q7.Identify the three blocks in this code:"
   ]
  },
  {
   "cell_type": "code",
   "execution_count": 11,
   "id": "17e54c4e",
   "metadata": {},
   "outputs": [
    {
     "name": "stdout",
     "output_type": "stream",
     "text": [
      "ham\n",
      "spam\n",
      "spam\n"
     ]
    }
   ],
   "source": [
    "spam = 0\n",
    "if spam == 10: # first block \n",
    "    print(\"eggs\")\n",
    "if spam > 5: # second block \n",
    "    print(\"bacon\")\n",
    "else:  # third block\n",
    "    print(\"ham\")\n",
    "    print(\"spam\")\n",
    "    print(\"spam\")"
   ]
  },
  {
   "cell_type": "markdown",
   "id": "f54c668a",
   "metadata": {},
   "source": [
    "#### Q8.Write code that prints Hello if 1 is stored in spam, prints Howdy if 2 is stored in spam, and prints Greetings! if anything else is stored in spam."
   ]
  },
  {
   "cell_type": "code",
   "execution_count": 18,
   "id": "481da6e2",
   "metadata": {},
   "outputs": [
    {
     "name": "stdout",
     "output_type": "stream",
     "text": [
      "Greetings !\n"
     ]
    }
   ],
   "source": [
    "spam = 3 \n",
    "if spam == 1 : \n",
    "    print('Hello')\n",
    "elif spam == 2 : \n",
    "    print(\"Howdy\")\n",
    "else : \n",
    "    print(\"Greetings !\")"
   ]
  },
  {
   "cell_type": "markdown",
   "id": "6f583fb6",
   "metadata": {},
   "source": [
    "#### Q9. If your programme is stuck in an endless loop, what keys you’ll press?"
   ]
  },
  {
   "cell_type": "markdown",
   "id": "cd0d22f6",
   "metadata": {},
   "source": [
    "Interrept the kernel and then restart "
   ]
  },
  {
   "cell_type": "markdown",
   "id": "fd1b2efd",
   "metadata": {},
   "source": [
    "#### Q10.How can you tell the difference between break and continue?"
   ]
  },
  {
   "cell_type": "markdown",
   "id": "06afb2e3",
   "metadata": {},
   "source": [
    "    break is use to escape out of loop \n",
    "    continue is used to skip a current iteration and continue to next iteration\n",
    "   "
   ]
  },
  {
   "cell_type": "code",
   "execution_count": 21,
   "id": "04007884",
   "metadata": {},
   "outputs": [
    {
     "name": "stdout",
     "output_type": "stream",
     "text": [
      "hello\n",
      "hello\n"
     ]
    }
   ],
   "source": [
    "# for example : break statement used to escape from loop after a certain condition is met \n",
    "n = 0\n",
    "while True :\n",
    "    if n == 2: \n",
    "        break\n",
    "    print(\"hello\")\n",
    "    n += 1 "
   ]
  },
  {
   "cell_type": "code",
   "execution_count": 36,
   "id": "e89e8481",
   "metadata": {},
   "outputs": [
    {
     "name": "stdout",
     "output_type": "stream",
     "text": [
      "Hello\n",
      "Hello\n",
      "Hello\n",
      "Hello\n"
     ]
    }
   ],
   "source": [
    "# for example : continue statement is used to skip a certain iteration\n",
    "for i in range(5): \n",
    "    if i == 3 : \n",
    "        continue \n",
    "    print(\"Hello\")\n"
   ]
  },
  {
   "cell_type": "markdown",
   "id": "32e5c65b",
   "metadata": {},
   "source": [
    "#### Q11.In a for loop, what is the difference between range(10), range(0, 10), and range(0, 10, 1)?"
   ]
  },
  {
   "cell_type": "markdown",
   "id": "b173b51a",
   "metadata": {},
   "source": [
    "meaning of three statement is same in for loop "
   ]
  },
  {
   "cell_type": "code",
   "execution_count": 37,
   "id": "bf3777e3",
   "metadata": {},
   "outputs": [
    {
     "name": "stdout",
     "output_type": "stream",
     "text": [
      "0\n",
      "1\n",
      "2\n",
      "3\n",
      "4\n",
      "5\n",
      "6\n",
      "7\n",
      "8\n",
      "9\n"
     ]
    }
   ],
   "source": [
    "# Example 1 : range(10)\n",
    "for i in range(10): \n",
    "    print(i)"
   ]
  },
  {
   "cell_type": "code",
   "execution_count": 38,
   "id": "51700452",
   "metadata": {},
   "outputs": [
    {
     "name": "stdout",
     "output_type": "stream",
     "text": [
      "0\n",
      "1\n",
      "2\n",
      "3\n",
      "4\n",
      "5\n",
      "6\n",
      "7\n",
      "8\n",
      "9\n"
     ]
    }
   ],
   "source": [
    "# Example 2 : range(0,10)\n",
    "for i in range(0,10): \n",
    "    print(i)"
   ]
  },
  {
   "cell_type": "code",
   "execution_count": 39,
   "id": "1691b200",
   "metadata": {},
   "outputs": [
    {
     "name": "stdout",
     "output_type": "stream",
     "text": [
      "0\n",
      "1\n",
      "2\n",
      "3\n",
      "4\n",
      "5\n",
      "6\n",
      "7\n",
      "8\n",
      "9\n"
     ]
    }
   ],
   "source": [
    "#Example 3: range(0,10,1)\n",
    "for i in range(0,10,1): \n",
    "    print(i)"
   ]
  },
  {
   "cell_type": "markdown",
   "id": "44877f2e",
   "metadata": {},
   "source": [
    "#### Q12. Write a short program that prints the numbers 1 to 10 using a for loop. Then write an equivalent program that prints the numbers 1 to 10 using a while loop."
   ]
  },
  {
   "cell_type": "code",
   "execution_count": 41,
   "id": "3320c939",
   "metadata": {},
   "outputs": [
    {
     "name": "stdout",
     "output_type": "stream",
     "text": [
      "1\n",
      "2\n",
      "3\n",
      "4\n",
      "5\n",
      "6\n",
      "7\n",
      "8\n",
      "9\n",
      "10\n"
     ]
    }
   ],
   "source": [
    "# Example 1 : for loop : \n",
    "for i in range(1,11): \n",
    "    print(i)"
   ]
  },
  {
   "cell_type": "code",
   "execution_count": 49,
   "id": "0fcdebc2",
   "metadata": {},
   "outputs": [
    {
     "name": "stdout",
     "output_type": "stream",
     "text": [
      "1\n",
      "2\n",
      "3\n",
      "4\n",
      "5\n",
      "6\n",
      "7\n",
      "8\n",
      "9\n",
      "10\n"
     ]
    }
   ],
   "source": [
    "# Example 2 : while loop : \n",
    "n = 0 \n",
    "\n",
    "while n <10 : \n",
    "    n = n + 1 \n",
    "    print(n)\n",
    "    "
   ]
  },
  {
   "cell_type": "markdown",
   "id": "b8c6f53e",
   "metadata": {},
   "source": [
    "#### Q13.If you had a function named bacon() inside a module named spam, how would you call it after importing spam?"
   ]
  },
  {
   "cell_type": "markdown",
   "id": "186b82c7",
   "metadata": {},
   "source": [
    "    import spam \n",
    "    spam.bacon()"
   ]
  },
  {
   "cell_type": "code",
   "execution_count": null,
   "id": "b1550a59",
   "metadata": {},
   "outputs": [],
   "source": []
  },
  {
   "cell_type": "code",
   "execution_count": null,
   "id": "608fb92f",
   "metadata": {},
   "outputs": [],
   "source": []
  },
  {
   "cell_type": "code",
   "execution_count": null,
   "id": "1a4b55ab",
   "metadata": {},
   "outputs": [],
   "source": []
  },
  {
   "cell_type": "code",
   "execution_count": null,
   "id": "0ecb0c44",
   "metadata": {},
   "outputs": [],
   "source": []
  }
 ],
 "metadata": {
  "kernelspec": {
   "display_name": "Python 3 (ipykernel)",
   "language": "python",
   "name": "python3"
  },
  "language_info": {
   "codemirror_mode": {
    "name": "ipython",
    "version": 3
   },
   "file_extension": ".py",
   "mimetype": "text/x-python",
   "name": "python",
   "nbconvert_exporter": "python",
   "pygments_lexer": "ipython3",
   "version": "3.9.12"
  }
 },
 "nbformat": 4,
 "nbformat_minor": 5
}
