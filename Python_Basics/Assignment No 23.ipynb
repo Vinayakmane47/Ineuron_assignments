{
 "cells": [
  {
   "cell_type": "markdown",
   "id": "b114103d",
   "metadata": {},
   "source": [
    "## Assignment No 23"
   ]
  },
  {
   "cell_type": "markdown",
   "id": "e13878af",
   "metadata": {},
   "source": [
    "#### Q1.What is the result of the code, and why?\n",
    "#### &gt;&gt;&gt; def func(a, b=6, c=8):\n",
    "#### print(a, b, c)\n",
    "#### &gt;&gt;&gt; func(1, 2)"
   ]
  },
  {
   "cell_type": "code",
   "execution_count": 1,
   "id": "d9d25600",
   "metadata": {},
   "outputs": [
    {
     "name": "stdout",
     "output_type": "stream",
     "text": [
      "1 2 8\n"
     ]
    }
   ],
   "source": [
    "def func(a, b=6, c=8): \n",
    "    print(a,b,c)\n",
    "func(1,2)"
   ]
  },
  {
   "cell_type": "markdown",
   "id": "882e5b7e",
   "metadata": {},
   "source": [
    "we have set b = 6 and c = 8 thats why we dont have to provide all values"
   ]
  },
  {
   "cell_type": "markdown",
   "id": "875b6f2b",
   "metadata": {},
   "source": [
    "#### Q2.What is the result of this code, and why?\n",
    "#### &gt;&gt;&gt; def func(a, b, c=5):\n",
    "#### print(a, b, c)\n",
    "#### &gt;&gt;&gt; func(1, c=3, b=2)"
   ]
  },
  {
   "cell_type": "code",
   "execution_count": 2,
   "id": "84b31119",
   "metadata": {},
   "outputs": [
    {
     "name": "stdout",
     "output_type": "stream",
     "text": [
      "1 2 3\n"
     ]
    }
   ],
   "source": [
    "def func(a,b,c=5): \n",
    "    print(a,b,c)\n",
    "func(1,c=3,b=2)"
   ]
  },
  {
   "cell_type": "markdown",
   "id": "22629170",
   "metadata": {},
   "source": [
    "we dont have to worry about sequence of data if we specify what variables equals to what value"
   ]
  },
  {
   "cell_type": "markdown",
   "id": "213a6807",
   "metadata": {},
   "source": [
    "#### Q3.How about this code: what is its result, and why?\n",
    "#### &gt;&gt;&gt; def func(a, *pargs):\n",
    "#### print(a, pargs)\n",
    "#### &gt;&gt;&gt; func(1, 2, 3)"
   ]
  },
  {
   "cell_type": "code",
   "execution_count": 3,
   "id": "e71ee472",
   "metadata": {},
   "outputs": [
    {
     "name": "stdout",
     "output_type": "stream",
     "text": [
      "1 (2, 3)\n"
     ]
    }
   ],
   "source": [
    "def func(a,*pargs): \n",
    "    print(a,pargs)\n",
    "    \n",
    "func(1,2,3)"
   ]
  },
  {
   "cell_type": "markdown",
   "id": "659cfb04",
   "metadata": {},
   "source": [
    "here the function takes a = 1 and pargs = (2,3) so that we get output like this"
   ]
  },
  {
   "cell_type": "markdown",
   "id": "e220ed93",
   "metadata": {},
   "source": [
    "#### Q4.What does this code print, and why?\n",
    "#### &gt;&gt;&gt; def func(a, **kargs):\n",
    "#### print(a, kargs)\n",
    "#### &gt;&gt;&gt; func(a=1, c=3, b=2)"
   ]
  },
  {
   "cell_type": "code",
   "execution_count": 6,
   "id": "a6bf8bdd",
   "metadata": {},
   "outputs": [
    {
     "name": "stdout",
     "output_type": "stream",
     "text": [
      "1 {'c': 3, 'b': 2}\n"
     ]
    }
   ],
   "source": [
    "def func(a,**kargs): \n",
    "    print(a,kargs)\n",
    "    \n",
    "func(a=1,c=3,b=2)"
   ]
  },
  {
   "cell_type": "markdown",
   "id": "7d986d42",
   "metadata": {},
   "source": [
    "here functions takes a =1 and it creates a dictionary with c=3 and b =2 "
   ]
  },
  {
   "cell_type": "markdown",
   "id": "7a19c06b",
   "metadata": {},
   "source": [
    "#### Q5.What gets printed by this, and explain?\n",
    "#### &gt;&gt;&gt; def func(a, b, c=8, d=5): print(a, b, c, d)\n",
    "##### &gt;&gt;&gt; func(1, *(5, 6))"
   ]
  },
  {
   "cell_type": "code",
   "execution_count": 11,
   "id": "e87f197b",
   "metadata": {},
   "outputs": [
    {
     "name": "stdout",
     "output_type": "stream",
     "text": [
      "1 5 6 5\n"
     ]
    }
   ],
   "source": [
    "def func(a,b,c=8,d=5): print(a,b,c,d)\n",
    "\n",
    "func(1,*(5,6))"
   ]
  },
  {
   "cell_type": "markdown",
   "id": "5f9458e8",
   "metadata": {},
   "source": [
    "here function takes an argument value *(5,6) and thus its sets b=5 and c = 6 "
   ]
  },
  {
   "cell_type": "markdown",
   "id": "71276e81",
   "metadata": {},
   "source": [
    "#### Q6.what is the result of this, and explain?\n",
    "#### &gt;&gt;&gt; def func(a, b, c): a = 2; b[0] = &#39;x&#39;; c[&#39;a&#39;] = &#39;y&#39;\n",
    "#### &gt;&gt;&gt; l=1; m=[1]; n={&#39;a&#39;:0}\n",
    "#### &gt;&gt;&gt; func(l, m, n)\n",
    "#### &gt;&gt;&gt; l, m, n"
   ]
  },
  {
   "cell_type": "code",
   "execution_count": 12,
   "id": "11639f9b",
   "metadata": {},
   "outputs": [
    {
     "data": {
      "text/plain": [
       "(1, ['x'], {'a': 'y'})"
      ]
     },
     "execution_count": 12,
     "metadata": {},
     "output_type": "execute_result"
    }
   ],
   "source": [
    "def func(a,b,c): a=2 ; b[0]='x';c['a']='y'\n",
    "l=1; m=[1]; n={'a':0}\n",
    "func(l, m, n)\n",
    "l, m, n"
   ]
  },
  {
   "cell_type": "markdown",
   "id": "5a2639bc",
   "metadata": {},
   "source": []
  }
 ],
 "metadata": {
  "kernelspec": {
   "display_name": "Python 3 (ipykernel)",
   "language": "python",
   "name": "python3"
  },
  "language_info": {
   "codemirror_mode": {
    "name": "ipython",
    "version": 3
   },
   "file_extension": ".py",
   "mimetype": "text/x-python",
   "name": "python",
   "nbconvert_exporter": "python",
   "pygments_lexer": "ipython3",
   "version": "3.9.12"
  }
 },
 "nbformat": 4,
 "nbformat_minor": 5
}
