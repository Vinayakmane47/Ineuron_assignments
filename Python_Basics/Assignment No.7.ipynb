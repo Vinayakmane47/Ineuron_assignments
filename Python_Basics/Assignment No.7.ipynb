{
 "cells": [
  {
   "cell_type": "markdown",
   "id": "78c5c8fe",
   "metadata": {},
   "source": [
    "## Assignment No : 1"
   ]
  },
  {
   "cell_type": "markdown",
   "id": "d2cd9e29",
   "metadata": {},
   "source": [
    "#### Q1.What is the name of the feature responsible for generating Regex objects?"
   ]
  },
  {
   "cell_type": "markdown",
   "id": "1451b158",
   "metadata": {},
   "source": [
    "The re.compile() function returns Regex objects"
   ]
  },
  {
   "cell_type": "markdown",
   "id": "8de1cf08",
   "metadata": {},
   "source": [
    "#### Q2.Why do raw strings often appear in Regex objects?"
   ]
  },
  {
   "cell_type": "markdown",
   "id": "8053b9d8",
   "metadata": {},
   "source": [
    "Raw strings are used so that backslashes do not have to be escaped"
   ]
  },
  {
   "cell_type": "markdown",
   "id": "630a00d8",
   "metadata": {},
   "source": [
    "#### Q3.What is the return value of the search() method?"
   ]
  },
  {
   "cell_type": "markdown",
   "id": "dcd1cc72",
   "metadata": {},
   "source": [
    "function takes two parameters and returns a match object if there is a match. If there is more than one match, only the first occurrence of the match will be returned. If no matches are found, the value None is returned"
   ]
  },
  {
   "cell_type": "markdown",
   "id": "b0cd2921",
   "metadata": {},
   "source": [
    "#### Q4. From a Match item, how do you get the actual strings that match the pattern?"
   ]
  },
  {
   "cell_type": "markdown",
   "id": "44938b03",
   "metadata": {},
   "source": [
    "The group() method returns strings of the matched text"
   ]
  },
  {
   "cell_type": "markdown",
   "id": "24143e09",
   "metadata": {},
   "source": [
    "#### Q5. In the regex which created from the r&#39;(\\d\\d\\d)-(\\d\\d\\d-\\d\\d\\d\\d)&#39;, what does group zero cover? Group 2? Group 1?"
   ]
  },
  {
   "cell_type": "markdown",
   "id": "ea5955ab",
   "metadata": {},
   "source": [
    "Group 0 is the entire match, group 1 covers the first set of parentheses, and group 2 covers the second set of parentheses"
   ]
  },
  {
   "cell_type": "markdown",
   "id": "60bcdab2",
   "metadata": {},
   "source": [
    "#### Q6. In standard expression syntax, parentheses and intervals have distinct meanings. How can you tell a regex that you want it to fit real parentheses and periods?"
   ]
  },
  {
   "cell_type": "markdown",
   "id": "742fc498",
   "metadata": {},
   "source": [
    "    Periods and parentheses can be escaped with a backslash: \\., \\(, and \\)."
   ]
  },
  {
   "cell_type": "markdown",
   "id": "1ecc04c1",
   "metadata": {},
   "source": [
    "#### Q7 . The findall() method returns a string list or a list of string tuples. What causes it to return one of the two options?"
   ]
  },
  {
   "cell_type": "markdown",
   "id": "f24b8384",
   "metadata": {},
   "source": [
    "They contain references to list values rather than list values themselves."
   ]
  },
  {
   "cell_type": "markdown",
   "id": "7f159876",
   "metadata": {},
   "source": [
    "#### Q8. In standard expressions, what does the | character mean?"
   ]
  },
  {
   "cell_type": "markdown",
   "id": "5c30a4f0",
   "metadata": {},
   "source": [
    "Alternation"
   ]
  },
  {
   "cell_type": "markdown",
   "id": "7afd969b",
   "metadata": {},
   "source": [
    "#### Q9.In regular expressions, what does the character stand for?"
   ]
  },
  {
   "cell_type": "markdown",
   "id": "63aedbd9",
   "metadata": {},
   "source": [
    "Each character in a regular expression  is either a metacharacter, having a special meaning, or a regular character that has a literal meaning"
   ]
  },
  {
   "cell_type": "markdown",
   "id": "3d3c6d27",
   "metadata": {},
   "source": [
    "#### Q10. In regular expressions, what is the difference between the + and * characters?"
   ]
  },
  {
   "cell_type": "markdown",
   "id": "5b4b8fd1",
   "metadata": {},
   "source": [
    "Each of them are quantifiers, the star quantifier(*) means that the preceding expression can match zero or more times it is like {0,} while the plus quantifier(+) indicate that the preceding expression MUST match at least one time or multiple times and it is the same as {1,} ."
   ]
  },
  {
   "cell_type": "markdown",
   "id": "c2b43de7",
   "metadata": {},
   "source": [
    "#### Q11. What is the difference between {4} and {4,5} in regular expression?"
   ]
  },
  {
   "cell_type": "markdown",
   "id": "061a76ce",
   "metadata": {},
   "source": [
    "    {4} - its specifies to quantity or number having value 4 \n",
    "    {4,5} - digits between 4 to 5 "
   ]
  },
  {
   "cell_type": "markdown",
   "id": "531b1798",
   "metadata": {},
   "source": [
    "#### Q12.What do you mean by the \\d, \\w, and \\s shorthand character classes signify in regular expressions?"
   ]
  },
  {
   "cell_type": "markdown",
   "id": "e3a4182c",
   "metadata": {},
   "source": [
    "    The \\d, \\w, and \\s shorthand character classes match a single character that is  a digit, word, or space character, respectively."
   ]
  },
  {
   "cell_type": "markdown",
   "id": "47d2e0c8",
   "metadata": {},
   "source": [
    "#### Q13.What do means by \\D, \\W, and \\S shorthand character classes signify in regular expressions?"
   ]
  },
  {
   "cell_type": "markdown",
   "id": "1c33a031",
   "metadata": {},
   "source": [
    "The \\d, \\w, and \\s shorthand character classes match a single character that is not  a digit, word, or space character, respectively"
   ]
  },
  {
   "cell_type": "markdown",
   "id": "e7d6cf14",
   "metadata": {},
   "source": [
    " #### Q14.What is the difference between .`*?` and .`*?`"
   ]
  },
  {
   "cell_type": "markdown",
   "id": "cb30f89c",
   "metadata": {},
   "source": [
    "The .+? form requires at least one character to match, while .*? can match none at all. Both operations are non-greedy, so they will try to find the shortest possible matching string."
   ]
  },
  {
   "cell_type": "markdown",
   "id": "356aa35c",
   "metadata": {},
   "source": [
    "#### Q15.What is the syntax for matching both numbers and lowercase letters with a character class?"
   ]
  },
  {
   "cell_type": "markdown",
   "id": "e282d477",
   "metadata": {},
   "source": [
    " the character class [a-zA-Z0-9] will match all lowercase letters, uppercase letters, and number"
   ]
  },
  {
   "cell_type": "markdown",
   "id": "d13a74f2",
   "metadata": {},
   "source": [
    "#### Q16.What is the procedure for making a normal expression in regax case insensitive?"
   ]
  },
  {
   "cell_type": "markdown",
   "id": "dbd89a91",
   "metadata": {},
   "source": [
    "Pass re.IGNORECASE or re.I as a second argument to re.compile(). For example, ro = re.compile(r'robocop', re.I)"
   ]
  },
  {
   "cell_type": "markdown",
   "id": "e5b2ff9a",
   "metadata": {},
   "source": [
    "#### Q17. What does the . character normally match? What does it match if re.DOTALL is passed as 2nd argument in re.compile()?"
   ]
  },
  {
   "cell_type": "markdown",
   "id": "2cc07189",
   "metadata": {},
   "source": [
    "The . character in a regular expression is called a wildcard and will match any character except for a newline"
   ]
  },
  {
   "cell_type": "markdown",
   "id": "16540e21",
   "metadata": {},
   "source": [
    "#### Q18. If numReg = re.compile(r&#39;\\d+&#39;), what will numRegex.sub(&#39;X&#39;, &#39;11 drummers, 10 pipers, five rings, 4 hen&#39;) return?"
   ]
  },
  {
   "cell_type": "markdown",
   "id": "bb0c525d",
   "metadata": {},
   "source": [
    "X drummers, X pipers, five rings, X hens"
   ]
  },
  {
   "cell_type": "markdown",
   "id": "ef4bc3cf",
   "metadata": {},
   "source": [
    "#### 19.What does passing re.VERBOSE as the 2nd argument to re.compile() allow to do?"
   ]
  },
  {
   "cell_type": "markdown",
   "id": "e65df567",
   "metadata": {},
   "source": [
    "To ignore whitespace and comments inside the regular expression string."
   ]
  },
  {
   "cell_type": "markdown",
   "id": "f02e0fea",
   "metadata": {},
   "source": [
    "#### Q20.How would you write a regex that match a number with comma for every three digits? It must\n",
    "##### match the given following:\n",
    "##### &#39;42&#39;\n",
    "###### &#39;1,234&#39;\n",
    "##### &#39;6,368,745&#39;\n",
    "###### but not the following:\n",
    "###### &#39;12,34,567&#39; (which has only two digits between the commas)\n",
    "###### &#39;1234&#39; (which lacks commas)"
   ]
  },
  {
   "cell_type": "markdown",
   "id": "c8d3149a",
   "metadata": {},
   "source": [
    "numCommas = re.compile(r'(^\\d{1,3})(,\\d{3})*$') numCommas.search('12,34,567').group()"
   ]
  },
  {
   "cell_type": "markdown",
   "id": "32903247",
   "metadata": {},
   "source": [
    "#### Q21.How would you write a regex that matches the full name of someone whose last name is Watanabe? You can assume that the first name that comes before it will always be one word that begins with a capital letter. The regex must match the following:\n",
    "##### &#39;Haruto Watanabe&#39;\n",
    "##### &#39;Alice Watanabe&#39;\n",
    "##### &#39;RoboCop Watanabe&#39;\n",
    "##### but not the following:\n",
    "##### &#39;haruto Watanabe&#39; (where the first name is not capitalized)\n",
    "##### &#39;Mr. Watanabe&#39; (where the preceding word has a nonletter character)\n",
    "##### &#39;Watanabe&#39; (which has no first name)\n",
    "##### &#39;Haruto watanabe&#39; (where Watanabe is not capitalized)"
   ]
  },
  {
   "cell_type": "markdown",
   "id": "48e222dd",
   "metadata": {},
   "source": [
    "fullName = re.compile(r'[A-Z]\\w [A-Z]\\w') mo = fullName.findall('Satoshi Nakamoto, satoshi Nakamoto, Alice Nakamoto, Nakamoto, Satoshi nakamoto, Robocop Nakamoto') mo.group()"
   ]
  },
  {
   "cell_type": "markdown",
   "id": "ade58b82",
   "metadata": {},
   "source": [
    "#### Q22. How would you write a regex that matches a sentence where the first word is either Alice, Bob, or Carol; the second word is either eats, pets, or throws; the third word is apples, cats, or baseballs; and the sentence ends with a period? This regex should be case-insensitive. It must match the following:\n",
    "##### &#39;Alice eats apples.&#39;\n",
    "##### &#39;Bob pets cats.&#39;\n",
    "##### &#39;Carol throws baseballs.&#39;\n",
    "##### &#39;Alice throws Apples.&#39;\n",
    "##### &#39;BOB EATS CATS.&#39;\n",
    "##### but not the following:\n",
    "##### &#39;RoboCop eats apples.&#39;\n",
    "##### &#39;ALICE THROWS FOOTBALLS.&#39;\n",
    "##### &#39;Carol eats 7 cats.&#39;"
   ]
  },
  {
   "cell_type": "markdown",
   "id": "f0ecda79",
   "metadata": {},
   "source": [
    "Test result: [('Alice', 'eats', 'apples'), ('Bob', 'pets', 'cats'), ('Carol', 'throws', 'baseballs'), ('Alice', 'throws', 'Apples'), ('BOB', 'EATS', 'CATS')]"
   ]
  },
  {
   "cell_type": "code",
   "execution_count": null,
   "id": "62cac256",
   "metadata": {},
   "outputs": [],
   "source": []
  }
 ],
 "metadata": {
  "kernelspec": {
   "display_name": "Python 3 (ipykernel)",
   "language": "python",
   "name": "python3"
  },
  "language_info": {
   "codemirror_mode": {
    "name": "ipython",
    "version": 3
   },
   "file_extension": ".py",
   "mimetype": "text/x-python",
   "name": "python",
   "nbconvert_exporter": "python",
   "pygments_lexer": "ipython3",
   "version": "3.9.12"
  }
 },
 "nbformat": 4,
 "nbformat_minor": 5
}
