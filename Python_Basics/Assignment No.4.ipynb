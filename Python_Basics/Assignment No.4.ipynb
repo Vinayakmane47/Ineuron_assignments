{
 "cells": [
  {
   "cell_type": "markdown",
   "id": "67b43bf9",
   "metadata": {},
   "source": [
    "## Assignment No. 4 : "
   ]
  },
  {
   "cell_type": "markdown",
   "id": "344f3498",
   "metadata": {},
   "source": [
    "#### Q1. What exactly is []?"
   ]
  },
  {
   "cell_type": "markdown",
   "id": "d12dc69b",
   "metadata": {},
   "source": [
    "[] this is square bracket . we can also create a list data type using [] "
   ]
  },
  {
   "cell_type": "markdown",
   "id": "69654784",
   "metadata": {},
   "source": [
    "#### Q2.In a list of values stored in a variable called spam, how would you assign the value &#39;hello&#39; as the third value? (Assume [2, 4, 6, 8, 10] are in spam.)  "
   ]
  },
  {
   "cell_type": "code",
   "execution_count": 3,
   "id": "a88d1cd7",
   "metadata": {},
   "outputs": [
    {
     "name": "stdout",
     "output_type": "stream",
     "text": [
      "[2, 4, 'hello', 8, 10]\n"
     ]
    }
   ],
   "source": [
    "spam = [2,4,6,8,10]\n",
    "spam[2] = 'hello'\n",
    "print(spam)"
   ]
  },
  {
   "cell_type": "markdown",
   "id": "11b050bb",
   "metadata": {},
   "source": [
    "#### Let&#39;s pretend the spam includes the list [&#39;a&#39;, &#39;b&#39;, &#39;c&#39;, &#39;d&#39;] for the next three queries."
   ]
  },
  {
   "cell_type": "code",
   "execution_count": 9,
   "id": "7a36ed9b",
   "metadata": {},
   "outputs": [],
   "source": [
    "spam = ['a','b','c','d']"
   ]
  },
  {
   "cell_type": "markdown",
   "id": "7ddf3a00",
   "metadata": {},
   "source": [
    "#### Q3.What is the value of spam[int(int(&#39;3&#39; * 2) / 11)]?"
   ]
  },
  {
   "cell_type": "code",
   "execution_count": 10,
   "id": "2411b8fc",
   "metadata": {},
   "outputs": [
    {
     "name": "stdout",
     "output_type": "stream",
     "text": [
      "d\n"
     ]
    }
   ],
   "source": [
    "print(spam[int(int('3'*2)/11)])\n",
    "# Ans : - d "
   ]
  },
  {
   "cell_type": "markdown",
   "id": "22d11336",
   "metadata": {},
   "source": [
    "#### Q4. What is the value of spam[-1]?"
   ]
  },
  {
   "cell_type": "code",
   "execution_count": 12,
   "id": "ad700646",
   "metadata": {},
   "outputs": [
    {
     "name": "stdout",
     "output_type": "stream",
     "text": [
      "d\n"
     ]
    }
   ],
   "source": [
    "print(spam[-1])\n",
    "# ANS : - d"
   ]
  },
  {
   "cell_type": "markdown",
   "id": "f9ad09b2",
   "metadata": {},
   "source": [
    "#### Q5.What is the value of spam[:2]?"
   ]
  },
  {
   "cell_type": "code",
   "execution_count": 14,
   "id": "207694e0",
   "metadata": {},
   "outputs": [
    {
     "data": {
      "text/plain": [
       "['a', 'b']"
      ]
     },
     "execution_count": 14,
     "metadata": {},
     "output_type": "execute_result"
    }
   ],
   "source": [
    "spam[:2]\n",
    "# ANS : - [a,b]"
   ]
  },
  {
   "cell_type": "markdown",
   "id": "7f938844",
   "metadata": {},
   "source": [
    "#### Let&#39;s pretend bacon has the list [3.14, &#39;cat,&#39; 11, &#39;cat,&#39; True] for the next three questions."
   ]
  },
  {
   "cell_type": "code",
   "execution_count": 19,
   "id": "8ad37a86",
   "metadata": {},
   "outputs": [],
   "source": [
    "bacon =  [3.14, 'cat', 11, 'cat', True]"
   ]
  },
  {
   "cell_type": "markdown",
   "id": "23f229c7",
   "metadata": {},
   "source": [
    "#### Q6.What is the value of bacon.index(&#39;cat&#39;)?"
   ]
  },
  {
   "cell_type": "code",
   "execution_count": 20,
   "id": "533c69d5",
   "metadata": {},
   "outputs": [
    {
     "data": {
      "text/plain": [
       "1"
      ]
     },
     "execution_count": 20,
     "metadata": {},
     "output_type": "execute_result"
    }
   ],
   "source": [
    "bacon.index('cat')\n",
    "# ANS : - 1 "
   ]
  },
  {
   "cell_type": "markdown",
   "id": "a92e328f",
   "metadata": {},
   "source": [
    "#### Q7.How does bacon.append(99) change the look of the list value in bacon?"
   ]
  },
  {
   "cell_type": "code",
   "execution_count": 21,
   "id": "fd0bd150",
   "metadata": {},
   "outputs": [
    {
     "name": "stdout",
     "output_type": "stream",
     "text": [
      "[3.14, 'cat', 11, 'cat', True, 99]\n"
     ]
    }
   ],
   "source": [
    "bacon.append(99)\n",
    "print(bacon)"
   ]
  },
  {
   "cell_type": "markdown",
   "id": "28d81bc4",
   "metadata": {},
   "source": [
    "#### Q8.How does bacon.remove(&#39;cat&#39;) change the look of the list in bacon?"
   ]
  },
  {
   "cell_type": "code",
   "execution_count": 22,
   "id": "9ad419c2",
   "metadata": {},
   "outputs": [
    {
     "name": "stdout",
     "output_type": "stream",
     "text": [
      "[3.14, 11, 'cat', True, 99]\n"
     ]
    }
   ],
   "source": [
    "bacon.remove('cat')\n",
    "print(bacon)"
   ]
  },
  {
   "cell_type": "markdown",
   "id": "a1f134c3",
   "metadata": {},
   "source": [
    "#### Q9.What are the list concatenation and list replication operators?"
   ]
  },
  {
   "cell_type": "markdown",
   "id": "f5344ad4",
   "metadata": {},
   "source": [
    "'+' is list concatenation operator while '*' is list replicator operator"
   ]
  },
  {
   "cell_type": "markdown",
   "id": "a0c67718",
   "metadata": {},
   "source": [
    "#### Q10.What is difference between the list methods append() and insert()?"
   ]
  },
  {
   "cell_type": "markdown",
   "id": "62436010",
   "metadata": {},
   "source": [
    "append() function adds the data at last index position of list . insert() function add data at any specifie index position"
   ]
  },
  {
   "cell_type": "markdown",
   "id": "301f0b16",
   "metadata": {},
   "source": [
    "#### Q11.What are the two methods for removing items from a list?"
   ]
  },
  {
   "cell_type": "markdown",
   "id": "71001cf8",
   "metadata": {},
   "source": [
    "pop and remove"
   ]
  },
  {
   "cell_type": "markdown",
   "id": "4eea2f46",
   "metadata": {},
   "source": [
    "#### Q12.Describe how list values and string values are identical."
   ]
  },
  {
   "cell_type": "markdown",
   "id": "1726ea81",
   "metadata": {},
   "source": [
    "The similarity between Lists and Strings in Python is that both are sequences. The differences between them are that firstly, Lists are mutable but Strings are immutable. Secondly, elements of a list can be of different types whereas a String only contains characters that are all of String type. we can use indexing methods in bot string and list "
   ]
  },
  {
   "cell_type": "markdown",
   "id": "f65629ec",
   "metadata": {},
   "source": [
    "#### Q13.What&#39;s the difference between tuples and lists?"
   ]
  },
  {
   "cell_type": "markdown",
   "id": "f67141f0",
   "metadata": {},
   "source": [
    "tuples are sequence of indexed objects and tuple is immutable . list are sequence of indexed objects and list is mutable.tuple are created by tuple() or () keywords . list created by list() or [] keywords"
   ]
  },
  {
   "cell_type": "markdown",
   "id": "da310075",
   "metadata": {},
   "source": [
    "#### Q14.How do you type a tuple value that only contains the integer 42?"
   ]
  },
  {
   "cell_type": "code",
   "execution_count": 26,
   "id": "d83194a4",
   "metadata": {},
   "outputs": [
    {
     "name": "stdout",
     "output_type": "stream",
     "text": [
      "<class 'int'>\n",
      "<class 'tuple'>\n"
     ]
    }
   ],
   "source": [
    "a = (42)\n",
    "print(type(a))\n",
    "# adding a comma \n",
    "b = (42,)\n",
    "print(type(b))"
   ]
  },
  {
   "cell_type": "markdown",
   "id": "f96458df",
   "metadata": {},
   "source": [
    "#### Q15.How do you get a list value&#39;s tuple form? How do you get a tuple value&#39;s list form?"
   ]
  },
  {
   "cell_type": "code",
   "execution_count": 27,
   "id": "ae53c156",
   "metadata": {},
   "outputs": [
    {
     "name": "stdout",
     "output_type": "stream",
     "text": [
      "[6, 7, 8, 9, 10]\n",
      "(1, 2, 3, 4, 5)\n"
     ]
    }
   ],
   "source": [
    "l = [1,2,3,4,5]\n",
    "t = (6,7,8,9,10)\n",
    "\n",
    "# list from tuple \n",
    "l1 = list(t)\n",
    "print(l1)\n",
    "\n",
    "# tuple from list\n",
    "t1 = tuple(l)\n",
    "print(t1)"
   ]
  },
  {
   "cell_type": "markdown",
   "id": "dcbc5037",
   "metadata": {},
   "source": [
    "#### Q16.Variables that &quot;contain&quot; list values are not necessarily lists themselves. Instead, what do they contain?"
   ]
  },
  {
   "cell_type": "markdown",
   "id": "ed201a6f",
   "metadata": {},
   "source": [
    "Variables will contain references to list values rather than list values themselves. But for strings and integer values, variables simply contain the string or integer value."
   ]
  },
  {
   "cell_type": "markdown",
   "id": "3d53c454",
   "metadata": {},
   "source": [
    "#### Q17.How do you distinguish between copy.copy() and copy.deepcopy()?"
   ]
  },
  {
   "cell_type": "markdown",
   "id": "28af140e",
   "metadata": {},
   "source": [
    "copy() create reference to original object. If you change copied object - you change the original object. . deepcopy() creates new object and does real copying of original object to new one"
   ]
  },
  {
   "cell_type": "code",
   "execution_count": null,
   "id": "14da1808",
   "metadata": {},
   "outputs": [],
   "source": []
  },
  {
   "cell_type": "code",
   "execution_count": null,
   "id": "755d0169",
   "metadata": {},
   "outputs": [],
   "source": []
  },
  {
   "cell_type": "code",
   "execution_count": null,
   "id": "c2cda861",
   "metadata": {},
   "outputs": [],
   "source": []
  }
 ],
 "metadata": {
  "kernelspec": {
   "display_name": "Python 3 (ipykernel)",
   "language": "python",
   "name": "python3"
  },
  "language_info": {
   "codemirror_mode": {
    "name": "ipython",
    "version": 3
   },
   "file_extension": ".py",
   "mimetype": "text/x-python",
   "name": "python",
   "nbconvert_exporter": "python",
   "pygments_lexer": "ipython3",
   "version": "3.9.12"
  }
 },
 "nbformat": 4,
 "nbformat_minor": 5
}
