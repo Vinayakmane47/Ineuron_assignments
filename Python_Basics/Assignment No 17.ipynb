{
 "cells": [
  {
   "cell_type": "markdown",
   "id": "d13af29d",
   "metadata": {},
   "source": [
    "## Assignment No : 17"
   ]
  },
  {
   "cell_type": "markdown",
   "id": "3f66cc4d",
   "metadata": {},
   "source": [
    "#### Q1.Assign the value 7 to the variable guess_me. Then, write the conditional tests (if, else, and elif) to print the string &#39;too low&#39; if guess_me is less than 7, &#39;too high&#39; if greater than 7, and &#39;just right&#39; if equal to 7."
   ]
  },
  {
   "cell_type": "code",
   "execution_count": 7,
   "id": "2f90db1c",
   "metadata": {},
   "outputs": [
    {
     "name": "stdout",
     "output_type": "stream",
     "text": [
      "Just Right\n"
     ]
    }
   ],
   "source": [
    "guess_me = 7 \n",
    "if guess_me < 7 : \n",
    "    print(\"Too Low\")\n",
    "elif guess_me > 7 : \n",
    "    print(\"Too high\")\n",
    "else : \n",
    "    print(\"Just Right\")"
   ]
  },
  {
   "cell_type": "markdown",
   "id": "8e23f4f0",
   "metadata": {},
   "source": [
    "#### Q2.Assign the value 7 to the variable guess_me and the value 1 to the variable start. Write a while loop that compares start with guess_me. Print too low if start is less than guess me. If start equals guess_me, print &#39;found it!&#39; and exit the loop. If start is greater than guess_me, print &#39;oops&#39; and exit the loop. Increment start at the end of the loop."
   ]
  },
  {
   "cell_type": "code",
   "execution_count": 10,
   "id": "1efa7dd7",
   "metadata": {},
   "outputs": [
    {
     "name": "stdout",
     "output_type": "stream",
     "text": [
      "Too Low\n",
      "Too Low\n",
      "Too Low\n",
      "Too Low\n",
      "Too Low\n",
      "Too Low\n",
      "Found it\n"
     ]
    }
   ],
   "source": [
    "guess_me = 7 \n",
    "start = 1\n",
    "\n",
    "while True : \n",
    "    if start < guess_me : \n",
    "        print(\"Too Low\")\n",
    "    elif start > guess_me : \n",
    "        print(\"Oops\")\n",
    "        break \n",
    "    else : \n",
    "        print(\"Found it\")\n",
    "        break\n",
    "        \n",
    "    start += 1 \n",
    "    \n",
    "    "
   ]
  },
  {
   "cell_type": "markdown",
   "id": "f55f2e6a",
   "metadata": {},
   "source": [
    "#### Q3.Print the following values of the list [3, 2, 1, 0] using a for loop."
   ]
  },
  {
   "cell_type": "code",
   "execution_count": 11,
   "id": "26936cde",
   "metadata": {},
   "outputs": [
    {
     "name": "stdout",
     "output_type": "stream",
     "text": [
      "3\n",
      "2\n",
      "1\n",
      "0\n"
     ]
    }
   ],
   "source": [
    "l1 = [3, 2, 1, 0]\n",
    "for i in l1 : \n",
    "    print(i)"
   ]
  },
  {
   "cell_type": "markdown",
   "id": "773a068d",
   "metadata": {},
   "source": [
    "#### Q4.Use a list comprehension to make a list of the even numbers in range(10)"
   ]
  },
  {
   "cell_type": "code",
   "execution_count": 14,
   "id": "6fd01424",
   "metadata": {},
   "outputs": [
    {
     "name": "stdout",
     "output_type": "stream",
     "text": [
      "[0, 2, 4, 6, 8]\n"
     ]
    }
   ],
   "source": [
    "l1 = []\n",
    "for i in range(10): \n",
    "    if i%2 == 0 : \n",
    "        l1.append(i)\n",
    "print(l1)"
   ]
  },
  {
   "cell_type": "markdown",
   "id": "e32111a7",
   "metadata": {},
   "source": [
    "#### Q5.Use a dictionary comprehension to create the dictionary squares. Use range(10) to return the keys, and use the square of each key as its value."
   ]
  },
  {
   "cell_type": "code",
   "execution_count": 15,
   "id": "5a67a4d1",
   "metadata": {},
   "outputs": [
    {
     "name": "stdout",
     "output_type": "stream",
     "text": [
      "{0: 0, 1: 1, 2: 4, 3: 9, 4: 16, 5: 25, 6: 36, 7: 49, 8: 64, 9: 81}\n"
     ]
    }
   ],
   "source": [
    "d = dict()\n",
    "\n",
    "for i in range(10): \n",
    "    d[i] = i**2 \n",
    "    \n",
    "print(d)"
   ]
  },
  {
   "cell_type": "markdown",
   "id": "4da5e099",
   "metadata": {},
   "source": [
    "#### Q6.Construct the set odd from the odd numbers in the range using a set comprehension (10)."
   ]
  },
  {
   "cell_type": "code",
   "execution_count": 23,
   "id": "314310ab",
   "metadata": {},
   "outputs": [
    {
     "name": "stdout",
     "output_type": "stream",
     "text": [
      "{1, 3, 5, 7, 9}\n"
     ]
    }
   ],
   "source": [
    "odd = {i for i in range(10) if i%2!= 0}\n",
    "print(odd)"
   ]
  },
  {
   "cell_type": "markdown",
   "id": "50ee3dc8",
   "metadata": {},
   "source": [
    "#### Q7.Use a generator comprehension to return the string &#39;Got &#39; and a number for the numbers in range(10). Iterate through this by using a for loop."
   ]
  },
  {
   "cell_type": "code",
   "execution_count": 41,
   "id": "8596418c",
   "metadata": {},
   "outputs": [],
   "source": [
    "def got(): \n",
    "    x = [\"Got\"+str(i) for i in range(10)]\n",
    "    yield x \n",
    "        "
   ]
  },
  {
   "cell_type": "code",
   "execution_count": 42,
   "id": "70912961",
   "metadata": {},
   "outputs": [
    {
     "name": "stdout",
     "output_type": "stream",
     "text": [
      "['Got0', 'Got1', 'Got2', 'Got3', 'Got4', 'Got5', 'Got6', 'Got7', 'Got8', 'Got9']\n"
     ]
    }
   ],
   "source": [
    "for i in got(): \n",
    "    print(i)"
   ]
  },
  {
   "cell_type": "markdown",
   "id": "029b8d57",
   "metadata": {},
   "source": [
    "#### Q8.Define a function called good that returns the list [&#39;Harry&#39;, &#39;Ron&#39;, &#39;Hermione&#39;]."
   ]
  },
  {
   "cell_type": "code",
   "execution_count": 45,
   "id": "3acce583",
   "metadata": {},
   "outputs": [
    {
     "data": {
      "text/plain": [
       "['Harry', 'Ron', 'Hermione']"
      ]
     },
     "execution_count": 45,
     "metadata": {},
     "output_type": "execute_result"
    }
   ],
   "source": [
    "def good(): \n",
    "    l = ['Harry', 'Ron', 'Hermione']\n",
    "    return l \n",
    "good()"
   ]
  },
  {
   "cell_type": "markdown",
   "id": "9aea36cb",
   "metadata": {},
   "source": [
    "#### Q9.Define a generator function called get_odds that returns the odd numbers from range(10). Use a for loop to find and print the third value returned."
   ]
  },
  {
   "cell_type": "code",
   "execution_count": 49,
   "id": "326d3bd6",
   "metadata": {},
   "outputs": [],
   "source": [
    "def get_odds(): \n",
    "    x = [i for i in range(10) if i%2!=0]\n",
    "    yield x "
   ]
  },
  {
   "cell_type": "code",
   "execution_count": 66,
   "id": "e3750e2f",
   "metadata": {},
   "outputs": [
    {
     "name": "stdout",
     "output_type": "stream",
     "text": [
      "[1, 3, 5, 7, 9]\n",
      "Thir value in list is :  5\n"
     ]
    }
   ],
   "source": [
    "\n",
    "for i in get_odds(): \n",
    "    print(i)\n",
    "    print(\"Thir value in list is : \" ,i[2])\n",
    "    "
   ]
  },
  {
   "cell_type": "markdown",
   "id": "45db4d5e",
   "metadata": {},
   "source": [
    "#### Q10.Define an exception called OopsException. Raise this exception to see what happens. Then write the code to catch this exception and print &#39;Caught an oops&#39;."
   ]
  },
  {
   "cell_type": "code",
   "execution_count": 75,
   "id": "a242dc98",
   "metadata": {},
   "outputs": [],
   "source": [
    "# creating an custom exception class\n",
    "class OopsException(Exception): \n",
    "    ''' This is OopsException class'''\n",
    "    pass"
   ]
  },
  {
   "cell_type": "code",
   "execution_count": 76,
   "id": "2c7e947d",
   "metadata": {},
   "outputs": [
    {
     "ename": "OopsException",
     "evalue": "",
     "output_type": "error",
     "traceback": [
      "\u001b[1;31m---------------------------------------------------------------------------\u001b[0m",
      "\u001b[1;31mOopsException\u001b[0m                             Traceback (most recent call last)",
      "Input \u001b[1;32mIn [76]\u001b[0m, in \u001b[0;36m<cell line: 4>\u001b[1;34m()\u001b[0m\n\u001b[0;32m      3\u001b[0m b\u001b[38;5;241m=\u001b[39m\u001b[38;5;241m20\u001b[39m \n\u001b[0;32m      4\u001b[0m \u001b[38;5;28;01mif\u001b[39;00m b \u001b[38;5;241m>\u001b[39m a : \n\u001b[1;32m----> 5\u001b[0m     \u001b[38;5;28;01mraise\u001b[39;00m OopsException\n",
      "\u001b[1;31mOopsException\u001b[0m: "
     ]
    }
   ],
   "source": [
    "# Raising the exception \n",
    "a = 10 \n",
    "b=20 \n",
    "if b > a : \n",
    "    raise OopsException"
   ]
  },
  {
   "cell_type": "code",
   "execution_count": 77,
   "id": "8b891408",
   "metadata": {},
   "outputs": [
    {
     "name": "stdout",
     "output_type": "stream",
     "text": [
      "Caught in exception\n"
     ]
    }
   ],
   "source": [
    "# Catching the exception \n",
    "try : \n",
    "    a = 10 \n",
    "    b=20 \n",
    "    if b > a : \n",
    "        raise OopsException\n",
    "except OopsException : \n",
    "    print(\"Caught in exception\")"
   ]
  },
  {
   "cell_type": "markdown",
   "id": "c6d54f59",
   "metadata": {},
   "source": [
    "#### Q11.Use zip() to make a dictionary called movies that pairs these lists: titles = [&#39;Creature of Habit&#39;, &#39;Crewel Fate&#39;] and plots = [&#39;A nun turns into a monster&#39;, &#39;A haunted yarn shop&#39;]."
   ]
  },
  {
   "cell_type": "code",
   "execution_count": 80,
   "id": "1e8522df",
   "metadata": {},
   "outputs": [],
   "source": [
    "titles = ['Creature of Habit','Crewel Fate'] \n",
    "plots = ['A nun turns into a monster', 'A haunted yarn shop']\n",
    "movies = zip(titles,plots)"
   ]
  }
 ],
 "metadata": {
  "kernelspec": {
   "display_name": "Python 3 (ipykernel)",
   "language": "python",
   "name": "python3"
  },
  "language_info": {
   "codemirror_mode": {
    "name": "ipython",
    "version": 3
   },
   "file_extension": ".py",
   "mimetype": "text/x-python",
   "name": "python",
   "nbconvert_exporter": "python",
   "pygments_lexer": "ipython3",
   "version": "3.9.12"
  }
 },
 "nbformat": 4,
 "nbformat_minor": 5
}
