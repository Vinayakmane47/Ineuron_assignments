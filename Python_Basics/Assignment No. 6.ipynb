{
 "cells": [
  {
   "cell_type": "markdown",
   "id": "7ae75140",
   "metadata": {},
   "source": [
    "## Assignment No: 6 "
   ]
  },
  {
   "cell_type": "markdown",
   "id": "fb4718ff",
   "metadata": {},
   "source": [
    "#### Q1.What are escape characters, and how do you use them?"
   ]
  },
  {
   "cell_type": "markdown",
   "id": "297d9cdc",
   "metadata": {},
   "source": [
    "\\ is escape character    \n",
    "\n",
    "    \\\t-   Single Quote\t\n",
    "    \\\\\t-   Backslash\t\n",
    "    \\n\t-   New Line\t\n",
    "    \\r\t-   Carriage Return\t\n",
    "    \\t\t-   Tab\t\n",
    "    \\b\t-   Backspace\t\n",
    "    \\f\t-   Form Feed\t\n",
    "    \\ooo -\tOctal value\t\n",
    "    \\xhh -\tHex value\t\n"
   ]
  },
  {
   "cell_type": "markdown",
   "id": "4e5d4e5f",
   "metadata": {},
   "source": [
    "#### Q2.What do the escape characters n and t stand for?"
   ]
  },
  {
   "cell_type": "markdown",
   "id": "05d3705e",
   "metadata": {},
   "source": [
    "    \\n - new line \n",
    "    \\t - Tab"
   ]
  },
  {
   "cell_type": "markdown",
   "id": "5b4d9ed6",
   "metadata": {},
   "source": [
    "#### Q3. What is the way to include backslash characters in a string?"
   ]
  },
  {
   "cell_type": "markdown",
   "id": "186deda2",
   "metadata": {},
   "source": [
    "An escape character is a backslash \\ followed by the character you want to insert."
   ]
  },
  {
   "cell_type": "markdown",
   "id": "e776dd22",
   "metadata": {},
   "source": [
    "#### Q4.The string &quot;Howl&#39;s Moving Castle&quot; is a correct value. Why isn&#39;t the single quote character in the word Howl&#39;s not escaped a problem?"
   ]
  },
  {
   "cell_type": "markdown",
   "id": "e837c664",
   "metadata": {},
   "source": [
    "because we havent used escape character here. we use double comma's for a sentence and single comma in word Howl's"
   ]
  },
  {
   "cell_type": "markdown",
   "id": "202646b7",
   "metadata": {},
   "source": [
    "#### Q5.How do you write a string of newlines if you don&#39;t want to use the n character?"
   ]
  },
  {
   "cell_type": "code",
   "execution_count": 4,
   "id": "9dcf6e58",
   "metadata": {},
   "outputs": [
    {
     "name": "stdout",
     "output_type": "stream",
     "text": [
      "Good Morning \n",
      "Vinayak\n"
     ]
    }
   ],
   "source": [
    "print(\"Good Morning \\nVinayak\")"
   ]
  },
  {
   "cell_type": "markdown",
   "id": "722b610b",
   "metadata": {},
   "source": [
    "#### Q6.What are the values of the given expressions?\n",
    "###### &#39;Hello, world!&#39;[1]   \n",
    "###### &#39;Hello, world!&#39;[0:5]\n",
    "###### &#39;Hello, world!&#39;[:5]\n",
    "###### &#39;Hello, world!&#39;[3:]"
   ]
  },
  {
   "cell_type": "code",
   "execution_count": 6,
   "id": "450f4ddc",
   "metadata": {},
   "outputs": [
    {
     "data": {
      "text/plain": [
       "'e'"
      ]
     },
     "execution_count": 6,
     "metadata": {},
     "output_type": "execute_result"
    }
   ],
   "source": [
    "\"Hello, world!\"[1]"
   ]
  },
  {
   "cell_type": "code",
   "execution_count": 7,
   "id": "12896c59",
   "metadata": {},
   "outputs": [
    {
     "data": {
      "text/plain": [
       "'Hello'"
      ]
     },
     "execution_count": 7,
     "metadata": {},
     "output_type": "execute_result"
    }
   ],
   "source": [
    "\"Hello, world!\"[0:5]"
   ]
  },
  {
   "cell_type": "code",
   "execution_count": 8,
   "id": "ae82fd77",
   "metadata": {},
   "outputs": [
    {
     "data": {
      "text/plain": [
       "'Hello'"
      ]
     },
     "execution_count": 8,
     "metadata": {},
     "output_type": "execute_result"
    }
   ],
   "source": [
    "\"Hello, world!\"[:5]"
   ]
  },
  {
   "cell_type": "code",
   "execution_count": 9,
   "id": "38786943",
   "metadata": {},
   "outputs": [
    {
     "data": {
      "text/plain": [
       "'lo, world!'"
      ]
     },
     "execution_count": 9,
     "metadata": {},
     "output_type": "execute_result"
    }
   ],
   "source": [
    "\"Hello, world!\"[3:]"
   ]
  },
  {
   "cell_type": "markdown",
   "id": "d4d0e416",
   "metadata": {},
   "source": [
    "#### Q7.What are the values of the following expressions?\n",
    "###### &#39;Hello&#39;.upper()\n",
    "##### &#39;Hello&#39;.upper().isupper()\n",
    "##### &#39;Hello&#39;.upper().lower()"
   ]
  },
  {
   "cell_type": "code",
   "execution_count": 10,
   "id": "00b952af",
   "metadata": {},
   "outputs": [
    {
     "data": {
      "text/plain": [
       "'HELLO'"
      ]
     },
     "execution_count": 10,
     "metadata": {},
     "output_type": "execute_result"
    }
   ],
   "source": [
    "\"Hello\".upper()"
   ]
  },
  {
   "cell_type": "code",
   "execution_count": 11,
   "id": "bf439a8b",
   "metadata": {},
   "outputs": [
    {
     "data": {
      "text/plain": [
       "True"
      ]
     },
     "execution_count": 11,
     "metadata": {},
     "output_type": "execute_result"
    }
   ],
   "source": [
    "\"Hello\".upper().isupper()"
   ]
  },
  {
   "cell_type": "code",
   "execution_count": 12,
   "id": "5ceb4b4a",
   "metadata": {},
   "outputs": [
    {
     "data": {
      "text/plain": [
       "'hello'"
      ]
     },
     "execution_count": 12,
     "metadata": {},
     "output_type": "execute_result"
    }
   ],
   "source": [
    "\"Hello\".upper().lower()"
   ]
  },
  {
   "cell_type": "markdown",
   "id": "8d62bbee",
   "metadata": {},
   "source": [
    "#### Q8.What are the values of the following expressions?\n",
    "#### &#39;Remember, remember, the fifth of July.&#39;.split()\n",
    "#### &#39;-&#39;.join(&#39;There can only one.&#39;.split())"
   ]
  },
  {
   "cell_type": "code",
   "execution_count": 13,
   "id": "921e3a75",
   "metadata": {},
   "outputs": [
    {
     "name": "stdout",
     "output_type": "stream",
     "text": [
      "['Remember,', 'remember,', 'the', 'fifth', 'of', 'July.']\n"
     ]
    }
   ],
   "source": [
    "print(\"Remember, remember, the fifth of July.\".split())"
   ]
  },
  {
   "cell_type": "code",
   "execution_count": 14,
   "id": "f293613e",
   "metadata": {},
   "outputs": [
    {
     "name": "stdout",
     "output_type": "stream",
     "text": [
      "There-can-only-one.\n"
     ]
    }
   ],
   "source": [
    "print('-'.join('There can only one.'.split()))"
   ]
  },
  {
   "cell_type": "markdown",
   "id": "501d7080",
   "metadata": {},
   "source": [
    "#### Q9.What are the methods for right-justifying, left-justifying, and centering a string?"
   ]
  },
  {
   "cell_type": "markdown",
   "id": "49cc1db3",
   "metadata": {},
   "source": [
    "    str.ljust(s, width[, fillchar])\n",
    "    str.rjust(s, width[, fillchar])\n",
    "    str.center(s, width[, fillchar])"
   ]
  },
  {
   "cell_type": "markdown",
   "id": "11068603",
   "metadata": {},
   "source": [
    "#### Q10. What is the best way to remove whitespace characters from the start or end?"
   ]
  },
  {
   "cell_type": "markdown",
   "id": "d9e6adb9",
   "metadata": {},
   "source": [
    "The Python String strip() method is part of the built-in function available in python. The function will remove given characters from the start and end of the original string.\n",
    "This function is very helpful in removing the whitespaces at the start and end of the given string."
   ]
  },
  {
   "cell_type": "code",
   "execution_count": 22,
   "id": "6ee0fada",
   "metadata": {},
   "outputs": [
    {
     "name": "stdout",
     "output_type": "stream",
     "text": [
      "      Hey Vinayak , very good morning ------> original string\n",
      "Hey Vinayak , very good morning --------> string after left strip\n",
      "      Hey Vinayak , very good morning --------> string after right strip\n",
      "Hey Vinayak , very good morning --------> string after simply strip\n"
     ]
    }
   ],
   "source": [
    "str1 = \"      Hey Vinayak , very good morning\"\n",
    "print(str1, \"------> original string\")\n",
    "print(str1.lstrip(),\"--------> string after left strip\") # remove left side spaces \n",
    "print(str1.rstrip(),\"--------> string after right strip\")\n",
    "print(str1.strip(),\"--------> string after simply strip\")"
   ]
  },
  {
   "cell_type": "code",
   "execution_count": null,
   "id": "f7f7ab3b",
   "metadata": {},
   "outputs": [],
   "source": []
  }
 ],
 "metadata": {
  "kernelspec": {
   "display_name": "Python 3 (ipykernel)",
   "language": "python",
   "name": "python3"
  },
  "language_info": {
   "codemirror_mode": {
    "name": "ipython",
    "version": 3
   },
   "file_extension": ".py",
   "mimetype": "text/x-python",
   "name": "python",
   "nbconvert_exporter": "python",
   "pygments_lexer": "ipython3",
   "version": "3.9.12"
  }
 },
 "nbformat": 4,
 "nbformat_minor": 5
}
