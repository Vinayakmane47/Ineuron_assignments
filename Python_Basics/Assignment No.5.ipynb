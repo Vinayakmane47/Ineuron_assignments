{
 "cells": [
  {
   "cell_type": "markdown",
   "id": "0b501fb0",
   "metadata": {},
   "source": [
    "## Assignment No. 5 "
   ]
  },
  {
   "cell_type": "markdown",
   "id": "08f90a61",
   "metadata": {},
   "source": [
    "#### Q1. What does an empty dictionary&#39;s code look like?"
   ]
  },
  {
   "cell_type": "code",
   "execution_count": 1,
   "id": "30e1b013",
   "metadata": {},
   "outputs": [
    {
     "name": "stdout",
     "output_type": "stream",
     "text": [
      "{}\n"
     ]
    }
   ],
   "source": [
    "d = dict()\n",
    "print(d)"
   ]
  },
  {
   "cell_type": "markdown",
   "id": "4ee3f74e",
   "metadata": {},
   "source": [
    "#### Q2.What is the value of a dictionary value with the key &#39;foo&#39; and the value 42?"
   ]
  },
  {
   "cell_type": "code",
   "execution_count": 4,
   "id": "a870bab5",
   "metadata": {},
   "outputs": [
    {
     "name": "stdout",
     "output_type": "stream",
     "text": [
      "42\n"
     ]
    }
   ],
   "source": [
    "d = {\"foo\":42}\n",
    "print(d[\"foo\"])\n",
    "# ANS : -42 "
   ]
  },
  {
   "cell_type": "markdown",
   "id": "e9e57bdd",
   "metadata": {},
   "source": [
    "#### Q3.What is the most significant distinction between a dictionary and a list?"
   ]
  },
  {
   "cell_type": "markdown",
   "id": "2583dfd6",
   "metadata": {},
   "source": [
    "dictionary contains sequencial data in form of key-pairs . list contain sequential data in any form"
   ]
  },
  {
   "cell_type": "markdown",
   "id": "c96f5d0e",
   "metadata": {},
   "source": [
    "#### Q4.What happens if you try to access spam[&#39;foo&#39;] if spam is {&#39;bar&#39;: 100}?"
   ]
  },
  {
   "cell_type": "code",
   "execution_count": 5,
   "id": "3528365f",
   "metadata": {},
   "outputs": [
    {
     "ename": "KeyError",
     "evalue": "'foo'",
     "output_type": "error",
     "traceback": [
      "\u001b[1;31m---------------------------------------------------------------------------\u001b[0m",
      "\u001b[1;31mKeyError\u001b[0m                                  Traceback (most recent call last)",
      "Input \u001b[1;32mIn [5]\u001b[0m, in \u001b[0;36m<cell line: 2>\u001b[1;34m()\u001b[0m\n\u001b[0;32m      1\u001b[0m spam \u001b[38;5;241m=\u001b[39m {\u001b[38;5;124m\"\u001b[39m\u001b[38;5;124mbar\u001b[39m\u001b[38;5;124m\"\u001b[39m:\u001b[38;5;241m100\u001b[39m}\n\u001b[1;32m----> 2\u001b[0m \u001b[43mspam\u001b[49m\u001b[43m[\u001b[49m\u001b[38;5;124;43m\"\u001b[39;49m\u001b[38;5;124;43mfoo\u001b[39;49m\u001b[38;5;124;43m\"\u001b[39;49m\u001b[43m]\u001b[49m\n",
      "\u001b[1;31mKeyError\u001b[0m: 'foo'"
     ]
    }
   ],
   "source": [
    "spam = {\"bar\":100}\n",
    "spam[\"foo\"]\n",
    "# We get an KeyError"
   ]
  },
  {
   "cell_type": "markdown",
   "id": "9bcfe828",
   "metadata": {},
   "source": [
    "#### Q5.If a dictionary is stored in spam, what is the difference between the expressions &#39;cat&#39; in spam and &#39;cat&#39; in spam.keys()?"
   ]
  },
  {
   "cell_type": "markdown",
   "id": "2a1ab4d4",
   "metadata": {},
   "source": [
    "'cat' in spam return a True value if 'cat' exist as a key in dictionary. 'cat' in spam.keys() returns a True value if 'cat' exist as a key in dictionary"
   ]
  },
  {
   "cell_type": "markdown",
   "id": "8f28034a",
   "metadata": {},
   "source": [
    "#### Q6.If a dictionary is stored in spam, what is the difference between the expressions &#39;cat&#39; in spam and #39;cat&#39; in spam.values()?"
   ]
  },
  {
   "cell_type": "markdown",
   "id": "4df37608",
   "metadata": {},
   "source": [
    "'cat' in spam return a True value if 'cat' exist as a key in dictionary. 'cat' in spam.values() return a True value if 'cat'  exist as a value in dictionary"
   ]
  },
  {
   "cell_type": "markdown",
   "id": "06ced677",
   "metadata": {},
   "source": [
    "#### Q7.What is a shortcut for the following code?\n",
    "#### if &#39;color&#39; not in spam:\n",
    "#### spam[&#39;color&#39;] = &#39;black&#39;"
   ]
  },
  {
   "cell_type": "code",
   "execution_count": 11,
   "id": "9cfb0390",
   "metadata": {},
   "outputs": [],
   "source": [
    "spam.get(\"color\")"
   ]
  },
  {
   "cell_type": "markdown",
   "id": "7c7bf875",
   "metadata": {},
   "source": [
    "#### Q8.How do you &quot;pretty print&quot; dictionary values using which module and function?"
   ]
  },
  {
   "cell_type": "markdown",
   "id": "cad86387",
   "metadata": {},
   "source": [
    "    Using pprint() to Pretty Print a Dictionary in Python\n",
    "    Using json.dumps() to Pretty Print a Dictionary in Python\n",
    "    Using yaml.dump() to Pretty Print a Dictionary in Python"
   ]
  },
  {
   "cell_type": "code",
   "execution_count": 12,
   "id": "402d27b7",
   "metadata": {},
   "outputs": [
    {
     "name": "stdout",
     "output_type": "stream",
     "text": [
      "[{'Age': '23', 'Country': 'USA', 'Name': 'John'},\n",
      " {'Age': '44', 'Country': 'Spain', 'Name': 'Jose'},\n",
      " {'Age': '29', 'Country': 'UK', 'Name': 'Anne'},\n",
      " {'Age': '35', 'Country': 'Japan', 'Name': 'Lee'}]\n"
     ]
    }
   ],
   "source": [
    "import pprint\n",
    "\n",
    "dct_arr = [\n",
    "  {'Name': 'John', 'Age': '23', 'Country': 'USA'},\n",
    "  {'Name': 'Jose', 'Age': '44', 'Country': 'Spain'},\n",
    "  {'Name': 'Anne', 'Age': '29', 'Country': 'UK'},\n",
    "  {'Name': 'Lee', 'Age': '35', 'Country': 'Japan'}\n",
    "]\n",
    "\n",
    "pprint.pprint(dct_arr)"
   ]
  },
  {
   "cell_type": "code",
   "execution_count": 13,
   "id": "d5c6259a",
   "metadata": {},
   "outputs": [
    {
     "name": "stdout",
     "output_type": "stream",
     "text": [
      "[\n",
      "    {\n",
      "        \"Name\": \"John\",\n",
      "        \"Age\": \"23\",\n",
      "        \"Country\": \"USA\"\n",
      "    },\n",
      "    {\n",
      "        \"Name\": \"Jose\",\n",
      "        \"Age\": \"44\",\n",
      "        \"Country\": \"Spain\"\n",
      "    },\n",
      "    {\n",
      "        \"Name\": \"Anne\",\n",
      "        \"Age\": \"29\",\n",
      "        \"Country\": \"UK\"\n",
      "    },\n",
      "    {\n",
      "        \"Name\": \"Lee\",\n",
      "        \"Age\": \"35\",\n",
      "        \"Country\": \"Japan\"\n",
      "    }\n",
      "]\n"
     ]
    }
   ],
   "source": [
    "import json\n",
    "\n",
    "dct_arr = [\n",
    "  {'Name': 'John', 'Age': '23', 'Country': 'USA'},\n",
    "  {'Name': 'Jose', 'Age': '44', 'Country': 'Spain'},\n",
    "  {'Name': 'Anne', 'Age': '29', 'Country': 'UK'},\n",
    "  {'Name': 'Lee', 'Age': '35', 'Country': 'Japan'}\n",
    "]\n",
    "\n",
    "print(json.dumps(dct_arr, sort_keys=False, indent=4))"
   ]
  },
  {
   "cell_type": "code",
   "execution_count": 14,
   "id": "064bf981",
   "metadata": {},
   "outputs": [
    {
     "name": "stdout",
     "output_type": "stream",
     "text": [
      "- Name: John\n",
      "  Age: '23'\n",
      "  Residence:\n",
      "    Country: USA\n",
      "    City: New York\n",
      "- Name: Jose\n",
      "  Age: '44'\n",
      "  Residence:\n",
      "    Country: Spain\n",
      "    City: Madrid\n",
      "- Name: Anne\n",
      "  Age: '29'\n",
      "  Residence:\n",
      "    Country: UK\n",
      "    City: England\n",
      "- Name: Lee\n",
      "  Age: '35'\n",
      "  Residence:\n",
      "    Country: Japan\n",
      "    City: Osaka\n",
      "\n"
     ]
    }
   ],
   "source": [
    "import yaml\n",
    "\n",
    "dct_arr = [\n",
    "  {'Name': 'John', 'Age': '23', 'Residence': {'Country':'USA', 'City': 'New York'}},\n",
    "  {'Name': 'Jose', 'Age': '44', 'Residence': {'Country':'Spain', 'City': 'Madrid'}},\n",
    "  {'Name': 'Anne', 'Age': '29', 'Residence': {'Country':'UK', 'City': 'England'}},\n",
    "  {'Name': 'Lee', 'Age': '35', 'Residence': {'Country':'Japan', 'City': 'Osaka'}}\n",
    "]\n",
    "\n",
    "print(yaml.dump(dct_arr, sort_keys=False, default_flow_style=False))"
   ]
  },
  {
   "cell_type": "code",
   "execution_count": null,
   "id": "927dcba9",
   "metadata": {},
   "outputs": [],
   "source": []
  }
 ],
 "metadata": {
  "kernelspec": {
   "display_name": "Python 3 (ipykernel)",
   "language": "python",
   "name": "python3"
  },
  "language_info": {
   "codemirror_mode": {
    "name": "ipython",
    "version": 3
   },
   "file_extension": ".py",
   "mimetype": "text/x-python",
   "name": "python",
   "nbconvert_exporter": "python",
   "pygments_lexer": "ipython3",
   "version": "3.9.12"
  }
 },
 "nbformat": 4,
 "nbformat_minor": 5
}
