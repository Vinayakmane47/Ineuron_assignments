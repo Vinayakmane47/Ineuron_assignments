{
 "cells": [
  {
   "cell_type": "markdown",
   "id": "ea93be84",
   "metadata": {},
   "source": [
    "## Assignment No : 11 "
   ]
  },
  {
   "cell_type": "markdown",
   "id": "01900784",
   "metadata": {},
   "source": [
    "#### Q1.Create an assert statement that throws an AssertionError if the variable spam is a negative integer."
   ]
  },
  {
   "cell_type": "code",
   "execution_count": 4,
   "id": "da8bad02",
   "metadata": {},
   "outputs": [
    {
     "ename": "AssertionError",
     "evalue": "Variable cant have negative value",
     "output_type": "error",
     "traceback": [
      "\u001b[1;31m---------------------------------------------------------------------------\u001b[0m",
      "\u001b[1;31mAssertionError\u001b[0m                            Traceback (most recent call last)",
      "Input \u001b[1;32mIn [4]\u001b[0m, in \u001b[0;36m<cell line: 2>\u001b[1;34m()\u001b[0m\n\u001b[0;32m      1\u001b[0m spam \u001b[38;5;241m=\u001b[39m \u001b[38;5;241m-\u001b[39m\u001b[38;5;241m1\u001b[39m \n\u001b[1;32m----> 2\u001b[0m \u001b[38;5;28;01massert\u001b[39;00m spam \u001b[38;5;241m>\u001b[39m\u001b[38;5;241m=\u001b[39m \u001b[38;5;241m0\u001b[39m ,\u001b[38;5;124m\"\u001b[39m\u001b[38;5;124mVariable cant have negative value\u001b[39m\u001b[38;5;124m\"\u001b[39m\n",
      "\u001b[1;31mAssertionError\u001b[0m: Variable cant have negative value"
     ]
    }
   ],
   "source": [
    "spam = -1 \n",
    "assert spam >= 0 ,\"Variable cant have negative value\""
   ]
  },
  {
   "cell_type": "markdown",
   "id": "cb590fba",
   "metadata": {},
   "source": [
    "#### Q2.Write an assert statement that triggers an AssertionError if the variables eggs and bacon contain strings that are the same as each other, even if their cases are different (that is, &#39;hello&#39; and &#39;hello&#39; are considered the same, and &#39;goodbye&#39; and &#39;GOODbye&#39; are also considered the same)."
   ]
  },
  {
   "cell_type": "code",
   "execution_count": 11,
   "id": "67d55e3d",
   "metadata": {},
   "outputs": [
    {
     "ename": "AssertionError",
     "evalue": "String are same as each other",
     "output_type": "error",
     "traceback": [
      "\u001b[1;31m---------------------------------------------------------------------------\u001b[0m",
      "\u001b[1;31mAssertionError\u001b[0m                            Traceback (most recent call last)",
      "Input \u001b[1;32mIn [11]\u001b[0m, in \u001b[0;36m<cell line: 4>\u001b[1;34m()\u001b[0m\n\u001b[0;32m      1\u001b[0m eggs \u001b[38;5;241m=\u001b[39m \u001b[38;5;124m'\u001b[39m\u001b[38;5;124mgoodbye\u001b[39m\u001b[38;5;124m'\u001b[39m\n\u001b[0;32m      2\u001b[0m bacon \u001b[38;5;241m=\u001b[39m \u001b[38;5;124m'\u001b[39m\u001b[38;5;124mGOODbye\u001b[39m\u001b[38;5;124m'\u001b[39m\n\u001b[1;32m----> 4\u001b[0m \u001b[38;5;28;01massert\u001b[39;00m eggs\u001b[38;5;241m.\u001b[39mlower() \u001b[38;5;241m!=\u001b[39m bacon\u001b[38;5;241m.\u001b[39mlower() ,\u001b[38;5;124m\"\u001b[39m\u001b[38;5;124mString are same as each other\u001b[39m\u001b[38;5;124m\"\u001b[39m\n",
      "\u001b[1;31mAssertionError\u001b[0m: String are same as each other"
     ]
    }
   ],
   "source": [
    "eggs = 'goodbye'\n",
    "bacon = 'GOODbye'\n",
    "\n",
    "assert eggs.lower() != bacon.lower() ,\"String are same as each other\""
   ]
  },
  {
   "cell_type": "markdown",
   "id": "8cc72dec",
   "metadata": {},
   "source": [
    "#### Q3. Create an assert statement that throws an AssertionError every time."
   ]
  },
  {
   "cell_type": "code",
   "execution_count": 16,
   "id": "e7d62ecb",
   "metadata": {},
   "outputs": [
    {
     "name": "stdout",
     "output_type": "stream",
     "text": [
      "5.0\n"
     ]
    },
    {
     "ename": "AssertionError",
     "evalue": "No reason to assert",
     "output_type": "error",
     "traceback": [
      "\u001b[1;31m---------------------------------------------------------------------------\u001b[0m",
      "\u001b[1;31mAssertionError\u001b[0m                            Traceback (most recent call last)",
      "Input \u001b[1;32mIn [16]\u001b[0m, in \u001b[0;36m<cell line: 4>\u001b[1;34m()\u001b[0m\n\u001b[0;32m      2\u001b[0m b \u001b[38;5;241m=\u001b[39m \u001b[38;5;241m2\u001b[39m\n\u001b[0;32m      3\u001b[0m \u001b[38;5;28mprint\u001b[39m(\u001b[38;5;241m10\u001b[39m\u001b[38;5;241m/\u001b[39m\u001b[38;5;241m2\u001b[39m)\n\u001b[1;32m----> 4\u001b[0m \u001b[38;5;28;01massert\u001b[39;00m \u001b[38;5;28;01mFalse\u001b[39;00m ,\u001b[38;5;124m\"\u001b[39m\u001b[38;5;124mNo reason to assert\u001b[39m\u001b[38;5;124m\"\u001b[39m\n",
      "\u001b[1;31mAssertionError\u001b[0m: No reason to assert"
     ]
    }
   ],
   "source": [
    "a= 10 \n",
    "b = 2\n",
    "print(10/2)\n",
    "assert False ,\"No reason to assert\""
   ]
  },
  {
   "cell_type": "markdown",
   "id": "3a2d2541",
   "metadata": {},
   "source": [
    "#### Q4. What are the two lines that must be present in your software in order to call logging.debug()?"
   ]
  },
  {
   "cell_type": "code",
   "execution_count": null,
   "id": "46377000",
   "metadata": {},
   "outputs": [],
   "source": [
    "import logging \n",
    "logging.basicConfig(filename=\"test.log\",level=logging.DEBUG,format= '%(asctime)s %(levelname)s %(message)s' )\n"
   ]
  },
  {
   "cell_type": "markdown",
   "id": "7eec282a",
   "metadata": {},
   "source": [
    "#### Q5.What are the two lines that your program must have in order to have logging.debug() send a logging message to a file named programLog.txt?"
   ]
  },
  {
   "cell_type": "code",
   "execution_count": 21,
   "id": "e6b378eb",
   "metadata": {},
   "outputs": [],
   "source": [
    "import logging \n",
    "logging.basicConfig(filename=\"programLog.log\",level=logging.INFO,format= '%(asctime)s %(levelname)s %(message)s' )\n",
    "logging.info(\"This message shows that programme is executed succesfully\")"
   ]
  },
  {
   "cell_type": "markdown",
   "id": "4d34b4a1",
   "metadata": {},
   "source": [
    "#### Q6. What are the five levels of logging?"
   ]
  },
  {
   "cell_type": "markdown",
   "id": "941ce842",
   "metadata": {},
   "source": [
    "    DEBUG \n",
    "    INFO \n",
    "    WARNING \n",
    "    ERROR \n",
    "    CRITICAL "
   ]
  },
  {
   "cell_type": "markdown",
   "id": "6541c0fb",
   "metadata": {},
   "source": [
    "#### Q7. What line of code would you add to your software to disable all logging messages?"
   ]
  },
  {
   "cell_type": "code",
   "execution_count": 18,
   "id": "1cc92e4d",
   "metadata": {},
   "outputs": [],
   "source": [
    "logger = logging.getLogger()\n",
    "logger.disabled = True"
   ]
  },
  {
   "cell_type": "markdown",
   "id": "a6fa3f51",
   "metadata": {},
   "source": [
    "#### Q8.Why is using logging messages better than using print() to display the same message?"
   ]
  },
  {
   "cell_type": "markdown",
   "id": "7e53d688",
   "metadata": {},
   "source": [
    "    The logging package has a lot of useful features:\n",
    "\n",
    "    Easy to see where and when (even what line no.) a logging call is being made from.\n",
    "    we can log to files, sockets, pretty much anything, all at the same time.\n",
    "    we can differentiate your logging based on severity.\n",
    "    Print doesn't have any of these.\n",
    "    \n",
    " Also, if our project is meant to be imported by other python tools, it's bad practice for your package to print things to stdout, since the user likely won't know where the print messages are coming from. With logging, users of your package can choose whether or not they want to propogate logging messages from your tool or not."
   ]
  },
  {
   "cell_type": "markdown",
   "id": "57a1924b",
   "metadata": {},
   "source": [
    "#### Q9. What are the differences between the Step Over, Step In, and Step Out buttons in the debugger?"
   ]
  },
  {
   "cell_type": "markdown",
   "id": "efbdbd22",
   "metadata": {},
   "source": [
    "`Step over` – An action to take in the debugger that will step over a given line. If the line contains a function the function will be executed and the result returned without debugging each line."
   ]
  },
  {
   "cell_type": "markdown",
   "id": "af3576c8",
   "metadata": {},
   "source": [
    "`Step into` – An action to take in the debugger. If the line does not contain a function it behaves the same as “step over” but if it does the debugger will enter the called function and continue line-by-line debugging there."
   ]
  },
  {
   "cell_type": "markdown",
   "id": "43b69123",
   "metadata": {},
   "source": [
    "`Step out` – An action to take in the debugger that returns to the line where the current function was called"
   ]
  },
  {
   "cell_type": "markdown",
   "id": "a8938670",
   "metadata": {},
   "source": [
    "#### Q10. After you click Continue, when will the debugger stop ?"
   ]
  },
  {
   "cell_type": "markdown",
   "id": "9066d9cf",
   "metadata": {},
   "source": [
    "when a breakpoint is encountered."
   ]
  },
  {
   "cell_type": "markdown",
   "id": "9fcc9d4a",
   "metadata": {},
   "source": [
    "#### Q11. What is the concept of a breakpoint?"
   ]
  },
  {
   "cell_type": "markdown",
   "id": "cd421df9",
   "metadata": {},
   "source": [
    "breakpoint is an intentional stopping or pausing place in a program, put in place for debugging purposes. It is also sometimes simply referred to as a pause"
   ]
  }
 ],
 "metadata": {
  "kernelspec": {
   "display_name": "Python 3 (ipykernel)",
   "language": "python",
   "name": "python3"
  },
  "language_info": {
   "codemirror_mode": {
    "name": "ipython",
    "version": 3
   },
   "file_extension": ".py",
   "mimetype": "text/x-python",
   "name": "python",
   "nbconvert_exporter": "python",
   "pygments_lexer": "ipython3",
   "version": "3.9.12"
  }
 },
 "nbformat": 4,
 "nbformat_minor": 5
}
