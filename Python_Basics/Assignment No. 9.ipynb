{
 "cells": [
  {
   "cell_type": "markdown",
   "id": "4eaefd21",
   "metadata": {},
   "source": [
    "## Assignment No. 9 : "
   ]
  },
  {
   "cell_type": "markdown",
   "id": "eb5a8922",
   "metadata": {},
   "source": [
    "#### Q1.To what does a relative path refer?"
   ]
  },
  {
   "cell_type": "markdown",
   "id": "84bb9a2f",
   "metadata": {},
   "source": [
    "A relative file path is interpreted from the perspective your current working directory. If you use a relative file path from the wrong directory, then the path will refer to a different file than you intend, or it will refer to no file at all"
   ]
  },
  {
   "cell_type": "markdown",
   "id": "72e88ef5",
   "metadata": {},
   "source": [
    "#### Q2.What does an absolute path start with your operating system?"
   ]
  },
  {
   "cell_type": "markdown",
   "id": "de8235b0",
   "metadata": {},
   "source": [
    "An absolute path refers to the complete details needed to locate a file or folder, starting from the root element and ending with the other subdirectories. Absolute paths are used in websites and operating systems for locating files and folders. An absolute path is also known as an absolute pathname or full path"
   ]
  },
  {
   "cell_type": "markdown",
   "id": "87627770",
   "metadata": {},
   "source": [
    "#### Q3.What do the functions os.getcwd() and os.chdir() do?"
   ]
  },
  {
   "cell_type": "markdown",
   "id": "f0cacba3",
   "metadata": {},
   "source": [
    "    os.getcwd() is used to get our current working directory.\n",
    "    os.chdir() is used to change the directory"
   ]
  },
  {
   "cell_type": "markdown",
   "id": "f0f24b33",
   "metadata": {},
   "source": [
    "#### Q4.What are the . and .. folders?"
   ]
  },
  {
   "cell_type": "markdown",
   "id": "31984785",
   "metadata": {},
   "source": [
    "    . this signifies the current directory \n",
    "    .. this signifies the parent working directory"
   ]
  },
  {
   "cell_type": "markdown",
   "id": "38222169",
   "metadata": {},
   "source": [
    "#### Q5. In C:\\bacon\\eggs\\spam.txt, which part is the dir name, and which part is the base name?"
   ]
  },
  {
   "cell_type": "markdown",
   "id": "8f7feb64",
   "metadata": {},
   "source": [
    "    dir name - C:\\bacon\\eggs\n",
    "    base name - spam.txt\n",
    "    "
   ]
  },
  {
   "cell_type": "markdown",
   "id": "36bd6410",
   "metadata": {},
   "source": [
    "#### Q6.What are the three “mode” arguments that can be passed to the open() function?"
   ]
  },
  {
   "cell_type": "markdown",
   "id": "7959ccc8",
   "metadata": {},
   "source": [
    "    r - read mode \n",
    "    w - write mode \n",
    "    r+ - read plus write mode \n",
    "    a - append mode \n",
    "    w+ - write plus read mode "
   ]
  },
  {
   "cell_type": "markdown",
   "id": "7dc3317a",
   "metadata": {},
   "source": [
    "#### Q7. What happens if an existing file is opened in write mode?"
   ]
  },
  {
   "cell_type": "markdown",
   "id": "f79cdad1",
   "metadata": {},
   "source": [
    "if a already existing file is open in write mode then its previous data get wiped out and new empty file is created "
   ]
  },
  {
   "cell_type": "markdown",
   "id": "41d66a4d",
   "metadata": {},
   "source": [
    "#### Q8. How do you tell the difference between read() and readlines()?"
   ]
  },
  {
   "cell_type": "markdown",
   "id": "f2ba114e",
   "metadata": {},
   "source": [
    "`read()` command read entire data at once and print it \n",
    "`readlines()` command read the data  line by line . It  will read and print out only the first characters that take up as   many bytes as you specify in the parenthesis"
   ]
  },
  {
   "cell_type": "markdown",
   "id": "46d43a8c",
   "metadata": {},
   "source": [
    "#### Q9.What data structure does a shelf value resemble?"
   ]
  },
  {
   "cell_type": "markdown",
   "id": "2f80a3cd",
   "metadata": {},
   "source": [
    "A shelf value resembles a dictionary value; it has keys and values, along with keys() and values() methods that work similarly to the dictionary methods of the same names."
   ]
  },
  {
   "cell_type": "code",
   "execution_count": null,
   "id": "29c48495",
   "metadata": {},
   "outputs": [],
   "source": []
  },
  {
   "cell_type": "code",
   "execution_count": null,
   "id": "7a8cb6c0",
   "metadata": {},
   "outputs": [],
   "source": []
  },
  {
   "cell_type": "code",
   "execution_count": null,
   "id": "d9d95ccd",
   "metadata": {},
   "outputs": [],
   "source": []
  },
  {
   "cell_type": "code",
   "execution_count": null,
   "id": "8b7e056e",
   "metadata": {},
   "outputs": [],
   "source": []
  },
  {
   "cell_type": "code",
   "execution_count": null,
   "id": "a5315e17",
   "metadata": {},
   "outputs": [],
   "source": []
  }
 ],
 "metadata": {
  "kernelspec": {
   "display_name": "Python 3 (ipykernel)",
   "language": "python",
   "name": "python3"
  },
  "language_info": {
   "codemirror_mode": {
    "name": "ipython",
    "version": 3
   },
   "file_extension": ".py",
   "mimetype": "text/x-python",
   "name": "python",
   "nbconvert_exporter": "python",
   "pygments_lexer": "ipython3",
   "version": "3.9.12"
  }
 },
 "nbformat": 4,
 "nbformat_minor": 5
}
