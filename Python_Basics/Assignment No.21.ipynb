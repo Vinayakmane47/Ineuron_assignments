{
 "cells": [
  {
   "cell_type": "markdown",
   "id": "e1a4bf7e",
   "metadata": {},
   "source": [
    "## Assignment No 21 "
   ]
  },
  {
   "cell_type": "markdown",
   "id": "79165f62",
   "metadata": {},
   "source": [
    "#### Q1.Add the current date to the text file today.txt as a string.\n"
   ]
  },
  {
   "cell_type": "code",
   "execution_count": 4,
   "id": "b7d15065",
   "metadata": {},
   "outputs": [
    {
     "name": "stdout",
     "output_type": "stream",
     "text": [
      "Today's date: 2022-07-26\n"
     ]
    }
   ],
   "source": [
    "from datetime import date\n",
    "\n",
    "today = date.today()\n",
    "print(\"Today's date:\", today)\n",
    "time = open(\"today.txt\",'w')\n",
    "time.write(str(today))\n",
    "time.close()"
   ]
  },
  {
   "cell_type": "markdown",
   "id": "2517fba9",
   "metadata": {},
   "source": [
    "#### Q2.Read the text file today.txt into the string today_string"
   ]
  },
  {
   "cell_type": "code",
   "execution_count": 7,
   "id": "04d81db9",
   "metadata": {},
   "outputs": [
    {
     "name": "stdout",
     "output_type": "stream",
     "text": [
      "2022-07-26\n"
     ]
    }
   ],
   "source": [
    "time = open(\"today.txt\",'r')\n",
    "today_string = time.read()\n",
    "print(today_string)"
   ]
  },
  {
   "cell_type": "markdown",
   "id": "4ec1e5cd",
   "metadata": {},
   "source": [
    "#### Q3.Parse the date from today_string."
   ]
  },
  {
   "cell_type": "code",
   "execution_count": 8,
   "id": "35626222",
   "metadata": {},
   "outputs": [
    {
     "name": "stdout",
     "output_type": "stream",
     "text": [
      "2022-07-26\n"
     ]
    }
   ],
   "source": [
    "print(today_string)"
   ]
  },
  {
   "cell_type": "markdown",
   "id": "67d0ca64",
   "metadata": {},
   "source": [
    "#### Q4.List the files in your current directory"
   ]
  },
  {
   "cell_type": "code",
   "execution_count": 9,
   "id": "eeb9f3d9",
   "metadata": {},
   "outputs": [
    {
     "data": {
      "text/plain": [
       "['.ipynb_checkpoints',\n",
       " 'Assignment No 10.ipynb',\n",
       " 'Assignment No 17.ipynb',\n",
       " 'Assignment No 18',\n",
       " 'Assignment No 19',\n",
       " 'Assignment No 19.ipynb',\n",
       " 'Assignment No 20.ipynb',\n",
       " 'Assignment No. 11 .ipynb',\n",
       " 'Assignment No. 12 .ipynb',\n",
       " 'Assignment No. 14 .ipynb',\n",
       " 'Assignment No. 16.ipynb',\n",
       " 'Assignment No. 2 .ipynb',\n",
       " 'Assignment No. 6.ipynb',\n",
       " 'Assignment No. 8 .ipynb',\n",
       " 'Assignment No. 9.ipynb',\n",
       " 'Assignment No.13.ipynb',\n",
       " 'Assignment No.21.ipynb',\n",
       " 'Assignment No.3.ipynb',\n",
       " 'Assignment No.4.ipynb',\n",
       " 'Assignment No.5.ipynb',\n",
       " 'Assignment No.7.ipynb',\n",
       " 'Assignment_No.1.ipynb',\n",
       " 'books.csv',\n",
       " 'books.db',\n",
       " 'MONGODB2',\n",
       " 'output.csv',\n",
       " 'p1.pdf',\n",
       " 'programLog.log',\n",
       " 'test.csv',\n",
       " 'test.txt',\n",
       " 'time.txt',\n",
       " 'today.txt',\n",
       " 'Untitled.ipynb']"
      ]
     },
     "execution_count": 9,
     "metadata": {},
     "output_type": "execute_result"
    }
   ],
   "source": [
    "import os \n",
    "os.listdir()"
   ]
  },
  {
   "cell_type": "markdown",
   "id": "08efa3ee",
   "metadata": {},
   "source": [
    "#### Q5.Create a list of all of the files in your parent directory (minimum five files should be available)."
   ]
  },
  {
   "cell_type": "code",
   "execution_count": 13,
   "id": "8e32ffce",
   "metadata": {},
   "outputs": [
    {
     "name": "stdout",
     "output_type": "stream",
     "text": [
      "Current working directory : \n",
      "C:\\Users\\manev\\Desktop\\Ineuron assignments\\Python\n"
     ]
    }
   ],
   "source": [
    "import os \n",
    "print(\"Current working directory : \")\n",
    "print(os.getcwd())"
   ]
  },
  {
   "cell_type": "code",
   "execution_count": 19,
   "id": "afaa66ba",
   "metadata": {},
   "outputs": [],
   "source": [
    "# changing to parent directory\n",
    "os.chdir('../')"
   ]
  },
  {
   "cell_type": "code",
   "execution_count": 20,
   "id": "9e5c08f8",
   "metadata": {},
   "outputs": [
    {
     "name": "stdout",
     "output_type": "stream",
     "text": [
      "Parent Directory : \n",
      "C:\\Users\\manev\\Desktop\n",
      "\n",
      "Files in parent directory : \n",
      "['.belt and pulley ansys_files.backup', '.ipynb_checkpoints', '.tmp.drivedownload', '.tmp.driveupload', '11.SLDASM', '1418100021 IE Assignment 1.docx', '141810021 mcm.docx', '1d0111da-b82e-431e-b799-01204a8ac487.jpg', '2.SLDPRT', '3.SLDPRT', '4.SLDPRT', '5.SLDPRT', 'ACCOUSTIC ANALYSIS OF DOMESTIC MIXER GRINDER.pptx', 'admit cards', 'Advanced-Resume-Templates-Pack', 'afcat.pdf', 'Agriculture T2 141810021.docx', 'Agriculture T2 141810021.pdf', 'Automotive - Introduction to Modern Vehicle Design - BY Civildatas.com.pdf', 'baby.docx', 'baby.pdf', 'belt and pulley ansys_files', 'bhagwat bAHIRE', 'Cisco Webex Meetings.lnk', 'CN.docx', 'Conceptsofphysics1.pdf', 'darr.png', 'dipu.docx', 'documents - Shortcut.lnk', 'Final yr project', 'final yr project registration form.docx', 'Final yr project.pdf', 'Free Fire.lnk', 'Gameloop.lnk', 'gate 2022 - Shortcut.lnk', 'Google Chrome.lnk', 'gravitation working.pptx', 'Gravitation.pptx', 'hybrid car report.docx', 'Ineuron assignments', 'IPR Assignment-4_141810021.docx', 'IPR Assignment-5_141810021.docx', 'IPR_Case_Study_Group.docx', 'Machine_learning', 'Maha GP.lnk', 'MC.docx', 'mcm.pdf', 'MI.docx', 'Microsoft Teams.lnk', 'Microsoft Word 2010 - www.MySoftwareFree.com', 'MMAC anemomter_writeup and questionairre 141810010 and 141810021.pdf', 'MMAC anemomter_writeup-1.docx', 'MMAC anemomter_writeup-1.pdf', 'MMAC Ppt 01 final.pptx', 'MMAC Ppt 01 working.pptx', 'p.SLDPRT', 'Pair of st lines Theory paper.docx', 'png-clipart-sharingan-all-files-mangekyo-sharingan.png', 'priti pharmacy.pdf', 'Project group registration form.docx', 'Python_SL', 'QHTSFT64.EXE', 'Renderings', 'Resume_Vinayak_mane_for_Vinayak_Mane.pdf', 'Sample Papers-2019-20', 'sanchit poly.pdf', 'SMPCILFORM.pdf', 'Telegram.lnk', 'Unacademy (1).lnk', 'Unacademy.lnk', 'Untitled.ipynb', 'VAWT final ppt.pptx', 'vinayak mane coep report 2020.docx', 'vinayak mane coep report 2020.pdf', 'VINAYAK MANE RESUME.pdf', 'vinayak resume.pdf', 'vinayakmane_mechanical.pdf', 'WhatsApp Image 2020-10-07 at 9.25.15 PM.jpeg', 'WhatsApp Image 2020-10-07 at 9.47.45 PM.jpeg', 'WhatsApp Image 2020-11-04 at 2.49.26 PM-min.jpeg', 'wheebox.png', 'working Job Application Form 1.1 (Editable PDF).pdf', '[L2] _ Gravitation - 21st Oct..pdf', '[L3] _ Gravitation - 22nd Oct..pdf', '__MACOSX', '~$dipu.docx']\n"
     ]
    }
   ],
   "source": [
    "print(\"Parent Directory : \")\n",
    "print(os.getcwd())\n",
    "print()\n",
    "print(\"Files in parent directory : \")\n",
    "print(os.listdir())"
   ]
  },
  {
   "cell_type": "code",
   "execution_count": 21,
   "id": "f9dd99aa",
   "metadata": {},
   "outputs": [],
   "source": [
    "files = list(os.listdir())"
   ]
  },
  {
   "cell_type": "code",
   "execution_count": 22,
   "id": "13e8ec60",
   "metadata": {},
   "outputs": [
    {
     "name": "stdout",
     "output_type": "stream",
     "text": [
      "['.belt and pulley ansys_files.backup', '.ipynb_checkpoints', '.tmp.drivedownload', '.tmp.driveupload', '11.SLDASM', '1418100021 IE Assignment 1.docx', '141810021 mcm.docx', '1d0111da-b82e-431e-b799-01204a8ac487.jpg', '2.SLDPRT', '3.SLDPRT', '4.SLDPRT', '5.SLDPRT', 'ACCOUSTIC ANALYSIS OF DOMESTIC MIXER GRINDER.pptx', 'admit cards', 'Advanced-Resume-Templates-Pack', 'afcat.pdf', 'Agriculture T2 141810021.docx', 'Agriculture T2 141810021.pdf', 'Automotive - Introduction to Modern Vehicle Design - BY Civildatas.com.pdf', 'baby.docx', 'baby.pdf', 'belt and pulley ansys_files', 'bhagwat bAHIRE', 'Cisco Webex Meetings.lnk', 'CN.docx', 'Conceptsofphysics1.pdf', 'darr.png', 'dipu.docx', 'documents - Shortcut.lnk', 'Final yr project', 'final yr project registration form.docx', 'Final yr project.pdf', 'Free Fire.lnk', 'Gameloop.lnk', 'gate 2022 - Shortcut.lnk', 'Google Chrome.lnk', 'gravitation working.pptx', 'Gravitation.pptx', 'hybrid car report.docx', 'Ineuron assignments', 'IPR Assignment-4_141810021.docx', 'IPR Assignment-5_141810021.docx', 'IPR_Case_Study_Group.docx', 'Machine_learning', 'Maha GP.lnk', 'MC.docx', 'mcm.pdf', 'MI.docx', 'Microsoft Teams.lnk', 'Microsoft Word 2010 - www.MySoftwareFree.com', 'MMAC anemomter_writeup and questionairre 141810010 and 141810021.pdf', 'MMAC anemomter_writeup-1.docx', 'MMAC anemomter_writeup-1.pdf', 'MMAC Ppt 01 final.pptx', 'MMAC Ppt 01 working.pptx', 'p.SLDPRT', 'Pair of st lines Theory paper.docx', 'png-clipart-sharingan-all-files-mangekyo-sharingan.png', 'priti pharmacy.pdf', 'Project group registration form.docx', 'Python_SL', 'QHTSFT64.EXE', 'Renderings', 'Resume_Vinayak_mane_for_Vinayak_Mane.pdf', 'Sample Papers-2019-20', 'sanchit poly.pdf', 'SMPCILFORM.pdf', 'Telegram.lnk', 'Unacademy (1).lnk', 'Unacademy.lnk', 'Untitled.ipynb', 'VAWT final ppt.pptx', 'vinayak mane coep report 2020.docx', 'vinayak mane coep report 2020.pdf', 'VINAYAK MANE RESUME.pdf', 'vinayak resume.pdf', 'vinayakmane_mechanical.pdf', 'WhatsApp Image 2020-10-07 at 9.25.15 PM.jpeg', 'WhatsApp Image 2020-10-07 at 9.47.45 PM.jpeg', 'WhatsApp Image 2020-11-04 at 2.49.26 PM-min.jpeg', 'wheebox.png', 'working Job Application Form 1.1 (Editable PDF).pdf', '[L2] _ Gravitation - 21st Oct..pdf', '[L3] _ Gravitation - 22nd Oct..pdf', '__MACOSX', '~$dipu.docx']\n"
     ]
    }
   ],
   "source": [
    "print(files)"
   ]
  },
  {
   "cell_type": "code",
   "execution_count": null,
   "id": "41d27c17",
   "metadata": {},
   "outputs": [],
   "source": []
  },
  {
   "cell_type": "markdown",
   "id": "c147ac9d",
   "metadata": {},
   "source": [
    "#### Q6.Use multiprocessing to create three separate processes. Make each one wait a random number of seconds between one and five, print the current time, and then exit."
   ]
  },
  {
   "cell_type": "code",
   "execution_count": 27,
   "id": "50bbde00",
   "metadata": {},
   "outputs": [
    {
     "name": "stdout",
     "output_type": "stream",
     "text": [
      "Requirement already satisfied: zoo in f:\\anaconda\\lib\\site-packages (0.1a0)\n"
     ]
    }
   ],
   "source": [
    "!pip install zoo"
   ]
  },
  {
   "cell_type": "code",
   "execution_count": null,
   "id": "a2269b57",
   "metadata": {},
   "outputs": [],
   "source": [
    "import multiprocessing,time,datetime\n",
    "import zoo \n",
    "\n",
    "def process1():\n",
    "    t1 = random.randint(1,5)\n",
    "    print(\"Waiting for \"+str(t1)+\" seconds\")\n",
    "    time.sleep(t1)\n",
    "    print(datetime.datetime.now())\n",
    "\n",
    "\n",
    "start = time.time()\n",
    "process1 = zoo.process1()\n",
    "process2 = zoo.process1()\n",
    "process3 = zoo.process1()\n",
    "\n",
    "print(datetime.datetime.now())\n",
    "if __name__==\"__main__\":\n",
    "    \n",
    "    \n",
    "    \n",
    "    p1 = multiprocessing.Process(target=process1)\n",
    "    p2 = multiprocessing.Process(target=process2)\n",
    "    p3 = multiprocessing.Process(target=process3)\n",
    "\n",
    "    p1.start()\n",
    "    p2.start()\n",
    "    p3.start()\n",
    "\n",
    "    p1.join()\n",
    "    p2.join()\n",
    "    p3.join()\n",
    "\n",
    "end = time.time()"
   ]
  },
  {
   "cell_type": "code",
   "execution_count": null,
   "id": "0de5d4a6",
   "metadata": {},
   "outputs": [],
   "source": []
  },
  {
   "cell_type": "code",
   "execution_count": null,
   "id": "a80d78d2",
   "metadata": {},
   "outputs": [],
   "source": []
  },
  {
   "cell_type": "code",
   "execution_count": null,
   "id": "4879ae7b",
   "metadata": {},
   "outputs": [],
   "source": []
  }
 ],
 "metadata": {
  "kernelspec": {
   "display_name": "Python 3 (ipykernel)",
   "language": "python",
   "name": "python3"
  },
  "language_info": {
   "codemirror_mode": {
    "name": "ipython",
    "version": 3
   },
   "file_extension": ".py",
   "mimetype": "text/x-python",
   "name": "python",
   "nbconvert_exporter": "python",
   "pygments_lexer": "ipython3",
   "version": "3.9.12"
  }
 },
 "nbformat": 4,
 "nbformat_minor": 5
}
