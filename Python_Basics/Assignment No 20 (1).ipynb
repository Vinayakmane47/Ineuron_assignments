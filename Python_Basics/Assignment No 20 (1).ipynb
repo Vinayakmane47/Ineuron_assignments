{
 "cells": [
  {
   "cell_type": "markdown",
   "id": "cc83d957",
   "metadata": {},
   "source": [
    "## Assignment No. 20"
   ]
  },
  {
   "cell_type": "markdown",
   "id": "12ef611a",
   "metadata": {},
   "source": [
    "#### Q1.Set the variable test1 to the string &#39;This is a test of the emergency text system,&#39; and save test1 to a file named test.txt."
   ]
  },
  {
   "cell_type": "code",
   "execution_count": 1,
   "id": "957abf82",
   "metadata": {},
   "outputs": [],
   "source": [
    "test1 = 'This is a test of the emergency text system'\n",
    "test = open('test.txt','w')\n",
    "test.write(test1)\n",
    "test.close()"
   ]
  },
  {
   "cell_type": "markdown",
   "id": "6f445486",
   "metadata": {},
   "source": [
    "#### Q2.Read the contents of the file test.txt into the variable test2. Is there a difference between test 1 and test 2?"
   ]
  },
  {
   "cell_type": "code",
   "execution_count": 2,
   "id": "95e0b6b3",
   "metadata": {},
   "outputs": [
    {
     "name": "stdout",
     "output_type": "stream",
     "text": [
      "This is a test of the emergency text system\n"
     ]
    }
   ],
   "source": [
    "test = open(\"test.txt\",'r')\n",
    "test2 = test.read()\n",
    "print(test2)\n",
    "test.close()"
   ]
  },
  {
   "cell_type": "markdown",
   "id": "8bc6479b",
   "metadata": {},
   "source": [
    "There is no difference between test1 and test2 variable"
   ]
  },
  {
   "cell_type": "markdown",
   "id": "23d339dd",
   "metadata": {},
   "source": [
    "#### Q3.Create a CSV file called books.csv by using these lines:\n",
    "#### title,author,year\n",
    "#### The Weirdstone of Brisingamen,Alan Garner,1960\n",
    "#### Perdido Street Station,China Miéville,2000\n",
    "#### Thud!,Terry Pratchett,2005\n",
    "#### The Spellman Files,Lisa Lutz,2007\n",
    "#### Small Gods,Terry Pratchett,1992"
   ]
  },
  {
   "cell_type": "code",
   "execution_count": null,
   "id": "12871512",
   "metadata": {},
   "outputs": [],
   "source": [
    "import csv \n",
    "\n",
    "head = ['title','author','year']\n",
    "data = [\n",
    "        ['The Weirdstone of Brisingamen','Alan Garner',1960],\n",
    "        ['Perdido Street Station','China Miéville',2000],\n",
    "        ['Thud!','Terry Pratchett',2005],\n",
    "        ['The Spellman Files','Lisa Lutz',2007],\n",
    "        ['Small Gods','Terry Pratchett',1992]\n",
    "    ]\n",
    "\n",
    "books = open(\"books.csv\",'w', encoding = 'UTF8',newline='')\n",
    "writer = csv.writer(books)\n",
    "writer.writerow(head)\n",
    "writer.writerows(data)\n",
    "books.close()"
   ]
  },
  {
   "cell_type": "markdown",
   "id": "e4a5e55f",
   "metadata": {},
   "source": [
    "#### Q4.Use the sqlite3 module to create a SQLite database called books.db, and a table called books with these fields: title (text), author (text), and year (integer)."
   ]
  },
  {
   "cell_type": "code",
   "execution_count": 5,
   "id": "bc9d99ea",
   "metadata": {},
   "outputs": [],
   "source": [
    "import sqlite3\n",
    "\n",
    "db = sqlite3.connect('books.db')\n",
    "cur = db.cursor()\n",
    "cur.execute(\"CREATE TABLE IF NOT EXISTS books (title VARCHAR(30),author VARCHAR(30),year INT)\")\n",
    "db.close()"
   ]
  },
  {
   "cell_type": "markdown",
   "id": "c6fd8571",
   "metadata": {},
   "source": [
    "#### Q5.Read books.csv and insert its data into the book table."
   ]
  },
  {
   "cell_type": "code",
   "execution_count": 6,
   "id": "6d40f1bc",
   "metadata": {},
   "outputs": [
    {
     "data": {
      "text/plain": [
       "[['title', 'author', 'year'],\n",
       " ['The Weirdstone of Brisingamen', 'Alan Garner', '1960'],\n",
       " ['Perdido Street Station', 'China Miéville', '2000'],\n",
       " ['Thud!', 'Terry Pratchett', '2005'],\n",
       " ['The Spellman Files', 'Lisa Lutz', '2007'],\n",
       " ['Small Gods', 'Terry Pratchett', '1992']]"
      ]
     },
     "execution_count": 6,
     "metadata": {},
     "output_type": "execute_result"
    }
   ],
   "source": [
    "import csv \n",
    "book = open('books.csv','r',encoding='UTF8')\n",
    "data = csv.reader(book)\n",
    "l1 = [] \n",
    "for row in data :\n",
    "    l1.append(row)\n",
    "    \n",
    "l1   "
   ]
  },
  {
   "cell_type": "code",
   "execution_count": 7,
   "id": "a6fb333c",
   "metadata": {},
   "outputs": [],
   "source": [
    "a,b,c,d,e,f = l1\n",
    "a = tuple(a)\n",
    "b = tuple(b)\n",
    "c = tuple(c)\n",
    "d = tuple(d)\n",
    "e = tuple(e)\n",
    "f = tuple(f)\n",
    "rows = [b,c,d,e,f]"
   ]
  },
  {
   "cell_type": "code",
   "execution_count": 8,
   "id": "06c22bab",
   "metadata": {},
   "outputs": [
    {
     "data": {
      "text/plain": [
       "[('The Weirdstone of Brisingamen', 'Alan Garner', '1960'),\n",
       " ('Perdido Street Station', 'China Miéville', '2000'),\n",
       " ('Thud!', 'Terry Pratchett', '2005'),\n",
       " ('The Spellman Files', 'Lisa Lutz', '2007'),\n",
       " ('Small Gods', 'Terry Pratchett', '1992')]"
      ]
     },
     "execution_count": 8,
     "metadata": {},
     "output_type": "execute_result"
    }
   ],
   "source": [
    "rows"
   ]
  },
  {
   "cell_type": "code",
   "execution_count": 9,
   "id": "10dbca7a",
   "metadata": {},
   "outputs": [],
   "source": [
    "# inserting data into books database\n",
    "import sqlite3 \n",
    "db = sqlite3.connect('books.db')\n",
    "cur = db.cursor()\n",
    "cur.executemany(\"INSERT INTO books ('title','author','year') VALUES (?,?,?) \",rows)\n",
    "db.commit()"
   ]
  },
  {
   "cell_type": "code",
   "execution_count": 10,
   "id": "7098147d",
   "metadata": {},
   "outputs": [
    {
     "name": "stdout",
     "output_type": "stream",
     "text": [
      "('The Weirdstone of Brisingamen', 'Alan Garner', 1960)\n",
      "('Perdido Street Station', 'China Miéville', 2000)\n",
      "('Thud!', 'Terry Pratchett', 2005)\n",
      "('The Spellman Files', 'Lisa Lutz', 2007)\n",
      "('Small Gods', 'Terry Pratchett', 1992)\n"
     ]
    }
   ],
   "source": [
    "import sqlite3\n",
    "connection_obj = sqlite3.connect('books.db')\n",
    "cursor_obj = connection_obj.cursor()\n",
    "statement = '''SELECT * FROM books'''\n",
    "cursor_obj.execute(statement)\n",
    "output = cursor_obj.fetchall()\n",
    "for row in output:\n",
    "     print(row)\n",
    "connection_obj.commit()\n",
    "connection_obj.close()"
   ]
  },
  {
   "cell_type": "markdown",
   "id": "784b2bca",
   "metadata": {},
   "source": [
    "#### Q6.Select and print the title column from the book table in alphabetical order."
   ]
  },
  {
   "cell_type": "code",
   "execution_count": 14,
   "id": "3bd35125",
   "metadata": {},
   "outputs": [
    {
     "name": "stdout",
     "output_type": "stream",
     "text": [
      "('Perdido Street Station',)\n",
      "('Small Gods',)\n",
      "('The Spellman Files',)\n",
      "('The Weirdstone of Brisingamen',)\n",
      "('Thud!',)\n"
     ]
    }
   ],
   "source": [
    "import sqlite3\n",
    "db = sqlite3.connect(\"books.db\")\n",
    "cur = db.cursor()\n",
    "cur.execute(\"SELECT title FROM books ORDER BY title \")\n",
    "data = cur.fetchall()\n",
    "for i in data : \n",
    "    print(i)"
   ]
  },
  {
   "cell_type": "markdown",
   "id": "1112ee55",
   "metadata": {},
   "source": [
    "#### Q7.From the book table, select and print all columns in the order of publication."
   ]
  },
  {
   "cell_type": "code",
   "execution_count": 15,
   "id": "855f4e90",
   "metadata": {},
   "outputs": [
    {
     "name": "stdout",
     "output_type": "stream",
     "text": [
      "('The Weirdstone of Brisingamen', 'Alan Garner', 1960)\n",
      "('Small Gods', 'Terry Pratchett', 1992)\n",
      "('Perdido Street Station', 'China Miéville', 2000)\n",
      "('Thud!', 'Terry Pratchett', 2005)\n",
      "('The Spellman Files', 'Lisa Lutz', 2007)\n"
     ]
    }
   ],
   "source": [
    "import sqlite3\n",
    "db = sqlite3.connect(\"books.db\")\n",
    "cur = db.cursor()\n",
    "cur.execute(\"SELECT * FROM books ORDER BY year \")\n",
    "data = cur.fetchall()\n",
    "for i in data : \n",
    "    print(i)"
   ]
  },
  {
   "cell_type": "markdown",
   "id": "80f8ab7d",
   "metadata": {},
   "source": [
    "#### Q8.Use the sqlalchemy module to connect to the sqlite3 database books.db that you just made in exercise 6."
   ]
  },
  {
   "cell_type": "code",
   "execution_count": 1,
   "id": "0b6e29f5",
   "metadata": {},
   "outputs": [
    {
     "name": "stdout",
     "output_type": "stream",
     "text": [
      "Requirement already satisfied: sqlalchemy in f:\\anaconda\\lib\\site-packages (1.4.32)\n",
      "Requirement already satisfied: greenlet!=0.4.17 in f:\\anaconda\\lib\\site-packages (from sqlalchemy) (1.1.1)\n"
     ]
    }
   ],
   "source": [
    "!pip install sqlalchemy\n",
    "!pip install PyMySQL"
   ]
  },
  {
   "cell_type": "code",
   "execution_count": 20,
   "id": "4f08a4ca",
   "metadata": {},
   "outputs": [
    {
     "name": "stdout",
     "output_type": "stream",
     "text": [
      "('The Weirdstone of Brisingamen', 'Alan Garner', 1960)\n",
      "('Perdido Street Station', 'China Miéville', 2000)\n",
      "('Thud!', 'Terry Pratchett', 2005)\n",
      "('The Spellman Files', 'Lisa Lutz', 2007)\n",
      "('Small Gods', 'Terry Pratchett', 1992)\n"
     ]
    }
   ],
   "source": [
    "import sqlalchemy\n",
    "engine = sqlalchemy.create_engine(\"sqlite:///books.db\")\n",
    "rows = engine.execute('select * from books')\n",
    "for i in rows:\n",
    "    print(i)"
   ]
  },
  {
   "cell_type": "markdown",
   "id": "f4bdbc2e",
   "metadata": {},
   "source": [
    "#### Q9.Install the Redis server and the Python redis library (pip install redis) on your computer. Create a Redis hash called test with the fields count (1) and name (&#39;Fester Bestertester&#39;). Print all the fields for test."
   ]
  },
  {
   "cell_type": "code",
   "execution_count": 22,
   "id": "1231ff20",
   "metadata": {},
   "outputs": [
    {
     "name": "stdout",
     "output_type": "stream",
     "text": [
      "Requirement already satisfied: redis in f:\\anaconda\\lib\\site-packages (4.3.4)\n",
      "Requirement already satisfied: async-timeout>=4.0.2 in f:\\anaconda\\lib\\site-packages (from redis) (4.0.2)\n",
      "Requirement already satisfied: deprecated>=1.2.3 in f:\\anaconda\\lib\\site-packages (from redis) (1.2.13)\n",
      "Requirement already satisfied: packaging>=20.4 in f:\\anaconda\\lib\\site-packages (from redis) (21.3)\n",
      "Requirement already satisfied: wrapt<2,>=1.10 in f:\\anaconda\\lib\\site-packages (from deprecated>=1.2.3->redis) (1.12.1)\n",
      "Requirement already satisfied: pyparsing!=3.0.5,>=2.0.2 in f:\\anaconda\\lib\\site-packages (from packaging>=20.4->redis) (3.0.4)\n"
     ]
    }
   ],
   "source": [
    "!pip install redis\n"
   ]
  },
  {
   "cell_type": "code",
   "execution_count": null,
   "id": "b2da82e5",
   "metadata": {},
   "outputs": [],
   "source": [
    "import redis\n",
    "conn = redis.Redis()\n",
    "conn.delete('test')\n",
    "conn.hmset('test', {'count': 1, 'name': 'Fester Bestertester'})\n",
    "conn.hgetall('test')"
   ]
  },
  {
   "cell_type": "markdown",
   "id": "777132ad",
   "metadata": {},
   "source": [
    "#### Q10.Increment the count field of test and print it."
   ]
  },
  {
   "cell_type": "code",
   "execution_count": null,
   "id": "8cd814b8",
   "metadata": {},
   "outputs": [],
   "source": [
    "conn.hincrby('test','count', 3)"
   ]
  },
  {
   "cell_type": "code",
   "execution_count": null,
   "id": "2df337c6",
   "metadata": {},
   "outputs": [],
   "source": []
  },
  {
   "cell_type": "code",
   "execution_count": null,
   "id": "7d420844",
   "metadata": {},
   "outputs": [],
   "source": []
  }
 ],
 "metadata": {
  "kernelspec": {
   "display_name": "Python 3 (ipykernel)",
   "language": "python",
   "name": "python3"
  },
  "language_info": {
   "codemirror_mode": {
    "name": "ipython",
    "version": 3
   },
   "file_extension": ".py",
   "mimetype": "text/x-python",
   "name": "python",
   "nbconvert_exporter": "python",
   "pygments_lexer": "ipython3",
   "version": "3.9.12"
  }
 },
 "nbformat": 4,
 "nbformat_minor": 5
}
