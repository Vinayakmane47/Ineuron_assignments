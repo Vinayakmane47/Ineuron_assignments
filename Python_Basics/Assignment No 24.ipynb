{
 "cells": [
  {
   "cell_type": "markdown",
   "id": "1407baf8",
   "metadata": {},
   "source": [
    "## Assignment No : 24"
   ]
  },
  {
   "cell_type": "markdown",
   "id": "7436093e",
   "metadata": {},
   "source": [
    "#### Q1.What is the relationship between def statements and lambda expressions"
   ]
  },
  {
   "cell_type": "markdown",
   "id": "c411d927",
   "metadata": {},
   "source": [
    "def statement is used to create a function in python followed by function name and arguments to pass. "
   ]
  },
  {
   "cell_type": "markdown",
   "id": "4c2fa7ff",
   "metadata": {},
   "source": [
    "lambda statement do exactly similar functions as def statement but it reduces the code lines , we can create a long function in single line using lambda statement"
   ]
  },
  {
   "cell_type": "code",
   "execution_count": 26,
   "id": "670233c3",
   "metadata": {},
   "outputs": [
    {
     "data": {
      "text/plain": [
       "[0, 2, 4, 6, 8]"
      ]
     },
     "execution_count": 26,
     "metadata": {},
     "output_type": "execute_result"
    }
   ],
   "source": [
    "# printing even numbers with def statement\n",
    "def even(n):\n",
    "    l = []\n",
    "    for i in range(n) : \n",
    "        if i%2 == 0: \n",
    "            l.append(i)   \n",
    "    return l \n",
    "even(10)"
   ]
  },
  {
   "cell_type": "code",
   "execution_count": 29,
   "id": "1acf99f2",
   "metadata": {},
   "outputs": [
    {
     "data": {
      "text/plain": [
       "[0, 2, 4, 6, 8]"
      ]
     },
     "execution_count": 29,
     "metadata": {},
     "output_type": "execute_result"
    }
   ],
   "source": [
    "# printing even numbers with lambda statement\n",
    "even = lambda x :[i for i in range(x) if i%2==0]\n",
    "even(10)"
   ]
  },
  {
   "cell_type": "markdown",
   "id": "2630705b",
   "metadata": {},
   "source": [
    "#### Q2.What is the benefit of lambda?"
   ]
  },
  {
   "cell_type": "markdown",
   "id": "921cd5c9",
   "metadata": {},
   "source": [
    "as explained above we can reduce length of code , we can perform code in single line"
   ]
  },
  {
   "cell_type": "markdown",
   "id": "290a7f49",
   "metadata": {},
   "source": [
    "#### Q3.Compare and contrast map, filter, and reduce."
   ]
  },
  {
   "cell_type": "code",
   "execution_count": 76,
   "id": "3b83a19a",
   "metadata": {},
   "outputs": [
    {
     "data": {
      "text/plain": [
       "[1, 4, 9, 16, 25, 36, 49, 64, 81, 100]"
      ]
     },
     "execution_count": 76,
     "metadata": {},
     "output_type": "execute_result"
    }
   ],
   "source": [
    "# Map function to print squares of number \n",
    "l1 = [1,2,3,4,5,6,7,8,9,10]\n",
    "even = lambda x : x**2\n",
    "evens = map(even,l1)\n",
    "list(evens)"
   ]
  },
  {
   "cell_type": "markdown",
   "id": "49c62052",
   "metadata": {},
   "source": [
    "map function takes the individual value from list at a time and pass it through function "
   ]
  },
  {
   "cell_type": "code",
   "execution_count": 77,
   "id": "87c43616",
   "metadata": {},
   "outputs": [
    {
     "data": {
      "text/plain": [
       "[2, 4, 6, 8, 10]"
      ]
     },
     "execution_count": 77,
     "metadata": {},
     "output_type": "execute_result"
    }
   ],
   "source": [
    "# Filter function to print even number \n",
    "l1 = [1,2,3,4,5,6,7,8,9,10]\n",
    "even = lambda x : ( x %2 == 0)\n",
    "evens = filter(even,l1)\n",
    "list(evens)"
   ]
  },
  {
   "cell_type": "markdown",
   "id": "d7c3b29a",
   "metadata": {},
   "source": [
    "filter function takes a individual value from list and check a boolean condition , if True then return that perticular value. it does not requires return statement like map function , it automatically returns it when perticular condition is matched"
   ]
  },
  {
   "cell_type": "code",
   "execution_count": 81,
   "id": "4f66a040",
   "metadata": {},
   "outputs": [
    {
     "name": "stdout",
     "output_type": "stream",
     "text": [
      "438939648000\n"
     ]
    }
   ],
   "source": [
    "# reduce function \n",
    "from functools import reduce\n",
    "\n",
    "list1 = [1,2,3,4,5,7,8,9,4,5,6,2,1,3,4,7,8,9,5]\n",
    "\n",
    "func = lambda x ,y : x*y \n",
    "mul = reduce(func,list1)\n",
    "print(mul)"
   ]
  },
  {
   "cell_type": "markdown",
   "id": "1e6f2e39",
   "metadata": {},
   "source": [
    "reduce function takes two inputs from passed list and multiply them and then sum up at every iteration and returns the final value"
   ]
  },
  {
   "cell_type": "markdown",
   "id": "e16e8333",
   "metadata": {},
   "source": [
    "#### Q4.What are function annotations, and how are they used?"
   ]
  },
  {
   "cell_type": "markdown",
   "id": "d4182be4",
   "metadata": {},
   "source": [
    "Function annotations are arbitrary python expressions that are associated with various part of functions. These expressions are evaluated at compile time and have no life in python’s runtime environment. Python does not attach any meaning to these annotations. They take life when interpreted by third party libraries, for example, mypy"
   ]
  },
  {
   "cell_type": "code",
   "execution_count": 82,
   "id": "25f5309b",
   "metadata": {},
   "outputs": [
    {
     "name": "stdout",
     "output_type": "stream",
     "text": [
      "{'n': 'int', 'output': 'list', 'return': 'list'}\n"
     ]
    }
   ],
   "source": [
    "\n",
    "# Python program to illustrate Function Annotations\n",
    "def fib(n:'int', output:'list'=[])-> 'list':\n",
    "    if n == 0:\n",
    "        return output\n",
    "    else:\n",
    "        if len(output)< 2:\n",
    "            output.append(1)\n",
    "            fib(n-1, output)\n",
    "        else:\n",
    "            last = output[-1]\n",
    "            second_last = output[-2]\n",
    "            output.append(last + second_last)\n",
    "            fib(n-1, output)\n",
    "        return output\n",
    "print(fib.__annotations__)"
   ]
  },
  {
   "cell_type": "markdown",
   "id": "67d6df0c",
   "metadata": {},
   "source": [
    "#### Q5.What are recursive functions, and how are they used?"
   ]
  },
  {
   "cell_type": "markdown",
   "id": "51a99bc5",
   "metadata": {},
   "source": [
    "The term Recursion can be defined as the process of defining something in terms of itself. In simple words, it is a process in which a function calls itself directly or indirectly"
   ]
  },
  {
   "cell_type": "code",
   "execution_count": 8,
   "id": "de31ca47",
   "metadata": {},
   "outputs": [
    {
     "data": {
      "text/plain": [
       "[1, 1, 2, 3, 5, 8, 13, 21, 34, 55]"
      ]
     },
     "execution_count": 8,
     "metadata": {},
     "output_type": "execute_result"
    }
   ],
   "source": [
    "# creating a fibonacci series using recursion and map function \n",
    "def fibonacii(n): \n",
    "    if n <=1 : \n",
    "        return 1 \n",
    "    else : \n",
    "        \n",
    "        return (fibonacii(n-1) + fibonacii(n-2))\n",
    "l1 = list(range(10))\n",
    "list(map(fibonacii,l1))"
   ]
  },
  {
   "cell_type": "markdown",
   "id": "276d2713",
   "metadata": {},
   "source": [
    "#### Q6.What are some general design guidelines for coding functions?"
   ]
  },
  {
   "cell_type": "markdown",
   "id": "5c42d70c",
   "metadata": {},
   "source": [
    "    Safe: It can be used without causing harm.\n",
    "    Secure: It can't be hacked.\n",
    "    Reliable: It functions as it should, every time.\n",
    "    Testable: It can be tested at the code level.\n",
    "    Maintainable: It can be maintained, even as your codebase grows.\n",
    "    Portable: It works the same in every environment"
   ]
  },
  {
   "cell_type": "markdown",
   "id": "d990e781",
   "metadata": {},
   "source": [
    "#### Q7.Name three or more ways that functions can communicate results to a caller."
   ]
  },
  {
   "cell_type": "markdown",
   "id": "ecd6817f",
   "metadata": {},
   "source": [
    "`yield` \n",
    "\n",
    "`return`\n",
    "\n",
    "`print`\n",
    "\n",
    "`pass`\n",
    "\n",
    "`break`\n",
    "\n",
    "`continue`\n",
    "\n"
   ]
  },
  {
   "cell_type": "code",
   "execution_count": null,
   "id": "e54dd141",
   "metadata": {},
   "outputs": [],
   "source": []
  },
  {
   "cell_type": "code",
   "execution_count": null,
   "id": "12a92063",
   "metadata": {},
   "outputs": [],
   "source": []
  },
  {
   "cell_type": "code",
   "execution_count": null,
   "id": "140b24ad",
   "metadata": {},
   "outputs": [],
   "source": []
  }
 ],
 "metadata": {
  "kernelspec": {
   "display_name": "Python 3 (ipykernel)",
   "language": "python",
   "name": "python3"
  },
  "language_info": {
   "codemirror_mode": {
    "name": "ipython",
    "version": 3
   },
   "file_extension": ".py",
   "mimetype": "text/x-python",
   "name": "python",
   "nbconvert_exporter": "python",
   "pygments_lexer": "ipython3",
   "version": "3.9.12"
  }
 },
 "nbformat": 4,
 "nbformat_minor": 5
}
