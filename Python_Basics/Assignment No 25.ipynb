{
 "cells": [
  {
   "cell_type": "markdown",
   "id": "751228f3",
   "metadata": {},
   "source": [
    "## Assignment No : 25"
   ]
  },
  {
   "cell_type": "markdown",
   "id": "4644f18c",
   "metadata": {},
   "source": [
    "#### Q1.What is the difference between enclosing a list comprehension in square brackets and parentheses?"
   ]
  },
  {
   "cell_type": "code",
   "execution_count": 2,
   "id": "482d5b51",
   "metadata": {},
   "outputs": [
    {
     "name": "stdout",
     "output_type": "stream",
     "text": [
      "<class 'list'>\n",
      "<class 'tuple'>\n"
     ]
    }
   ],
   "source": [
    "l1 = [1,2,3,4,5,6,7,8,9]\n",
    "l2 = (1,2,3,4,5,6,7,8,9)\n",
    "print(type(l1))\n",
    "print(type(l2))"
   ]
  },
  {
   "cell_type": "markdown",
   "id": "ea413026",
   "metadata": {},
   "source": [
    "    when we enclose numbers in parathesis it forms tuple data type \n",
    "    when we enclose numbers in square bracket it forms list data type"
   ]
  },
  {
   "cell_type": "markdown",
   "id": "cc6f261b",
   "metadata": {},
   "source": [
    "#### Q2. What is the relationship between generators and iterators?"
   ]
  },
  {
   "cell_type": "markdown",
   "id": "20f29b80",
   "metadata": {},
   "source": [
    "##### Iterators : \n",
    "An iterator is an object which contains a countable number of values and it is used to iterate over iterable objects like list, tuples, sets, etc. Iterators are implemented using a class and a local variable for iterating is not required here, It follows lazy evaluation where the evaluation of the expression will be on hold and stored in the memory until the item is called specifically which helps us to avoid repeated evaluation"
   ]
  },
  {
   "cell_type": "markdown",
   "id": "5ea45356",
   "metadata": {},
   "source": [
    "##### Generators : \n",
    "It is another way of creating iterators in a simple way where it uses the keyword “yield” instead of returning it in a defined function. Generators are implemented using a function. Just as iterators, generators also follow lazy evaluation. Here, the yield function returns the data without affecting or exiting the function. It will return a sequence of data in an iterable format where we need to iterate over the sequence to use the data as they won’t store the entire sequence in the memory"
   ]
  },
  {
   "cell_type": "markdown",
   "id": "dfa6efc0",
   "metadata": {},
   "source": [
    "##### Q3.What are the signs that a function is a generator function?"
   ]
  },
  {
   "cell_type": "markdown",
   "id": "d682ebf9",
   "metadata": {},
   "source": [
    "`yield`"
   ]
  },
  {
   "cell_type": "code",
   "execution_count": 4,
   "id": "9a7378f5",
   "metadata": {},
   "outputs": [
    {
     "data": {
      "text/plain": [
       "<generator object iter_fun at 0x000002F799D9C040>"
      ]
     },
     "execution_count": 4,
     "metadata": {},
     "output_type": "execute_result"
    }
   ],
   "source": [
    "def iter_fun(): \n",
    "    for i in range(i): \n",
    "        yield i \n",
    "iter_fun()"
   ]
  },
  {
   "cell_type": "markdown",
   "id": "d37c26ab",
   "metadata": {},
   "source": [
    "#### Q4.What is the purpose of a yield statement?"
   ]
  },
  {
   "cell_type": "markdown",
   "id": "3d225fee",
   "metadata": {},
   "source": [
    "The yield statement suspends function's execution and sends a value back to the caller, but retains enough state to enable function to resume where it is left off."
   ]
  },
  {
   "cell_type": "markdown",
   "id": "cdef49bb",
   "metadata": {},
   "source": [
    "#### Q5.What is the relationship between map calls and list comprehensions? Make a comparison and contrast between the two."
   ]
  },
  {
   "cell_type": "markdown",
   "id": "85dfafe5",
   "metadata": {},
   "source": [
    "List comprehension is more concise and easier to read as compared to map. List comprehension are used when a list of results is required as map only returns a map object and does not return any list. Map is faster in case of calling an already defined function (as no lambda is required)."
   ]
  },
  {
   "cell_type": "code",
   "execution_count": null,
   "id": "ab6075fb",
   "metadata": {},
   "outputs": [],
   "source": []
  }
 ],
 "metadata": {
  "kernelspec": {
   "display_name": "Python 3 (ipykernel)",
   "language": "python",
   "name": "python3"
  },
  "language_info": {
   "codemirror_mode": {
    "name": "ipython",
    "version": 3
   },
   "file_extension": ".py",
   "mimetype": "text/x-python",
   "name": "python",
   "nbconvert_exporter": "python",
   "pygments_lexer": "ipython3",
   "version": "3.9.12"
  }
 },
 "nbformat": 4,
 "nbformat_minor": 5
}
