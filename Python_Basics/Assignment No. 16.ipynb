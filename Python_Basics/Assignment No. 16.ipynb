{
 "cells": [
  {
   "cell_type": "markdown",
   "id": "09dce14c",
   "metadata": {},
   "source": [
    "## Assignment No : 16 "
   ]
  },
  {
   "cell_type": "markdown",
   "id": "895e8b49",
   "metadata": {},
   "source": [
    "#### Q1.Create a list called years_list, starting with the year of your birth, and each year thereafter until the year of your fifth birthday. For example, if you were born in 1980. the list would be years_list = [1980, 1981, 1982, 1983, 1984, 1985]."
   ]
  },
  {
   "cell_type": "code",
   "execution_count": 6,
   "id": "516c2dbe",
   "metadata": {},
   "outputs": [
    {
     "name": "stdout",
     "output_type": "stream",
     "text": [
      "[1999, 2000, 2001, 2002, 2003, 2004]\n"
     ]
    }
   ],
   "source": [
    "year_list = []\n",
    "n = 1999\n",
    "i=0\n",
    "while True : \n",
    "    year_list.append(n+i)\n",
    "    if (n+i)== (n+5): \n",
    "        break \n",
    "        \n",
    "    i += 1    \n",
    "print(year_list)  "
   ]
  },
  {
   "cell_type": "markdown",
   "id": "aa9dba33",
   "metadata": {},
   "source": [
    "#### Q2.In which year in years_list was your third birthday? Remember, you were 0 years of age for your first year."
   ]
  },
  {
   "cell_type": "code",
   "execution_count": 7,
   "id": "beb1a80d",
   "metadata": {},
   "outputs": [
    {
     "name": "stdout",
     "output_type": "stream",
     "text": [
      "My third birthday is in year  2002\n"
     ]
    }
   ],
   "source": [
    "print(\"My third birthday is in year \",year_list[3])"
   ]
  },
  {
   "cell_type": "markdown",
   "id": "8d13f506",
   "metadata": {},
   "source": [
    "#### Q3.In the years list, which year were you the oldest?"
   ]
  },
  {
   "cell_type": "code",
   "execution_count": 8,
   "id": "6fedfe48",
   "metadata": {},
   "outputs": [
    {
     "name": "stdout",
     "output_type": "stream",
     "text": [
      "The year in which i am oldest is  2004\n"
     ]
    }
   ],
   "source": [
    "print(\"The year in which i am oldest is \",year_list[-1])"
   ]
  },
  {
   "cell_type": "markdown",
   "id": "f2542763",
   "metadata": {},
   "source": [
    "#### Q4.Make a list called things with these three strings as elements: &quot;mozzarella&quot;, &quot;cinderella&quot;, &quot;salmonella&quot;."
   ]
  },
  {
   "cell_type": "code",
   "execution_count": 13,
   "id": "bbc1b1ea",
   "metadata": {},
   "outputs": [
    {
     "name": "stdout",
     "output_type": "stream",
     "text": [
      "['mozzarella', 'cinderella', 'salmonella']\n"
     ]
    }
   ],
   "source": [
    "things = [\"mozzarella\", \"cinderella\", \"salmonella\"]\n",
    "print(things)"
   ]
  },
  {
   "cell_type": "markdown",
   "id": "6e66cd63",
   "metadata": {},
   "source": [
    "#### Q5.Capitalize the element in things that refers to a person and then print the list. Did it change the element in the list?"
   ]
  },
  {
   "cell_type": "code",
   "execution_count": 15,
   "id": "1b3ce8fe",
   "metadata": {},
   "outputs": [
    {
     "name": "stdout",
     "output_type": "stream",
     "text": [
      "['Mozzarella', 'Cinderella', 'Salmonella']\n"
     ]
    }
   ],
   "source": [
    "for i in range(len(things)): \n",
    "    things[i] = things[i].capitalize()\n",
    "    \n",
    "print(things)"
   ]
  },
  {
   "cell_type": "markdown",
   "id": "eb97fb9b",
   "metadata": {},
   "source": [
    "#### Q6.Make a surprise list with the elements &quot;Groucho,&quot; &quot;Chico,&quot; and &quot;Harpo.&quot;"
   ]
  },
  {
   "cell_type": "code",
   "execution_count": 17,
   "id": "10ea89f0",
   "metadata": {},
   "outputs": [
    {
     "name": "stdout",
     "output_type": "stream",
     "text": [
      "['Groucho', 'Chico', 'Harpo']\n"
     ]
    }
   ],
   "source": [
    "surprise = [\"Groucho\" ,\"Chico\" , \"Harpo\"]\n",
    "print(surprise)"
   ]
  },
  {
   "cell_type": "markdown",
   "id": "22a4f907",
   "metadata": {},
   "source": [
    "#### Q7.Lowercase the last element of the surprise list, reverse it, and then capitalize it."
   ]
  },
  {
   "cell_type": "code",
   "execution_count": 23,
   "id": "208d87a2",
   "metadata": {},
   "outputs": [
    {
     "name": "stdout",
     "output_type": "stream",
     "text": [
      "After Lowercasing the last word in list  :  harpo\n",
      "After reversing the same word :  oprah\n",
      "After Capitalizing the same word :  Oprah\n"
     ]
    }
   ],
   "source": [
    "lower_last = surprise[-1].lower()\n",
    "print(\"After Lowercasing the last word in list  : \" ,lower_last)\n",
    "rev_last = lower_last[::-1]\n",
    "print(\"After reversing the same word : \",rev_last)\n",
    "cap_last = rev_last.capitalize()\n",
    "print(\"After Capitalizing the same word : \" ,cap_last)"
   ]
  },
  {
   "cell_type": "markdown",
   "id": "44790101",
   "metadata": {},
   "source": [
    "#### Q8.Make an English-to-French dictionary called e2f and print it. Here are your starter words: dog is chien, cat is chat, and walrus is morse."
   ]
  },
  {
   "cell_type": "code",
   "execution_count": 24,
   "id": "9631f3e1",
   "metadata": {},
   "outputs": [
    {
     "name": "stdout",
     "output_type": "stream",
     "text": [
      "English to french dictionary : \n",
      "{'dog': 'chien', 'cat': 'chat', 'walrus': 'morse'}\n"
     ]
    }
   ],
   "source": [
    "print(\"English to french dictionary : \")\n",
    "e2f = {\"dog\":\"chien\",\"cat\":\"chat\",\"walrus\":\"morse\"}\n",
    "print(e2f)\n"
   ]
  },
  {
   "cell_type": "markdown",
   "id": "0a04b88f",
   "metadata": {},
   "source": [
    "#### Q9.Write the French word for walrus in your three-word dictionary e2f."
   ]
  },
  {
   "cell_type": "code",
   "execution_count": 25,
   "id": "409fa30e",
   "metadata": {},
   "outputs": [
    {
     "name": "stdout",
     "output_type": "stream",
     "text": [
      "French wor for walrus is :  morse\n"
     ]
    }
   ],
   "source": [
    "print(\"French wor for walrus is : \",e2f[\"walrus\"])"
   ]
  },
  {
   "cell_type": "markdown",
   "id": "47f8e11e",
   "metadata": {},
   "source": [
    "#### Q10.Make a French-to-English dictionary called f2e from e2f. Use the items method."
   ]
  },
  {
   "cell_type": "code",
   "execution_count": 27,
   "id": "662ecb7a",
   "metadata": {},
   "outputs": [
    {
     "name": "stdout",
     "output_type": "stream",
     "text": [
      "French to English Dictionary : \n",
      "{'chien': 'dog', 'chat': 'cat', 'morse': 'walrus'}\n"
     ]
    }
   ],
   "source": [
    "print(\"French to English Dictionary : \")\n",
    "f2e = dict()\n",
    "\n",
    "for key,value in e2f.items(): \n",
    "    f2e[value] = key\n",
    "    \n",
    "print(f2e)"
   ]
  },
  {
   "cell_type": "markdown",
   "id": "1a4c8aec",
   "metadata": {},
   "source": [
    "#### Q11.Print the English version of the French word chien using f2e."
   ]
  },
  {
   "cell_type": "code",
   "execution_count": 28,
   "id": "f8c93a4a",
   "metadata": {},
   "outputs": [
    {
     "name": "stdout",
     "output_type": "stream",
     "text": [
      "English version of French word chien is :  dog\n"
     ]
    }
   ],
   "source": [
    "print(\"English version of French word chien is : \",f2e[\"chien\"])"
   ]
  },
  {
   "cell_type": "markdown",
   "id": "9b93412d",
   "metadata": {},
   "source": [
    "#### Q12.Make and print a set of English words from the keys in e2f."
   ]
  },
  {
   "cell_type": "code",
   "execution_count": 37,
   "id": "dd5d0a6c",
   "metadata": {},
   "outputs": [
    {
     "name": "stdout",
     "output_type": "stream",
     "text": [
      "{'cat', 'dog', 'walrus'}\n"
     ]
    }
   ],
   "source": [
    "print(set(e2f.keys()))"
   ]
  },
  {
   "cell_type": "markdown",
   "id": "1fb8dc6c",
   "metadata": {},
   "source": [
    "#### Q13.Make a multilevel dictionary called life. Use these strings for the topmost keys: &#39;animals&#39;, &#39;plants&#39;, and &#39;other&#39;. Make the &#39;animals&#39; key refer to another dictionary with the keys &#39;cats&#39;, &#39;octopi&#39;, and &#39;emus&#39;. Make the &#39;cats&#39; key refer to a list of strings with the values &#39;Henri&#39;, &#39;Grumpy&#39;, and &#39;Lucy&#39;. Make all the other keys refer to empty dictionaries."
   ]
  },
  {
   "cell_type": "code",
   "execution_count": 47,
   "id": "8f2193e1",
   "metadata": {},
   "outputs": [
    {
     "name": "stdout",
     "output_type": "stream",
     "text": [
      "{'animals': {'cats': ['Henri', 'Grumpy', 'Lucy'], 'octopi': None, 'emus': None}, 'planets': None, 'other': None}\n"
     ]
    }
   ],
   "source": [
    "life = {\"animals\":{\"cats\":['Henri','Grumpy','Lucy'],\"octopi\":None,\"emus\":None} ,\"planets\":None ,\"other\":None }\n",
    "print(life)"
   ]
  },
  {
   "cell_type": "markdown",
   "id": "a570fc70",
   "metadata": {},
   "source": [
    "#### Q14.Print the top-level keys of life."
   ]
  },
  {
   "cell_type": "code",
   "execution_count": 49,
   "id": "3ec3205e",
   "metadata": {},
   "outputs": [
    {
     "name": "stdout",
     "output_type": "stream",
     "text": [
      "Top level Keys are : \n",
      "animals\n",
      "planets\n",
      "other\n"
     ]
    }
   ],
   "source": [
    "print(\"Top level Keys are : \")\n",
    "for i in life : \n",
    "    print(i)"
   ]
  },
  {
   "cell_type": "markdown",
   "id": "37f804a2",
   "metadata": {},
   "source": [
    "#### Q15.Print the keys for life[&#39;animals&#39;]."
   ]
  },
  {
   "cell_type": "code",
   "execution_count": 51,
   "id": "29cb5d9d",
   "metadata": {},
   "outputs": [
    {
     "name": "stdout",
     "output_type": "stream",
     "text": [
      "The keys for life['animals'] are : \n",
      "cats\n",
      "octopi\n",
      "emus\n"
     ]
    }
   ],
   "source": [
    "print(\"The keys for life['animals'] are : \")\n",
    "for  i in life[\"animals\"]: \n",
    "    print(i)"
   ]
  },
  {
   "cell_type": "markdown",
   "id": "bcf33760",
   "metadata": {},
   "source": [
    "#### Q16.Print the values for life[&#39;animals&#39;][&#39;cats&#39;]"
   ]
  },
  {
   "cell_type": "code",
   "execution_count": 52,
   "id": "488aa793",
   "metadata": {},
   "outputs": [
    {
     "name": "stdout",
     "output_type": "stream",
     "text": [
      "Henri\n",
      "Grumpy\n",
      "Lucy\n"
     ]
    }
   ],
   "source": [
    "for i in life['animals']['cats'] : \n",
    "    print(i)"
   ]
  },
  {
   "cell_type": "code",
   "execution_count": null,
   "id": "969fdaf0",
   "metadata": {},
   "outputs": [],
   "source": []
  }
 ],
 "metadata": {
  "kernelspec": {
   "display_name": "Python 3 (ipykernel)",
   "language": "python",
   "name": "python3"
  },
  "language_info": {
   "codemirror_mode": {
    "name": "ipython",
    "version": 3
   },
   "file_extension": ".py",
   "mimetype": "text/x-python",
   "name": "python",
   "nbconvert_exporter": "python",
   "pygments_lexer": "ipython3",
   "version": "3.9.12"
  }
 },
 "nbformat": 4,
 "nbformat_minor": 5
}
