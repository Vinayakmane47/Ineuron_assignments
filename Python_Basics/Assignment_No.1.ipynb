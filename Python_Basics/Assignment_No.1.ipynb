{
 "cells": [
  {
   "cell_type": "markdown",
   "id": "0fdacee7",
   "metadata": {},
   "source": [
    "## Assignment No. 1 : "
   ]
  },
  {
   "cell_type": "markdown",
   "id": "c509b896",
   "metadata": {},
   "source": [
    "#### Q1.  In the below elements which of them are values or an expression?"
   ]
  },
  {
   "cell_type": "markdown",
   "id": "f8054217",
   "metadata": {},
   "source": [
    "Values = 'hello' , -87.6 , 6    \n",
    "Expressions = *,-,/,+ "
   ]
  },
  {
   "cell_type": "markdown",
   "id": "30829f58",
   "metadata": {},
   "source": [
    "#### Q2. What is the difference between string and variable?"
   ]
  },
  {
   "cell_type": "markdown",
   "id": "f4a46a9a",
   "metadata": {},
   "source": [
    "string is  something like a word or sentence which we define in python using '' or \"\" or '''''' it is a type of inormation which we store in variable"
   ]
  },
  {
   "cell_type": "markdown",
   "id": "6207043a",
   "metadata": {},
   "source": [
    "Variable is something like a container in which we can store string or other data types"
   ]
  },
  {
   "cell_type": "markdown",
   "id": "35e1770d",
   "metadata": {},
   "source": [
    "#### Q3.Describe three different data types."
   ]
  },
  {
   "cell_type": "markdown",
   "id": "744f7af6",
   "metadata": {},
   "source": [
    "1. float data type: in this data type we can store a number which have decimal places for  example : 12.34,32.10,45.6217 etc\n",
    "2. boolean data type : boolean data type holds only two values i.e. True or False \n",
    "3. complex data type : in complex data type we can store complex numbers such as 10 + 2j ,-10.32 + 12j ,54 + 0.012j , etc\n",
    "                `"
   ]
  },
  {
   "cell_type": "markdown",
   "id": "a99d8de0",
   "metadata": {},
   "source": [
    "#### Q4.What is an expression made up of? What do all expressions do?"
   ]
  },
  {
   "cell_type": "markdown",
   "id": "892c0ebb",
   "metadata": {},
   "source": [
    "An expressions can do some sort of mathematical operations for example : concatenation of strings , division,multiplication, expontial , square , cube ,etc ."
   ]
  },
  {
   "cell_type": "markdown",
   "id": "a9228924",
   "metadata": {},
   "source": [
    "an expression is made up of mathematical symbols like *,/,-,+ , % += ,-= , // ,%% , etc "
   ]
  },
  {
   "cell_type": "markdown",
   "id": "af49e65b",
   "metadata": {},
   "source": [
    "#### Q5. This assignment statements, like spam = 10. What is the difference between an expression and a statement?"
   ]
  },
  {
   "cell_type": "markdown",
   "id": "4057bf9a",
   "metadata": {},
   "source": [
    "in this example spam have a value equals to 10 is a statement and it represented by a expression equals to ('=')"
   ]
  },
  {
   "cell_type": "markdown",
   "id": "fb61cb48",
   "metadata": {},
   "source": [
    "#### Q6.After running the following code, what does the variable bacon contain?"
   ]
  },
  {
   "cell_type": "code",
   "execution_count": 1,
   "id": "27ac11ec",
   "metadata": {},
   "outputs": [
    {
     "data": {
      "text/plain": [
       "23"
      ]
     },
     "execution_count": 1,
     "metadata": {},
     "output_type": "execute_result"
    }
   ],
   "source": [
    "bacon = 22\n",
    "bacon + 1"
   ]
  },
  {
   "cell_type": "markdown",
   "id": "a01c1cc9",
   "metadata": {},
   "source": [
    "in this example we are trying to increase value of bacon by 1 using '=' expression so the new value of bacon variable is 23 "
   ]
  },
  {
   "cell_type": "markdown",
   "id": "7a33cc49",
   "metadata": {},
   "source": [
    "#### Q7.What should the values of the following two terms be?"
   ]
  },
  {
   "cell_type": "code",
   "execution_count": 4,
   "id": "8cf36121",
   "metadata": {},
   "outputs": [
    {
     "name": "stdout",
     "output_type": "stream",
     "text": [
      "spamspamspam\n",
      "spamspamspam\n"
     ]
    }
   ],
   "source": [
    "print('spam'+ 'spamspam')\n",
    "print('spam'*3)"
   ]
  },
  {
   "cell_type": "markdown",
   "id": "c5d8d116",
   "metadata": {},
   "source": [
    "The two codes produces same values"
   ]
  },
  {
   "cell_type": "markdown",
   "id": "687ee283",
   "metadata": {},
   "source": [
    "#### Q8.Why is eggs a valid variable name while 100 is invalid?"
   ]
  },
  {
   "cell_type": "markdown",
   "id": "7762c4f5",
   "metadata": {},
   "source": [
    "for defining variable we do not include numbers because numbers are automatically considered as integer or floats , so we use letters to define a variable"
   ]
  },
  {
   "cell_type": "markdown",
   "id": "1e957dce",
   "metadata": {},
   "source": [
    "#### Q9. What three functions can be used to get the integer, floating-point number, or string version of a value?"
   ]
  },
  {
   "cell_type": "markdown",
   "id": "5530c892",
   "metadata": {},
   "source": [
    "Suppose we have a value : \n"
   ]
  },
  {
   "cell_type": "code",
   "execution_count": 11,
   "id": "3458c1dc",
   "metadata": {},
   "outputs": [
    {
     "name": "stdout",
     "output_type": "stream",
     "text": [
      "integer format is  10 and data type is <class 'int'>\n",
      "float  format is  10.0 and data type is <class 'float'>\n",
      "string format is  10 and data type is <class 'str'>\n"
     ]
    }
   ],
   "source": [
    "# lets take a random number \n",
    "n = 10 \n",
    "# because python is dynamically typed language so by default it will consider this variable as integer\n",
    "print('integer format is ',int(n), 'and data type is' ,type(n))\n",
    "# floating point of this variable  will be \n",
    "print('float  format is ',float(n), 'and data type is' ,type(float(n)))\n",
    "# string format of this variable is \n",
    "print('string format is ',str(n), 'and data type is' ,type(str(n)))"
   ]
  },
  {
   "cell_type": "markdown",
   "id": "aa0a8f71",
   "metadata": {},
   "source": [
    "#### Q10.Why does this expression cause an error? How can you fix it?"
   ]
  },
  {
   "cell_type": "code",
   "execution_count": 13,
   "id": "f734bdbb",
   "metadata": {},
   "outputs": [
    {
     "ename": "TypeError",
     "evalue": "can only concatenate str (not \"int\") to str",
     "output_type": "error",
     "traceback": [
      "\u001b[1;31m---------------------------------------------------------------------------\u001b[0m",
      "\u001b[1;31mTypeError\u001b[0m                                 Traceback (most recent call last)",
      "Input \u001b[1;32mIn [13]\u001b[0m, in \u001b[0;36m<cell line: 1>\u001b[1;34m()\u001b[0m\n\u001b[1;32m----> 1\u001b[0m \u001b[38;5;124;43m'\u001b[39;49m\u001b[38;5;124;43mI have eaten\u001b[39;49m\u001b[38;5;124;43m'\u001b[39;49m\u001b[38;5;241;43m+\u001b[39;49m\u001b[38;5;241;43m99\u001b[39;49m\u001b[38;5;241m+\u001b[39m \u001b[38;5;124m'\u001b[39m\u001b[38;5;124mburritos\u001b[39m\u001b[38;5;124m'\u001b[39m\n",
      "\u001b[1;31mTypeError\u001b[0m: can only concatenate str (not \"int\") to str"
     ]
    }
   ],
   "source": [
    "'I have eaten'+99+ 'burritos'"
   ]
  },
  {
   "cell_type": "markdown",
   "id": "3a9ab426",
   "metadata": {},
   "source": [
    "it is showing TypeError it means that we are trying to concatenate two different datatypes ,this can fixed by converting them into similar kind of datatypes"
   ]
  },
  {
   "cell_type": "code",
   "execution_count": 16,
   "id": "513bcf01",
   "metadata": {},
   "outputs": [
    {
     "data": {
      "text/plain": [
       "'I have eaten 99 burritos'"
      ]
     },
     "execution_count": 16,
     "metadata": {},
     "output_type": "execute_result"
    }
   ],
   "source": [
    "'I have eaten'+ ' ' + str(99)+ ' ' +  'burritos'"
   ]
  },
  {
   "cell_type": "code",
   "execution_count": null,
   "id": "9290684a",
   "metadata": {},
   "outputs": [],
   "source": []
  }
 ],
 "metadata": {
  "kernelspec": {
   "display_name": "Python 3 (ipykernel)",
   "language": "python",
   "name": "python3"
  },
  "language_info": {
   "codemirror_mode": {
    "name": "ipython",
    "version": 3
   },
   "file_extension": ".py",
   "mimetype": "text/x-python",
   "name": "python",
   "nbconvert_exporter": "python",
   "pygments_lexer": "ipython3",
   "version": "3.9.12"
  }
 },
 "nbformat": 4,
 "nbformat_minor": 5
}
