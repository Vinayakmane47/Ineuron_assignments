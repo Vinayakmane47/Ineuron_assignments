{
 "cells": [
  {
   "cell_type": "markdown",
   "id": "976ed06f",
   "metadata": {},
   "source": [
    "## Assignment No 22"
   ]
  },
  {
   "cell_type": "markdown",
   "id": "41591b84",
   "metadata": {},
   "source": [
    "#### Q1. What is the result of the code, and explain?\n",
    "\n",
    "#### &gt;&gt;&gt; X = &#39;iNeuron&#39;\n",
    "##### &gt;&gt;&gt; def func():\n",
    "##### print(X)"
   ]
  },
  {
   "cell_type": "code",
   "execution_count": 2,
   "id": "e8420b79",
   "metadata": {},
   "outputs": [
    {
     "name": "stdout",
     "output_type": "stream",
     "text": [
      "iNeuron\n"
     ]
    }
   ],
   "source": [
    "X = 'iNeuron'\n",
    "def func(): \n",
    "    print(X)\n",
    "func()"
   ]
  },
  {
   "cell_type": "markdown",
   "id": "ab2decef",
   "metadata": {},
   "source": [
    "iNeuron is printed because X is global variable"
   ]
  },
  {
   "cell_type": "markdown",
   "id": "40951cb9",
   "metadata": {},
   "source": [
    "#### Q2.What is the result of the code, and explain?\n",
    "\n",
    "#### &gt;&gt;&gt; X = &#39;iNeuron&#39;\n",
    "#### &gt;&gt;&gt; def func():\n",
    "#### X = &#39;NI!&#39;\n",
    "\n",
    "#### &gt;&gt;&gt; func()\n",
    "#### &gt;&gt;&gt; print(X)"
   ]
  },
  {
   "cell_type": "code",
   "execution_count": 3,
   "id": "8dfef8a9",
   "metadata": {},
   "outputs": [
    {
     "name": "stdout",
     "output_type": "stream",
     "text": [
      "iNeuron\n"
     ]
    }
   ],
   "source": [
    "X = 'iNeuron'\n",
    "def func(): \n",
    "    X = 'NI!'\n",
    "func()\n",
    "print(X)"
   ]
  },
  {
   "cell_type": "markdown",
   "id": "084d9231",
   "metadata": {},
   "source": [
    "iNeuron is printed because X is global variable"
   ]
  },
  {
   "cell_type": "markdown",
   "id": "6a82af68",
   "metadata": {},
   "source": [
    "#### Q3.What does this code print, and why?\n",
    "\n",
    "#### &gt;&gt;&gt; X = &#39;iNeuron&#39;\n",
    "#### &gt;&gt;&gt; def func():\n",
    "#### X = &#39;NI&#39;\n",
    "#### print(X)\n",
    "\n",
    "#### &gt;&gt;&gt; func()\n",
    "#### &gt;&gt;&gt; print(X)"
   ]
  },
  {
   "cell_type": "code",
   "execution_count": 5,
   "id": "45bdc870",
   "metadata": {},
   "outputs": [
    {
     "name": "stdout",
     "output_type": "stream",
     "text": [
      "NI!\n",
      "iNeuron\n"
     ]
    }
   ],
   "source": [
    "X = 'iNeuron'\n",
    "def func(): \n",
    "    X = 'NI!'\n",
    "    print(X)\n",
    "func()\n",
    "print(X)"
   ]
  },
  {
   "cell_type": "markdown",
   "id": "c2219ef7",
   "metadata": {},
   "source": [
    "Here the function call local variable X ='NI' and then global variable X ='iNeuron' is printed"
   ]
  },
  {
   "cell_type": "markdown",
   "id": "853568ab",
   "metadata": {},
   "source": [
    "#### Q4.What output does this code produce? Why?\n",
    "\n",
    "#### &gt;&gt;&gt; X = &#39;iNeuron&#39;\n",
    "#### &gt;&gt;&gt; def func():\n",
    "#### global X\n",
    "#### X = &#39;NI&#39;\n",
    "\n",
    "#### &gt;&gt;&gt; func()\n",
    "#### &gt;&gt;&gt; print(X)"
   ]
  },
  {
   "cell_type": "code",
   "execution_count": 6,
   "id": "f8883b8a",
   "metadata": {},
   "outputs": [
    {
     "name": "stdout",
     "output_type": "stream",
     "text": [
      "NI!\n"
     ]
    }
   ],
   "source": [
    "X = 'iNeuron'\n",
    "def func(): \n",
    "    global X\n",
    "    X = 'NI!'\n",
    "func()\n",
    "print(X)"
   ]
  },
  {
   "cell_type": "markdown",
   "id": "d1d7375b",
   "metadata": {},
   "source": [
    "here X ='NI!' is defined as global variable so when we call X outside  from function it will printed 'NI!' only."
   ]
  },
  {
   "cell_type": "markdown",
   "id": "7d2075b5",
   "metadata": {},
   "source": [
    "#### Q6.What about this code—what’s the output, and why?\n",
    "#### &gt;&gt;&gt; X = &#39;iNeuron&#39;\n",
    "#### &gt;&gt;&gt; def func():\n",
    "#### X = &#39;NI&#39;\n",
    "#### def nested():\n",
    "#### print(X)\n",
    "#### nested()\n",
    "\n",
    "#### &gt;&gt;&gt; func()\n",
    "##### &gt;&gt;&gt; X"
   ]
  },
  {
   "cell_type": "code",
   "execution_count": 7,
   "id": "d91ae089",
   "metadata": {},
   "outputs": [
    {
     "name": "stdout",
     "output_type": "stream",
     "text": [
      "NI\n"
     ]
    },
    {
     "data": {
      "text/plain": [
       "'iNeuron'"
      ]
     },
     "execution_count": 7,
     "metadata": {},
     "output_type": "execute_result"
    }
   ],
   "source": [
    "X ='iNeuron'\n",
    "def func(): \n",
    "    X ='NI'\n",
    "    def nested(): \n",
    "        print(X)\n",
    "    nested()\n",
    "func()\n",
    "X"
   ]
  },
  {
   "cell_type": "markdown",
   "id": "8a5bc273",
   "metadata": {},
   "source": [
    "it will print local variable X = 'NI' and then global variable X = 'iNeuron'"
   ]
  },
  {
   "cell_type": "markdown",
   "id": "39f971be",
   "metadata": {},
   "source": [
    "#### Q7.How about this code: what is its output in Python 3, and explain?\n",
    "\n",
    "#### &gt;&gt;&gt; def func():\n",
    "#### X = &#39;NI&#39;\n",
    "##### def nested():\n",
    "##### nonlocal X\n",
    "##### X = &#39;Spam&#39;\n",
    "##### nested()\n",
    "##### print(X)\n",
    "\n",
    "##### &gt;&gt;&gt; func()"
   ]
  },
  {
   "cell_type": "code",
   "execution_count": 8,
   "id": "e3cb249b",
   "metadata": {},
   "outputs": [
    {
     "name": "stdout",
     "output_type": "stream",
     "text": [
      "Spam\n"
     ]
    }
   ],
   "source": [
    "def func(): \n",
    "    X ='NI'\n",
    "    def nested(): \n",
    "        nonlocal X \n",
    "        X ='Spam'\n",
    "    nested()\n",
    "    print(X)\n",
    "func()"
   ]
  },
  {
   "cell_type": "markdown",
   "id": "4f6ecaa5",
   "metadata": {},
   "source": [
    "Spam is printed because variable X has changed its value after calling nested function"
   ]
  },
  {
   "cell_type": "code",
   "execution_count": null,
   "id": "a77115c9",
   "metadata": {},
   "outputs": [],
   "source": []
  }
 ],
 "metadata": {
  "kernelspec": {
   "display_name": "Python 3 (ipykernel)",
   "language": "python",
   "name": "python3"
  },
  "language_info": {
   "codemirror_mode": {
    "name": "ipython",
    "version": 3
   },
   "file_extension": ".py",
   "mimetype": "text/x-python",
   "name": "python",
   "nbconvert_exporter": "python",
   "pygments_lexer": "ipython3",
   "version": "3.9.12"
  }
 },
 "nbformat": 4,
 "nbformat_minor": 5
}
