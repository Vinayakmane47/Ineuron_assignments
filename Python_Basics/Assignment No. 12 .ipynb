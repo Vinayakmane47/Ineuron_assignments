{
 "cells": [
  {
   "cell_type": "markdown",
   "id": "105a1663",
   "metadata": {},
   "source": [
    "## Assignment No : 12 "
   ]
  },
  {
   "cell_type": "code",
   "execution_count": 2,
   "id": "20c9c17e",
   "metadata": {},
   "outputs": [
    {
     "name": "stdout",
     "output_type": "stream",
     "text": [
      "Collecting PyPDF2\n",
      "  Downloading PyPDF2-2.8.0-py3-none-any.whl (204 kB)\n",
      "Requirement already satisfied: typing-extensions in f:\\anaconda\\lib\\site-packages (from PyPDF2) (4.1.1)\n",
      "Installing collected packages: PyPDF2\n",
      "Successfully installed PyPDF2-2.8.0\n"
     ]
    }
   ],
   "source": [
    "!pip install PyPDF2"
   ]
  },
  {
   "cell_type": "markdown",
   "id": "4b1fd978",
   "metadata": {},
   "source": [
    "#### Q1. In what modes should the PdfFileReader() and PdfFileWriter() File objects will be opened?"
   ]
  },
  {
   "cell_type": "markdown",
   "id": "57c227e3",
   "metadata": {},
   "source": [
    "`PdfFileReader()` needs to be opened in read-binary mode by passing `'rb'` as the second argument to `open()`. Likewise, the File object passed to PyPDF2. `PdfFileWriter()` needs to be opened in write-binary mode with `'wb'`"
   ]
  },
  {
   "cell_type": "code",
   "execution_count": null,
   "id": "902b66c9",
   "metadata": {},
   "outputs": [],
   "source": [
    "import PyPDF2\n",
    "pdfwriter = PyPDF2.PdfFileWriter(open(\"p1.pdf\", 'wb'))\n",
    "pdfReader = PyPDF2.PdfFileReader(open('p1.pdf', 'rb'))\n"
   ]
  },
  {
   "cell_type": "markdown",
   "id": "8648b08b",
   "metadata": {},
   "source": [
    "#### Q2.From a PdfFileReader object, how do you get a Page object for page 5?"
   ]
  },
  {
   "cell_type": "markdown",
   "id": "6c971f91",
   "metadata": {},
   "source": [
    "with the help of `getPage(4)` we can get page 5."
   ]
  },
  {
   "cell_type": "code",
   "execution_count": null,
   "id": "ea8ff39c",
   "metadata": {},
   "outputs": [],
   "source": [
    "import PyPDF2\n",
    "pdfReader = PyPDF2.PdfFileReader(open('p1.pdf', 'rb'))\n",
    "pdfReader.getPage(4)"
   ]
  },
  {
   "cell_type": "markdown",
   "id": "9c1baa91",
   "metadata": {},
   "source": [
    "#### Q3. What PdfFileReader variable stores the number of pages in the PDF document?"
   ]
  },
  {
   "cell_type": "markdown",
   "id": "48d7a55a",
   "metadata": {},
   "source": [
    "The total number of pages in the document is stored in the numPages attribute of a PdfFileReader object "
   ]
  },
  {
   "cell_type": "markdown",
   "id": "5516c2fc",
   "metadata": {},
   "source": [
    "#### Q4.If a PdfFileReader object’s PDF is encrypted with the password swordfish, what must you do before you can obtain Page objects from it?"
   ]
  },
  {
   "cell_type": "markdown",
   "id": "8c6f80e8",
   "metadata": {},
   "source": [
    "`numPages`"
   ]
  },
  {
   "cell_type": "code",
   "execution_count": null,
   "id": "63def939",
   "metadata": {},
   "outputs": [],
   "source": [
    "import PyPDF2\n",
    "pdfReader = PyPDF2.PdfFileReader(open('p1.pdf', 'rb'))\n",
    "pdfReader.numPages"
   ]
  },
  {
   "cell_type": "markdown",
   "id": "c1297026",
   "metadata": {},
   "source": [
    "#### Q5.What methods do you use to rotate a page?"
   ]
  },
  {
   "cell_type": "markdown",
   "id": "fb512bd5",
   "metadata": {},
   "source": [
    "`pdfReader.rotateClockwise(180)` and `pdfReader.rotateCounterClockwise(180)`"
   ]
  },
  {
   "cell_type": "markdown",
   "id": "5320f90c",
   "metadata": {},
   "source": [
    "#### Q6. What is the difference between a Run object and a Paragraph object?"
   ]
  },
  {
   "cell_type": "markdown",
   "id": "ea9885d2",
   "metadata": {},
   "source": [
    "`Paragraph Object` : A document contains multiple paragraphs. A paragraph begins on a new line and contains multiple runs. The Document object contains a list of Paragraph objects for the paragraphs in the document. (A new paragraph begins whenever the user presses ENTER or RETURN while typing in a Word document.)\n",
    "\n",
    "\n",
    "`Run Objects` : Runs are contiguous groups of characters within a paragraph with the same style"
   ]
  },
  {
   "cell_type": "markdown",
   "id": "b9f54673",
   "metadata": {},
   "source": [
    "#### Q7. How do you obtain a list of Paragraph objects for a Document object that’s stored in a variable named doc?"
   ]
  },
  {
   "cell_type": "markdown",
   "id": "be8851c4",
   "metadata": {},
   "source": [
    "    !pip install python-docx`\n",
    "    import docx\n",
    "    doc = docx.Document('abc.docx')\n",
    "    doc.paragraphs\n",
    "    By using doc.paragraphs we can obtain a list of paragraph objects for a Document object"
   ]
  },
  {
   "cell_type": "markdown",
   "id": "e1440c87",
   "metadata": {},
   "source": [
    "#### Q8. What type of object has bold, underline, italic, strike, and outline variables?"
   ]
  },
  {
   "cell_type": "markdown",
   "id": "1f8ef00c",
   "metadata": {},
   "source": [
    "`Run` Object"
   ]
  },
  {
   "cell_type": "markdown",
   "id": "3ebbb998",
   "metadata": {},
   "source": [
    "#### Q9. What is the difference between False, True, and None for the bold variable?"
   ]
  },
  {
   "cell_type": "markdown",
   "id": "5150ea40",
   "metadata": {},
   "source": [
    "    Runs can be further styled using text attributes. Each attribute can be set to one of three values:\n",
    "    True (the attribute is always enabled, no matter what other styles are applied to the run),\n",
    "    False (the attribute is always disabled),\n",
    "    None (defaults to whatever the run’s style is set to)\n",
    "\n",
    "True always makes the Run object bolded and False makes it always not bolded, no matter what the style’s bold setting is. None will make the Run object just use the style’s bold setting"
   ]
  },
  {
   "cell_type": "markdown",
   "id": "c9219e60",
   "metadata": {},
   "source": [
    "####  Q10. How do you create a Document object for a new Word document?"
   ]
  },
  {
   "cell_type": "markdown",
   "id": "6fd127cf",
   "metadata": {},
   "source": [
    "By using `docx.Document()` we can create a Document object for a new Word document "
   ]
  },
  {
   "cell_type": "markdown",
   "id": "4d381f8f",
   "metadata": {},
   "source": [
    "#### Q11. How do you add a paragraph with the text &#39;Hello, there!&#39; to a Document object stored in a variable named doc?"
   ]
  },
  {
   "cell_type": "code",
   "execution_count": null,
   "id": "a9d305e2",
   "metadata": {},
   "outputs": [],
   "source": [
    "import docx\n",
    "doc = docx.Document()\n",
    "\n",
    "doc.add_paragraph('Hello there!')\n",
    "doc.save('hellothere.docx')"
   ]
  },
  {
   "cell_type": "markdown",
   "id": "7ff4be9d",
   "metadata": {},
   "source": [
    "#### Q12. What integers represent the levels of headings available in Word documents?"
   ]
  },
  {
   "cell_type": "markdown",
   "id": "c7acd31d",
   "metadata": {},
   "source": [
    "    1.integer from 0 to 4\n",
    "    2.The arguments to add_heading() are a string of the heading text and an integer from 0 to 4. The integer 0 makes the heading the Title style, which is used for the top of the document. Integers 1 to 4 are for various heading levels, with 1 being the main heading and 4 the lowest subheading"
   ]
  },
  {
   "cell_type": "code",
   "execution_count": null,
   "id": "7c509700",
   "metadata": {},
   "outputs": [],
   "source": []
  }
 ],
 "metadata": {
  "kernelspec": {
   "display_name": "Python 3 (ipykernel)",
   "language": "python",
   "name": "python3"
  },
  "language_info": {
   "codemirror_mode": {
    "name": "ipython",
    "version": 3
   },
   "file_extension": ".py",
   "mimetype": "text/x-python",
   "name": "python",
   "nbconvert_exporter": "python",
   "pygments_lexer": "ipython3",
   "version": "3.9.12"
  }
 },
 "nbformat": 4,
 "nbformat_minor": 5
}
